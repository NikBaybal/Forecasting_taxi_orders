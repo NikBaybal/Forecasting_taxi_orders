{
  "cells": [
    {
      "cell_type": "markdown",
      "metadata": {
        "id": "view-in-github",
        "colab_type": "text"
      },
      "source": [
        "<a href=\"https://colab.research.google.com/github/NikBaybal/Forecasting_taxi_orders/blob/main/%D0%9F%D1%80%D0%BE%D0%B3%D0%BD%D0%BE%D0%B7_%D0%B7%D0%B0%D0%BA%D0%B0%D0%B7%D0%BE%D0%B2_%D1%82%D0%B0%D0%BA%D1%81%D0%B8_ipynb%22.ipynb\" target=\"_parent\"><img src=\"https://colab.research.google.com/assets/colab-badge.svg\" alt=\"Open In Colab\"/></a>"
      ]
    },
    {
      "cell_type": "markdown",
      "metadata": {
        "toc": true,
        "id": "PphhU1JLGe70"
      },
      "source": [
        "<h1>Содержание<span class=\"tocSkip\"></span></h1>\n",
        "<div class=\"toc\"><ul class=\"toc-item\"><li><span><a href=\"#Подготовка\" data-toc-modified-id=\"Подготовка-1\"><span class=\"toc-item-num\">1&nbsp;&nbsp;</span>Подготовка</a></span><ul class=\"toc-item\"><li><span><a href=\"#Загрузка-и-вывод-данных\" data-toc-modified-id=\"Загрузка-и-вывод-данных-1.1\"><span class=\"toc-item-num\">1.1&nbsp;&nbsp;</span>Загрузка и вывод данных</a></span></li><li><span><a href=\"#Ресемплирование-по-одному-часу\" data-toc-modified-id=\"Ресемплирование-по-одному-часу-1.2\"><span class=\"toc-item-num\">1.2&nbsp;&nbsp;</span>Ресемплирование по одному часу</a></span></li><li><span><a href=\"#Создание-признаков\" data-toc-modified-id=\"Создание-признаков-1.3\"><span class=\"toc-item-num\">1.3&nbsp;&nbsp;</span>Создание признаков</a></span></li></ul></li><li><span><a href=\"#Анализ\" data-toc-modified-id=\"Анализ-2\"><span class=\"toc-item-num\">2&nbsp;&nbsp;</span>Анализ</a></span></li><li><span><a href=\"#Обучение\" data-toc-modified-id=\"Обучение-3\"><span class=\"toc-item-num\">3&nbsp;&nbsp;</span>Обучение</a></span><ul class=\"toc-item\"><li><span><a href=\"#Разделение-данных-на-обучающую-и-тестовую\" data-toc-modified-id=\"Разделение-данных-на-обучающую-и-тестовую-3.1\"><span class=\"toc-item-num\">3.1&nbsp;&nbsp;</span>Разделение данных на обучающую и тестовую</a></span></li><li><span><a href=\"#Расчет-RMSE-разных-моделей-на-тестовой-выборке\" data-toc-modified-id=\"Расчет-RMSE-разных-моделей-на-тестовой-выборке-3.2\"><span class=\"toc-item-num\">3.2&nbsp;&nbsp;</span>Расчет RMSE разных моделей на тестовой выборке</a></span><ul class=\"toc-item\"><li><span><a href=\"#Модель-Dummy-Regression\" data-toc-modified-id=\"Модель-Dummy-Regression-3.2.1\"><span class=\"toc-item-num\">3.2.1&nbsp;&nbsp;</span>Модель Dummy Regression</a></span></li><li><span><a href=\"#Модель--DecisionTree\" data-toc-modified-id=\"Модель--DecisionTree-3.2.2\"><span class=\"toc-item-num\">3.2.2&nbsp;&nbsp;</span>Модель  DecisionTree</a></span></li><li><span><a href=\"#Модель-Random-Forest\" data-toc-modified-id=\"Модель-Random-Forest-3.2.3\"><span class=\"toc-item-num\">3.2.3&nbsp;&nbsp;</span>Модель Random Forest</a></span></li><li><span><a href=\"#Модель-Linear-Regression\" data-toc-modified-id=\"Модель-Linear-Regression-3.2.4\"><span class=\"toc-item-num\">3.2.4&nbsp;&nbsp;</span>Модель Linear Regression</a></span></li><li><span><a href=\"#Модель-XGBoost\" data-toc-modified-id=\"Модель-XGBoost-3.2.5\"><span class=\"toc-item-num\">3.2.5&nbsp;&nbsp;</span>Модель XGBoost</a></span></li></ul></li><li><span><a href=\"#Модель-CatBoost\" data-toc-modified-id=\"Модель-CatBoost-3.3\"><span class=\"toc-item-num\">3.3&nbsp;&nbsp;</span>Модель CatBoost</a></span></li><li><span><a href=\"#Модель-LightGBM\" data-toc-modified-id=\"Модель-LightGBM-3.4\"><span class=\"toc-item-num\">3.4&nbsp;&nbsp;</span>Модель LightGBM</a></span></li></ul></li><li><span><a href=\"#Вывод\" data-toc-modified-id=\"Вывод-4\"><span class=\"toc-item-num\">4&nbsp;&nbsp;</span>Вывод</a></span></li></ul></div>"
      ]
    },
    {
      "cell_type": "markdown",
      "metadata": {
        "id": "SU25q2LMGe71"
      },
      "source": [
        "#  Прогнозирование заказов такси"
      ]
    },
    {
      "cell_type": "markdown",
      "metadata": {
        "id": "5wi05ll_Ge71"
      },
      "source": [
        "Предоставлены исторические данные о заказах такси в аэропортах.\n",
        "\n",
        "Основная задача проекта — построить модель для задачи регрессии, прогнозирующую количество заказов такси на следующий час. Метрика *RMSE* модели на тестовой выборке должно быть не больше 48."
      ]
    },
    {
      "cell_type": "markdown",
      "metadata": {
        "id": "qm0aHFYLGe71"
      },
      "source": [
        "## Подготовка"
      ]
    },
    {
      "cell_type": "markdown",
      "metadata": {
        "id": "kl-tfvTbGe71"
      },
      "source": [
        "### Загрузка и вывод данных"
      ]
    },
    {
      "cell_type": "code",
      "source": [
        "!pip install catboost"
      ],
      "metadata": {
        "colab": {
          "base_uri": "https://localhost:8080/"
        },
        "id": "Osv3XQ7ePjoZ",
        "outputId": "3b7152ce-4938-4d3b-e7af-b8ab9ffbb34e"
      },
      "execution_count": 62,
      "outputs": [
        {
          "output_type": "stream",
          "name": "stdout",
          "text": [
            "Requirement already satisfied: catboost in /usr/local/lib/python3.10/dist-packages (1.2)\n",
            "Requirement already satisfied: graphviz in /usr/local/lib/python3.10/dist-packages (from catboost) (0.20.1)\n",
            "Requirement already satisfied: matplotlib in /usr/local/lib/python3.10/dist-packages (from catboost) (3.7.1)\n",
            "Requirement already satisfied: numpy>=1.16.0 in /usr/local/lib/python3.10/dist-packages (from catboost) (1.23.5)\n",
            "Requirement already satisfied: pandas>=0.24 in /usr/local/lib/python3.10/dist-packages (from catboost) (1.5.3)\n",
            "Requirement already satisfied: scipy in /usr/local/lib/python3.10/dist-packages (from catboost) (1.10.1)\n",
            "Requirement already satisfied: plotly in /usr/local/lib/python3.10/dist-packages (from catboost) (5.15.0)\n",
            "Requirement already satisfied: six in /usr/local/lib/python3.10/dist-packages (from catboost) (1.16.0)\n",
            "Requirement already satisfied: python-dateutil>=2.8.1 in /usr/local/lib/python3.10/dist-packages (from pandas>=0.24->catboost) (2.8.2)\n",
            "Requirement already satisfied: pytz>=2020.1 in /usr/local/lib/python3.10/dist-packages (from pandas>=0.24->catboost) (2023.3)\n",
            "Requirement already satisfied: contourpy>=1.0.1 in /usr/local/lib/python3.10/dist-packages (from matplotlib->catboost) (1.1.0)\n",
            "Requirement already satisfied: cycler>=0.10 in /usr/local/lib/python3.10/dist-packages (from matplotlib->catboost) (0.11.0)\n",
            "Requirement already satisfied: fonttools>=4.22.0 in /usr/local/lib/python3.10/dist-packages (from matplotlib->catboost) (4.42.0)\n",
            "Requirement already satisfied: kiwisolver>=1.0.1 in /usr/local/lib/python3.10/dist-packages (from matplotlib->catboost) (1.4.4)\n",
            "Requirement already satisfied: packaging>=20.0 in /usr/local/lib/python3.10/dist-packages (from matplotlib->catboost) (23.1)\n",
            "Requirement already satisfied: pillow>=6.2.0 in /usr/local/lib/python3.10/dist-packages (from matplotlib->catboost) (9.4.0)\n",
            "Requirement already satisfied: pyparsing>=2.3.1 in /usr/local/lib/python3.10/dist-packages (from matplotlib->catboost) (3.1.1)\n",
            "Requirement already satisfied: tenacity>=6.2.0 in /usr/local/lib/python3.10/dist-packages (from plotly->catboost) (8.2.3)\n"
          ]
        }
      ]
    },
    {
      "cell_type": "code",
      "execution_count": 63,
      "metadata": {
        "id": "fWgMZiu-Ge71"
      },
      "outputs": [],
      "source": [
        "import pandas as pd\n",
        "import numpy as np\n",
        "import matplotlib.pyplot as plt\n",
        "from sklearn.model_selection import train_test_split\n",
        "from numpy.random import RandomState\n",
        "from statsmodels.tsa.seasonal import seasonal_decompose\n",
        "from sklearn.metrics import mean_squared_error\n",
        "from sklearn.model_selection import GridSearchCV\n",
        "from sklearn.tree import DecisionTreeRegressor\n",
        "from sklearn.ensemble import RandomForestRegressor\n",
        "from sklearn.linear_model import LinearRegression\n",
        "from sklearn.dummy import  DummyRegressor\n",
        "from catboost import CatBoostRegressor\n",
        "import xgboost as xgb\n",
        "import lightgbm as lgb\n",
        "from sklearn.model_selection import TimeSeriesSplit\n",
        "from sklearn.metrics import make_scorer"
      ]
    },
    {
      "cell_type": "code",
      "source": [
        "from google.colab import drive\n",
        "drive.mount('/content/drive')"
      ],
      "metadata": {
        "colab": {
          "base_uri": "https://localhost:8080/"
        },
        "id": "il7XKB-sTUBQ",
        "outputId": "1d0bd1fd-c04e-4f9f-ab9a-83cffbcdd8c2"
      },
      "execution_count": 64,
      "outputs": [
        {
          "output_type": "stream",
          "name": "stdout",
          "text": [
            "Drive already mounted at /content/drive; to attempt to forcibly remount, call drive.mount(\"/content/drive\", force_remount=True).\n"
          ]
        }
      ]
    },
    {
      "cell_type": "code",
      "execution_count": 65,
      "metadata": {
        "id": "inh5IPG3Ge72"
      },
      "outputs": [],
      "source": [
        "df=pd.read_csv('/content/drive/MyDrive/Colab Notebooks/YandexPraktikum/datasets/taxi.csv', index_col=[0], parse_dates=[0])\n",
        "df.sort_index(inplace=True)"
      ]
    },
    {
      "cell_type": "code",
      "execution_count": 66,
      "metadata": {
        "colab": {
          "base_uri": "https://localhost:8080/",
          "height": 923
        },
        "id": "bo_N78bEGe72",
        "outputId": "72acc96d-a8ad-4342-860c-623795ebcf48"
      },
      "outputs": [
        {
          "output_type": "stream",
          "name": "stdout",
          "text": [
            "Исходная таблица:\n"
          ]
        },
        {
          "output_type": "display_data",
          "data": {
            "text/plain": [
              "                     num_orders\n",
              "datetime                       \n",
              "2018-03-01 00:00:00           9\n",
              "2018-03-01 00:10:00          14\n",
              "2018-03-01 00:20:00          28\n",
              "2018-03-01 00:30:00          20\n",
              "2018-03-01 00:40:00          32\n",
              "...                         ...\n",
              "2018-08-31 23:10:00          32\n",
              "2018-08-31 23:20:00          24\n",
              "2018-08-31 23:30:00          27\n",
              "2018-08-31 23:40:00          39\n",
              "2018-08-31 23:50:00          53\n",
              "\n",
              "[26496 rows x 1 columns]"
            ],
            "text/html": [
              "\n",
              "  <div id=\"df-f5606aba-6d2d-4bfc-8dc3-40ff979fdc61\" class=\"colab-df-container\">\n",
              "    <div>\n",
              "<style scoped>\n",
              "    .dataframe tbody tr th:only-of-type {\n",
              "        vertical-align: middle;\n",
              "    }\n",
              "\n",
              "    .dataframe tbody tr th {\n",
              "        vertical-align: top;\n",
              "    }\n",
              "\n",
              "    .dataframe thead th {\n",
              "        text-align: right;\n",
              "    }\n",
              "</style>\n",
              "<table border=\"1\" class=\"dataframe\">\n",
              "  <thead>\n",
              "    <tr style=\"text-align: right;\">\n",
              "      <th></th>\n",
              "      <th>num_orders</th>\n",
              "    </tr>\n",
              "    <tr>\n",
              "      <th>datetime</th>\n",
              "      <th></th>\n",
              "    </tr>\n",
              "  </thead>\n",
              "  <tbody>\n",
              "    <tr>\n",
              "      <th>2018-03-01 00:00:00</th>\n",
              "      <td>9</td>\n",
              "    </tr>\n",
              "    <tr>\n",
              "      <th>2018-03-01 00:10:00</th>\n",
              "      <td>14</td>\n",
              "    </tr>\n",
              "    <tr>\n",
              "      <th>2018-03-01 00:20:00</th>\n",
              "      <td>28</td>\n",
              "    </tr>\n",
              "    <tr>\n",
              "      <th>2018-03-01 00:30:00</th>\n",
              "      <td>20</td>\n",
              "    </tr>\n",
              "    <tr>\n",
              "      <th>2018-03-01 00:40:00</th>\n",
              "      <td>32</td>\n",
              "    </tr>\n",
              "    <tr>\n",
              "      <th>...</th>\n",
              "      <td>...</td>\n",
              "    </tr>\n",
              "    <tr>\n",
              "      <th>2018-08-31 23:10:00</th>\n",
              "      <td>32</td>\n",
              "    </tr>\n",
              "    <tr>\n",
              "      <th>2018-08-31 23:20:00</th>\n",
              "      <td>24</td>\n",
              "    </tr>\n",
              "    <tr>\n",
              "      <th>2018-08-31 23:30:00</th>\n",
              "      <td>27</td>\n",
              "    </tr>\n",
              "    <tr>\n",
              "      <th>2018-08-31 23:40:00</th>\n",
              "      <td>39</td>\n",
              "    </tr>\n",
              "    <tr>\n",
              "      <th>2018-08-31 23:50:00</th>\n",
              "      <td>53</td>\n",
              "    </tr>\n",
              "  </tbody>\n",
              "</table>\n",
              "<p>26496 rows × 1 columns</p>\n",
              "</div>\n",
              "    <div class=\"colab-df-buttons\">\n",
              "\n",
              "  <div class=\"colab-df-container\">\n",
              "    <button class=\"colab-df-convert\" onclick=\"convertToInteractive('df-f5606aba-6d2d-4bfc-8dc3-40ff979fdc61')\"\n",
              "            title=\"Convert this dataframe to an interactive table.\"\n",
              "            style=\"display:none;\">\n",
              "\n",
              "  <svg xmlns=\"http://www.w3.org/2000/svg\" height=\"24px\" viewBox=\"0 -960 960 960\">\n",
              "    <path d=\"M120-120v-720h720v720H120Zm60-500h600v-160H180v160Zm220 220h160v-160H400v160Zm0 220h160v-160H400v160ZM180-400h160v-160H180v160Zm440 0h160v-160H620v160ZM180-180h160v-160H180v160Zm440 0h160v-160H620v160Z\"/>\n",
              "  </svg>\n",
              "    </button>\n",
              "\n",
              "  <style>\n",
              "    .colab-df-container {\n",
              "      display:flex;\n",
              "      gap: 12px;\n",
              "    }\n",
              "\n",
              "    .colab-df-convert {\n",
              "      background-color: #E8F0FE;\n",
              "      border: none;\n",
              "      border-radius: 50%;\n",
              "      cursor: pointer;\n",
              "      display: none;\n",
              "      fill: #1967D2;\n",
              "      height: 32px;\n",
              "      padding: 0 0 0 0;\n",
              "      width: 32px;\n",
              "    }\n",
              "\n",
              "    .colab-df-convert:hover {\n",
              "      background-color: #E2EBFA;\n",
              "      box-shadow: 0px 1px 2px rgba(60, 64, 67, 0.3), 0px 1px 3px 1px rgba(60, 64, 67, 0.15);\n",
              "      fill: #174EA6;\n",
              "    }\n",
              "\n",
              "    .colab-df-buttons div {\n",
              "      margin-bottom: 4px;\n",
              "    }\n",
              "\n",
              "    [theme=dark] .colab-df-convert {\n",
              "      background-color: #3B4455;\n",
              "      fill: #D2E3FC;\n",
              "    }\n",
              "\n",
              "    [theme=dark] .colab-df-convert:hover {\n",
              "      background-color: #434B5C;\n",
              "      box-shadow: 0px 1px 3px 1px rgba(0, 0, 0, 0.15);\n",
              "      filter: drop-shadow(0px 1px 2px rgba(0, 0, 0, 0.3));\n",
              "      fill: #FFFFFF;\n",
              "    }\n",
              "  </style>\n",
              "\n",
              "    <script>\n",
              "      const buttonEl =\n",
              "        document.querySelector('#df-f5606aba-6d2d-4bfc-8dc3-40ff979fdc61 button.colab-df-convert');\n",
              "      buttonEl.style.display =\n",
              "        google.colab.kernel.accessAllowed ? 'block' : 'none';\n",
              "\n",
              "      async function convertToInteractive(key) {\n",
              "        const element = document.querySelector('#df-f5606aba-6d2d-4bfc-8dc3-40ff979fdc61');\n",
              "        const dataTable =\n",
              "          await google.colab.kernel.invokeFunction('convertToInteractive',\n",
              "                                                    [key], {});\n",
              "        if (!dataTable) return;\n",
              "\n",
              "        const docLinkHtml = 'Like what you see? Visit the ' +\n",
              "          '<a target=\"_blank\" href=https://colab.research.google.com/notebooks/data_table.ipynb>data table notebook</a>'\n",
              "          + ' to learn more about interactive tables.';\n",
              "        element.innerHTML = '';\n",
              "        dataTable['output_type'] = 'display_data';\n",
              "        await google.colab.output.renderOutput(dataTable, element);\n",
              "        const docLink = document.createElement('div');\n",
              "        docLink.innerHTML = docLinkHtml;\n",
              "        element.appendChild(docLink);\n",
              "      }\n",
              "    </script>\n",
              "  </div>\n",
              "\n",
              "\n",
              "<div id=\"df-ff2a84b7-99f0-43ac-bbe5-dcc3f6f70a92\">\n",
              "  <button class=\"colab-df-quickchart\" onclick=\"quickchart('df-ff2a84b7-99f0-43ac-bbe5-dcc3f6f70a92')\"\n",
              "            title=\"Suggest charts.\"\n",
              "            style=\"display:none;\">\n",
              "\n",
              "<svg xmlns=\"http://www.w3.org/2000/svg\" height=\"24px\"viewBox=\"0 0 24 24\"\n",
              "     width=\"24px\">\n",
              "    <g>\n",
              "        <path d=\"M19 3H5c-1.1 0-2 .9-2 2v14c0 1.1.9 2 2 2h14c1.1 0 2-.9 2-2V5c0-1.1-.9-2-2-2zM9 17H7v-7h2v7zm4 0h-2V7h2v10zm4 0h-2v-4h2v4z\"/>\n",
              "    </g>\n",
              "</svg>\n",
              "  </button>\n",
              "\n",
              "<style>\n",
              "  .colab-df-quickchart {\n",
              "    background-color: #E8F0FE;\n",
              "    border: none;\n",
              "    border-radius: 50%;\n",
              "    cursor: pointer;\n",
              "    display: none;\n",
              "    fill: #1967D2;\n",
              "    height: 32px;\n",
              "    padding: 0 0 0 0;\n",
              "    width: 32px;\n",
              "  }\n",
              "\n",
              "  .colab-df-quickchart:hover {\n",
              "    background-color: #E2EBFA;\n",
              "    box-shadow: 0px 1px 2px rgba(60, 64, 67, 0.3), 0px 1px 3px 1px rgba(60, 64, 67, 0.15);\n",
              "    fill: #174EA6;\n",
              "  }\n",
              "\n",
              "  [theme=dark] .colab-df-quickchart {\n",
              "    background-color: #3B4455;\n",
              "    fill: #D2E3FC;\n",
              "  }\n",
              "\n",
              "  [theme=dark] .colab-df-quickchart:hover {\n",
              "    background-color: #434B5C;\n",
              "    box-shadow: 0px 1px 3px 1px rgba(0, 0, 0, 0.15);\n",
              "    filter: drop-shadow(0px 1px 2px rgba(0, 0, 0, 0.3));\n",
              "    fill: #FFFFFF;\n",
              "  }\n",
              "</style>\n",
              "\n",
              "  <script>\n",
              "    async function quickchart(key) {\n",
              "      const charts = await google.colab.kernel.invokeFunction(\n",
              "          'suggestCharts', [key], {});\n",
              "    }\n",
              "    (() => {\n",
              "      let quickchartButtonEl =\n",
              "        document.querySelector('#df-ff2a84b7-99f0-43ac-bbe5-dcc3f6f70a92 button');\n",
              "      quickchartButtonEl.style.display =\n",
              "        google.colab.kernel.accessAllowed ? 'block' : 'none';\n",
              "    })();\n",
              "  </script>\n",
              "</div>\n",
              "    </div>\n",
              "  </div>\n"
            ]
          },
          "metadata": {}
        },
        {
          "output_type": "stream",
          "name": "stdout",
          "text": [
            "\n",
            "Информация о таблице:\n",
            "<class 'pandas.core.frame.DataFrame'>\n",
            "DatetimeIndex: 26496 entries, 2018-03-01 00:00:00 to 2018-08-31 23:50:00\n",
            "Data columns (total 1 columns):\n",
            " #   Column      Non-Null Count  Dtype\n",
            "---  ------      --------------  -----\n",
            " 0   num_orders  26496 non-null  int64\n",
            "dtypes: int64(1)\n",
            "memory usage: 414.0 KB\n",
            "None\n",
            "\n",
            "Статистические данные количественных значений:\n",
            "         num_orders\n",
            "count  26496.000000\n",
            "mean      14.070463\n",
            "std        9.211330\n",
            "min        0.000000\n",
            "25%        8.000000\n",
            "50%       13.000000\n",
            "75%       19.000000\n",
            "max      119.000000\n",
            "\n",
            "Количество пропущенных значений:\n",
            "num_orders    0\n",
            "dtype: int64\n"
          ]
        }
      ],
      "source": [
        "def info_table(data):\n",
        "    print('Исходная таблица:')\n",
        "    display(data)\n",
        "    print()\n",
        "    print('Информация о таблице:')\n",
        "    print(data.info())\n",
        "    print()\n",
        "    print('Статистические данные количественных значений:')\n",
        "    print(data.describe())\n",
        "    print()\n",
        "    print('Количество пропущенных значений:')\n",
        "    print(data.isnull().sum())\n",
        "\n",
        "info_table(df)"
      ]
    },
    {
      "cell_type": "markdown",
      "metadata": {
        "id": "gmojAIZ0Ge73"
      },
      "source": [
        "### Ресемплирование по одному часу"
      ]
    },
    {
      "cell_type": "code",
      "execution_count": 67,
      "metadata": {
        "scrolled": false,
        "colab": {
          "base_uri": "https://localhost:8080/",
          "height": 941
        },
        "id": "mWxJx1QSGe73",
        "outputId": "d4f38aa7-41d7-4626-8d3f-a0c80050ab4a"
      },
      "outputs": [
        {
          "output_type": "stream",
          "name": "stdout",
          "text": [
            "Исходная таблица:\n"
          ]
        },
        {
          "output_type": "display_data",
          "data": {
            "text/plain": [
              "                     num_orders\n",
              "datetime                       \n",
              "2018-03-01 00:00:00         124\n",
              "2018-03-01 01:00:00          85\n",
              "2018-03-01 02:00:00          71\n",
              "2018-03-01 03:00:00          66\n",
              "2018-03-01 04:00:00          43\n",
              "...                         ...\n",
              "2018-08-31 19:00:00         136\n",
              "2018-08-31 20:00:00         154\n",
              "2018-08-31 21:00:00         159\n",
              "2018-08-31 22:00:00         223\n",
              "2018-08-31 23:00:00         205\n",
              "\n",
              "[4416 rows x 1 columns]"
            ],
            "text/html": [
              "\n",
              "  <div id=\"df-ecf0b3db-cc8e-4ec4-9754-b6c46c6f20e1\" class=\"colab-df-container\">\n",
              "    <div>\n",
              "<style scoped>\n",
              "    .dataframe tbody tr th:only-of-type {\n",
              "        vertical-align: middle;\n",
              "    }\n",
              "\n",
              "    .dataframe tbody tr th {\n",
              "        vertical-align: top;\n",
              "    }\n",
              "\n",
              "    .dataframe thead th {\n",
              "        text-align: right;\n",
              "    }\n",
              "</style>\n",
              "<table border=\"1\" class=\"dataframe\">\n",
              "  <thead>\n",
              "    <tr style=\"text-align: right;\">\n",
              "      <th></th>\n",
              "      <th>num_orders</th>\n",
              "    </tr>\n",
              "    <tr>\n",
              "      <th>datetime</th>\n",
              "      <th></th>\n",
              "    </tr>\n",
              "  </thead>\n",
              "  <tbody>\n",
              "    <tr>\n",
              "      <th>2018-03-01 00:00:00</th>\n",
              "      <td>124</td>\n",
              "    </tr>\n",
              "    <tr>\n",
              "      <th>2018-03-01 01:00:00</th>\n",
              "      <td>85</td>\n",
              "    </tr>\n",
              "    <tr>\n",
              "      <th>2018-03-01 02:00:00</th>\n",
              "      <td>71</td>\n",
              "    </tr>\n",
              "    <tr>\n",
              "      <th>2018-03-01 03:00:00</th>\n",
              "      <td>66</td>\n",
              "    </tr>\n",
              "    <tr>\n",
              "      <th>2018-03-01 04:00:00</th>\n",
              "      <td>43</td>\n",
              "    </tr>\n",
              "    <tr>\n",
              "      <th>...</th>\n",
              "      <td>...</td>\n",
              "    </tr>\n",
              "    <tr>\n",
              "      <th>2018-08-31 19:00:00</th>\n",
              "      <td>136</td>\n",
              "    </tr>\n",
              "    <tr>\n",
              "      <th>2018-08-31 20:00:00</th>\n",
              "      <td>154</td>\n",
              "    </tr>\n",
              "    <tr>\n",
              "      <th>2018-08-31 21:00:00</th>\n",
              "      <td>159</td>\n",
              "    </tr>\n",
              "    <tr>\n",
              "      <th>2018-08-31 22:00:00</th>\n",
              "      <td>223</td>\n",
              "    </tr>\n",
              "    <tr>\n",
              "      <th>2018-08-31 23:00:00</th>\n",
              "      <td>205</td>\n",
              "    </tr>\n",
              "  </tbody>\n",
              "</table>\n",
              "<p>4416 rows × 1 columns</p>\n",
              "</div>\n",
              "    <div class=\"colab-df-buttons\">\n",
              "\n",
              "  <div class=\"colab-df-container\">\n",
              "    <button class=\"colab-df-convert\" onclick=\"convertToInteractive('df-ecf0b3db-cc8e-4ec4-9754-b6c46c6f20e1')\"\n",
              "            title=\"Convert this dataframe to an interactive table.\"\n",
              "            style=\"display:none;\">\n",
              "\n",
              "  <svg xmlns=\"http://www.w3.org/2000/svg\" height=\"24px\" viewBox=\"0 -960 960 960\">\n",
              "    <path d=\"M120-120v-720h720v720H120Zm60-500h600v-160H180v160Zm220 220h160v-160H400v160Zm0 220h160v-160H400v160ZM180-400h160v-160H180v160Zm440 0h160v-160H620v160ZM180-180h160v-160H180v160Zm440 0h160v-160H620v160Z\"/>\n",
              "  </svg>\n",
              "    </button>\n",
              "\n",
              "  <style>\n",
              "    .colab-df-container {\n",
              "      display:flex;\n",
              "      gap: 12px;\n",
              "    }\n",
              "\n",
              "    .colab-df-convert {\n",
              "      background-color: #E8F0FE;\n",
              "      border: none;\n",
              "      border-radius: 50%;\n",
              "      cursor: pointer;\n",
              "      display: none;\n",
              "      fill: #1967D2;\n",
              "      height: 32px;\n",
              "      padding: 0 0 0 0;\n",
              "      width: 32px;\n",
              "    }\n",
              "\n",
              "    .colab-df-convert:hover {\n",
              "      background-color: #E2EBFA;\n",
              "      box-shadow: 0px 1px 2px rgba(60, 64, 67, 0.3), 0px 1px 3px 1px rgba(60, 64, 67, 0.15);\n",
              "      fill: #174EA6;\n",
              "    }\n",
              "\n",
              "    .colab-df-buttons div {\n",
              "      margin-bottom: 4px;\n",
              "    }\n",
              "\n",
              "    [theme=dark] .colab-df-convert {\n",
              "      background-color: #3B4455;\n",
              "      fill: #D2E3FC;\n",
              "    }\n",
              "\n",
              "    [theme=dark] .colab-df-convert:hover {\n",
              "      background-color: #434B5C;\n",
              "      box-shadow: 0px 1px 3px 1px rgba(0, 0, 0, 0.15);\n",
              "      filter: drop-shadow(0px 1px 2px rgba(0, 0, 0, 0.3));\n",
              "      fill: #FFFFFF;\n",
              "    }\n",
              "  </style>\n",
              "\n",
              "    <script>\n",
              "      const buttonEl =\n",
              "        document.querySelector('#df-ecf0b3db-cc8e-4ec4-9754-b6c46c6f20e1 button.colab-df-convert');\n",
              "      buttonEl.style.display =\n",
              "        google.colab.kernel.accessAllowed ? 'block' : 'none';\n",
              "\n",
              "      async function convertToInteractive(key) {\n",
              "        const element = document.querySelector('#df-ecf0b3db-cc8e-4ec4-9754-b6c46c6f20e1');\n",
              "        const dataTable =\n",
              "          await google.colab.kernel.invokeFunction('convertToInteractive',\n",
              "                                                    [key], {});\n",
              "        if (!dataTable) return;\n",
              "\n",
              "        const docLinkHtml = 'Like what you see? Visit the ' +\n",
              "          '<a target=\"_blank\" href=https://colab.research.google.com/notebooks/data_table.ipynb>data table notebook</a>'\n",
              "          + ' to learn more about interactive tables.';\n",
              "        element.innerHTML = '';\n",
              "        dataTable['output_type'] = 'display_data';\n",
              "        await google.colab.output.renderOutput(dataTable, element);\n",
              "        const docLink = document.createElement('div');\n",
              "        docLink.innerHTML = docLinkHtml;\n",
              "        element.appendChild(docLink);\n",
              "      }\n",
              "    </script>\n",
              "  </div>\n",
              "\n",
              "\n",
              "<div id=\"df-0c66ed64-7479-45a2-96c1-d91f74b9e56e\">\n",
              "  <button class=\"colab-df-quickchart\" onclick=\"quickchart('df-0c66ed64-7479-45a2-96c1-d91f74b9e56e')\"\n",
              "            title=\"Suggest charts.\"\n",
              "            style=\"display:none;\">\n",
              "\n",
              "<svg xmlns=\"http://www.w3.org/2000/svg\" height=\"24px\"viewBox=\"0 0 24 24\"\n",
              "     width=\"24px\">\n",
              "    <g>\n",
              "        <path d=\"M19 3H5c-1.1 0-2 .9-2 2v14c0 1.1.9 2 2 2h14c1.1 0 2-.9 2-2V5c0-1.1-.9-2-2-2zM9 17H7v-7h2v7zm4 0h-2V7h2v10zm4 0h-2v-4h2v4z\"/>\n",
              "    </g>\n",
              "</svg>\n",
              "  </button>\n",
              "\n",
              "<style>\n",
              "  .colab-df-quickchart {\n",
              "    background-color: #E8F0FE;\n",
              "    border: none;\n",
              "    border-radius: 50%;\n",
              "    cursor: pointer;\n",
              "    display: none;\n",
              "    fill: #1967D2;\n",
              "    height: 32px;\n",
              "    padding: 0 0 0 0;\n",
              "    width: 32px;\n",
              "  }\n",
              "\n",
              "  .colab-df-quickchart:hover {\n",
              "    background-color: #E2EBFA;\n",
              "    box-shadow: 0px 1px 2px rgba(60, 64, 67, 0.3), 0px 1px 3px 1px rgba(60, 64, 67, 0.15);\n",
              "    fill: #174EA6;\n",
              "  }\n",
              "\n",
              "  [theme=dark] .colab-df-quickchart {\n",
              "    background-color: #3B4455;\n",
              "    fill: #D2E3FC;\n",
              "  }\n",
              "\n",
              "  [theme=dark] .colab-df-quickchart:hover {\n",
              "    background-color: #434B5C;\n",
              "    box-shadow: 0px 1px 3px 1px rgba(0, 0, 0, 0.15);\n",
              "    filter: drop-shadow(0px 1px 2px rgba(0, 0, 0, 0.3));\n",
              "    fill: #FFFFFF;\n",
              "  }\n",
              "</style>\n",
              "\n",
              "  <script>\n",
              "    async function quickchart(key) {\n",
              "      const charts = await google.colab.kernel.invokeFunction(\n",
              "          'suggestCharts', [key], {});\n",
              "    }\n",
              "    (() => {\n",
              "      let quickchartButtonEl =\n",
              "        document.querySelector('#df-0c66ed64-7479-45a2-96c1-d91f74b9e56e button');\n",
              "      quickchartButtonEl.style.display =\n",
              "        google.colab.kernel.accessAllowed ? 'block' : 'none';\n",
              "    })();\n",
              "  </script>\n",
              "</div>\n",
              "    </div>\n",
              "  </div>\n"
            ]
          },
          "metadata": {}
        },
        {
          "output_type": "stream",
          "name": "stdout",
          "text": [
            "\n",
            "Информация о таблице:\n",
            "<class 'pandas.core.frame.DataFrame'>\n",
            "DatetimeIndex: 4416 entries, 2018-03-01 00:00:00 to 2018-08-31 23:00:00\n",
            "Freq: H\n",
            "Data columns (total 1 columns):\n",
            " #   Column      Non-Null Count  Dtype\n",
            "---  ------      --------------  -----\n",
            " 0   num_orders  4416 non-null   int64\n",
            "dtypes: int64(1)\n",
            "memory usage: 69.0 KB\n",
            "None\n",
            "\n",
            "Статистические данные количественных значений:\n",
            "        num_orders\n",
            "count  4416.000000\n",
            "mean     84.422781\n",
            "std      45.023853\n",
            "min       0.000000\n",
            "25%      54.000000\n",
            "50%      78.000000\n",
            "75%     107.000000\n",
            "max     462.000000\n",
            "\n",
            "Количество пропущенных значений:\n",
            "num_orders    0\n",
            "dtype: int64\n"
          ]
        }
      ],
      "source": [
        "df_hour = df.resample('1H').sum()\n",
        "info_table(df_hour)"
      ]
    },
    {
      "cell_type": "markdown",
      "metadata": {
        "id": "raLS-kmtGe74"
      },
      "source": [
        "### Создание признаков"
      ]
    },
    {
      "cell_type": "code",
      "execution_count": 68,
      "metadata": {
        "id": "cEblm_pfGe74"
      },
      "outputs": [],
      "source": [
        "def make_features(data, max_lag, rolling_mean_size):\n",
        "    data['dayofweek'] = data.index.dayofweek\n",
        "    data['hour'] = data.index.hour\n",
        "    for lag in range(1, max_lag + 1):\n",
        "        data['lag_{}'.format(lag)] = data['num_orders'].shift(lag)\n",
        "\n",
        "    data['rolling_mean'] = data['num_orders'].shift().rolling(rolling_mean_size).mean()"
      ]
    },
    {
      "cell_type": "code",
      "execution_count": 69,
      "metadata": {
        "id": "ON9pQAPGGe74"
      },
      "outputs": [],
      "source": [
        "make_features(df_hour, 1, 24)"
      ]
    },
    {
      "cell_type": "code",
      "execution_count": 70,
      "metadata": {
        "colab": {
          "base_uri": "https://localhost:8080/",
          "height": 455
        },
        "id": "Y_E7EvLMGe75",
        "outputId": "3e57d219-4f36-4f2b-f78e-976f856a3af8"
      },
      "outputs": [
        {
          "output_type": "execute_result",
          "data": {
            "text/plain": [
              "                     num_orders  dayofweek  hour  lag_1  rolling_mean\n",
              "datetime                                                             \n",
              "2018-03-01 00:00:00         124          3     0    NaN           NaN\n",
              "2018-03-01 01:00:00          85          3     1  124.0           NaN\n",
              "2018-03-01 02:00:00          71          3     2   85.0           NaN\n",
              "2018-03-01 03:00:00          66          3     3   71.0           NaN\n",
              "2018-03-01 04:00:00          43          3     4   66.0           NaN\n",
              "...                         ...        ...   ...    ...           ...\n",
              "2018-08-31 19:00:00         136          4    19  207.0    164.875000\n",
              "2018-08-31 20:00:00         154          4    20  136.0    167.541667\n",
              "2018-08-31 21:00:00         159          4    21  154.0    168.041667\n",
              "2018-08-31 22:00:00         223          4    22  159.0    166.416667\n",
              "2018-08-31 23:00:00         205          4    23  223.0    169.125000\n",
              "\n",
              "[4416 rows x 5 columns]"
            ],
            "text/html": [
              "\n",
              "  <div id=\"df-fb54fdf9-2962-498f-b752-9891ca8e9ac4\" class=\"colab-df-container\">\n",
              "    <div>\n",
              "<style scoped>\n",
              "    .dataframe tbody tr th:only-of-type {\n",
              "        vertical-align: middle;\n",
              "    }\n",
              "\n",
              "    .dataframe tbody tr th {\n",
              "        vertical-align: top;\n",
              "    }\n",
              "\n",
              "    .dataframe thead th {\n",
              "        text-align: right;\n",
              "    }\n",
              "</style>\n",
              "<table border=\"1\" class=\"dataframe\">\n",
              "  <thead>\n",
              "    <tr style=\"text-align: right;\">\n",
              "      <th></th>\n",
              "      <th>num_orders</th>\n",
              "      <th>dayofweek</th>\n",
              "      <th>hour</th>\n",
              "      <th>lag_1</th>\n",
              "      <th>rolling_mean</th>\n",
              "    </tr>\n",
              "    <tr>\n",
              "      <th>datetime</th>\n",
              "      <th></th>\n",
              "      <th></th>\n",
              "      <th></th>\n",
              "      <th></th>\n",
              "      <th></th>\n",
              "    </tr>\n",
              "  </thead>\n",
              "  <tbody>\n",
              "    <tr>\n",
              "      <th>2018-03-01 00:00:00</th>\n",
              "      <td>124</td>\n",
              "      <td>3</td>\n",
              "      <td>0</td>\n",
              "      <td>NaN</td>\n",
              "      <td>NaN</td>\n",
              "    </tr>\n",
              "    <tr>\n",
              "      <th>2018-03-01 01:00:00</th>\n",
              "      <td>85</td>\n",
              "      <td>3</td>\n",
              "      <td>1</td>\n",
              "      <td>124.0</td>\n",
              "      <td>NaN</td>\n",
              "    </tr>\n",
              "    <tr>\n",
              "      <th>2018-03-01 02:00:00</th>\n",
              "      <td>71</td>\n",
              "      <td>3</td>\n",
              "      <td>2</td>\n",
              "      <td>85.0</td>\n",
              "      <td>NaN</td>\n",
              "    </tr>\n",
              "    <tr>\n",
              "      <th>2018-03-01 03:00:00</th>\n",
              "      <td>66</td>\n",
              "      <td>3</td>\n",
              "      <td>3</td>\n",
              "      <td>71.0</td>\n",
              "      <td>NaN</td>\n",
              "    </tr>\n",
              "    <tr>\n",
              "      <th>2018-03-01 04:00:00</th>\n",
              "      <td>43</td>\n",
              "      <td>3</td>\n",
              "      <td>4</td>\n",
              "      <td>66.0</td>\n",
              "      <td>NaN</td>\n",
              "    </tr>\n",
              "    <tr>\n",
              "      <th>...</th>\n",
              "      <td>...</td>\n",
              "      <td>...</td>\n",
              "      <td>...</td>\n",
              "      <td>...</td>\n",
              "      <td>...</td>\n",
              "    </tr>\n",
              "    <tr>\n",
              "      <th>2018-08-31 19:00:00</th>\n",
              "      <td>136</td>\n",
              "      <td>4</td>\n",
              "      <td>19</td>\n",
              "      <td>207.0</td>\n",
              "      <td>164.875000</td>\n",
              "    </tr>\n",
              "    <tr>\n",
              "      <th>2018-08-31 20:00:00</th>\n",
              "      <td>154</td>\n",
              "      <td>4</td>\n",
              "      <td>20</td>\n",
              "      <td>136.0</td>\n",
              "      <td>167.541667</td>\n",
              "    </tr>\n",
              "    <tr>\n",
              "      <th>2018-08-31 21:00:00</th>\n",
              "      <td>159</td>\n",
              "      <td>4</td>\n",
              "      <td>21</td>\n",
              "      <td>154.0</td>\n",
              "      <td>168.041667</td>\n",
              "    </tr>\n",
              "    <tr>\n",
              "      <th>2018-08-31 22:00:00</th>\n",
              "      <td>223</td>\n",
              "      <td>4</td>\n",
              "      <td>22</td>\n",
              "      <td>159.0</td>\n",
              "      <td>166.416667</td>\n",
              "    </tr>\n",
              "    <tr>\n",
              "      <th>2018-08-31 23:00:00</th>\n",
              "      <td>205</td>\n",
              "      <td>4</td>\n",
              "      <td>23</td>\n",
              "      <td>223.0</td>\n",
              "      <td>169.125000</td>\n",
              "    </tr>\n",
              "  </tbody>\n",
              "</table>\n",
              "<p>4416 rows × 5 columns</p>\n",
              "</div>\n",
              "    <div class=\"colab-df-buttons\">\n",
              "\n",
              "  <div class=\"colab-df-container\">\n",
              "    <button class=\"colab-df-convert\" onclick=\"convertToInteractive('df-fb54fdf9-2962-498f-b752-9891ca8e9ac4')\"\n",
              "            title=\"Convert this dataframe to an interactive table.\"\n",
              "            style=\"display:none;\">\n",
              "\n",
              "  <svg xmlns=\"http://www.w3.org/2000/svg\" height=\"24px\" viewBox=\"0 -960 960 960\">\n",
              "    <path d=\"M120-120v-720h720v720H120Zm60-500h600v-160H180v160Zm220 220h160v-160H400v160Zm0 220h160v-160H400v160ZM180-400h160v-160H180v160Zm440 0h160v-160H620v160ZM180-180h160v-160H180v160Zm440 0h160v-160H620v160Z\"/>\n",
              "  </svg>\n",
              "    </button>\n",
              "\n",
              "  <style>\n",
              "    .colab-df-container {\n",
              "      display:flex;\n",
              "      gap: 12px;\n",
              "    }\n",
              "\n",
              "    .colab-df-convert {\n",
              "      background-color: #E8F0FE;\n",
              "      border: none;\n",
              "      border-radius: 50%;\n",
              "      cursor: pointer;\n",
              "      display: none;\n",
              "      fill: #1967D2;\n",
              "      height: 32px;\n",
              "      padding: 0 0 0 0;\n",
              "      width: 32px;\n",
              "    }\n",
              "\n",
              "    .colab-df-convert:hover {\n",
              "      background-color: #E2EBFA;\n",
              "      box-shadow: 0px 1px 2px rgba(60, 64, 67, 0.3), 0px 1px 3px 1px rgba(60, 64, 67, 0.15);\n",
              "      fill: #174EA6;\n",
              "    }\n",
              "\n",
              "    .colab-df-buttons div {\n",
              "      margin-bottom: 4px;\n",
              "    }\n",
              "\n",
              "    [theme=dark] .colab-df-convert {\n",
              "      background-color: #3B4455;\n",
              "      fill: #D2E3FC;\n",
              "    }\n",
              "\n",
              "    [theme=dark] .colab-df-convert:hover {\n",
              "      background-color: #434B5C;\n",
              "      box-shadow: 0px 1px 3px 1px rgba(0, 0, 0, 0.15);\n",
              "      filter: drop-shadow(0px 1px 2px rgba(0, 0, 0, 0.3));\n",
              "      fill: #FFFFFF;\n",
              "    }\n",
              "  </style>\n",
              "\n",
              "    <script>\n",
              "      const buttonEl =\n",
              "        document.querySelector('#df-fb54fdf9-2962-498f-b752-9891ca8e9ac4 button.colab-df-convert');\n",
              "      buttonEl.style.display =\n",
              "        google.colab.kernel.accessAllowed ? 'block' : 'none';\n",
              "\n",
              "      async function convertToInteractive(key) {\n",
              "        const element = document.querySelector('#df-fb54fdf9-2962-498f-b752-9891ca8e9ac4');\n",
              "        const dataTable =\n",
              "          await google.colab.kernel.invokeFunction('convertToInteractive',\n",
              "                                                    [key], {});\n",
              "        if (!dataTable) return;\n",
              "\n",
              "        const docLinkHtml = 'Like what you see? Visit the ' +\n",
              "          '<a target=\"_blank\" href=https://colab.research.google.com/notebooks/data_table.ipynb>data table notebook</a>'\n",
              "          + ' to learn more about interactive tables.';\n",
              "        element.innerHTML = '';\n",
              "        dataTable['output_type'] = 'display_data';\n",
              "        await google.colab.output.renderOutput(dataTable, element);\n",
              "        const docLink = document.createElement('div');\n",
              "        docLink.innerHTML = docLinkHtml;\n",
              "        element.appendChild(docLink);\n",
              "      }\n",
              "    </script>\n",
              "  </div>\n",
              "\n",
              "\n",
              "<div id=\"df-536ecbc1-6666-46c9-b459-e41242eff0cd\">\n",
              "  <button class=\"colab-df-quickchart\" onclick=\"quickchart('df-536ecbc1-6666-46c9-b459-e41242eff0cd')\"\n",
              "            title=\"Suggest charts.\"\n",
              "            style=\"display:none;\">\n",
              "\n",
              "<svg xmlns=\"http://www.w3.org/2000/svg\" height=\"24px\"viewBox=\"0 0 24 24\"\n",
              "     width=\"24px\">\n",
              "    <g>\n",
              "        <path d=\"M19 3H5c-1.1 0-2 .9-2 2v14c0 1.1.9 2 2 2h14c1.1 0 2-.9 2-2V5c0-1.1-.9-2-2-2zM9 17H7v-7h2v7zm4 0h-2V7h2v10zm4 0h-2v-4h2v4z\"/>\n",
              "    </g>\n",
              "</svg>\n",
              "  </button>\n",
              "\n",
              "<style>\n",
              "  .colab-df-quickchart {\n",
              "    background-color: #E8F0FE;\n",
              "    border: none;\n",
              "    border-radius: 50%;\n",
              "    cursor: pointer;\n",
              "    display: none;\n",
              "    fill: #1967D2;\n",
              "    height: 32px;\n",
              "    padding: 0 0 0 0;\n",
              "    width: 32px;\n",
              "  }\n",
              "\n",
              "  .colab-df-quickchart:hover {\n",
              "    background-color: #E2EBFA;\n",
              "    box-shadow: 0px 1px 2px rgba(60, 64, 67, 0.3), 0px 1px 3px 1px rgba(60, 64, 67, 0.15);\n",
              "    fill: #174EA6;\n",
              "  }\n",
              "\n",
              "  [theme=dark] .colab-df-quickchart {\n",
              "    background-color: #3B4455;\n",
              "    fill: #D2E3FC;\n",
              "  }\n",
              "\n",
              "  [theme=dark] .colab-df-quickchart:hover {\n",
              "    background-color: #434B5C;\n",
              "    box-shadow: 0px 1px 3px 1px rgba(0, 0, 0, 0.15);\n",
              "    filter: drop-shadow(0px 1px 2px rgba(0, 0, 0, 0.3));\n",
              "    fill: #FFFFFF;\n",
              "  }\n",
              "</style>\n",
              "\n",
              "  <script>\n",
              "    async function quickchart(key) {\n",
              "      const charts = await google.colab.kernel.invokeFunction(\n",
              "          'suggestCharts', [key], {});\n",
              "    }\n",
              "    (() => {\n",
              "      let quickchartButtonEl =\n",
              "        document.querySelector('#df-536ecbc1-6666-46c9-b459-e41242eff0cd button');\n",
              "      quickchartButtonEl.style.display =\n",
              "        google.colab.kernel.accessAllowed ? 'block' : 'none';\n",
              "    })();\n",
              "  </script>\n",
              "</div>\n",
              "    </div>\n",
              "  </div>\n"
            ]
          },
          "metadata": {},
          "execution_count": 70
        }
      ],
      "source": [
        "df_hour"
      ]
    },
    {
      "cell_type": "markdown",
      "metadata": {
        "id": "Iq3ZMKueGe75"
      },
      "source": [
        "## Анализ"
      ]
    },
    {
      "cell_type": "code",
      "execution_count": 71,
      "metadata": {
        "scrolled": false,
        "colab": {
          "base_uri": "https://localhost:8080/",
          "height": 597
        },
        "id": "PZd-YjJNGe75",
        "outputId": "08ab82f4-4557-4f1c-e34f-06f015b0b92d"
      },
      "outputs": [
        {
          "output_type": "execute_result",
          "data": {
            "text/plain": [
              "<Axes: title={'center': 'Исторические данные количества заказов за несколько месяцев'}, xlabel='datetime'>"
            ]
          },
          "metadata": {},
          "execution_count": 71
        },
        {
          "output_type": "display_data",
          "data": {
            "text/plain": [
              "<Figure size 1200x600 with 1 Axes>"
            ],
            "image/png": "[encoded data removed]"
          },
          "metadata": {}
        }
      ],
      "source": [
        "df_hour['num_orders'].plot(\n",
        "    title='Исторические данные количества заказов за несколько месяцев',\n",
        "    grid=True,\n",
        "    figsize=(12, 6)\n",
        "    )"
      ]
    },
    {
      "cell_type": "code",
      "execution_count": 72,
      "metadata": {
        "colab": {
          "base_uri": "https://localhost:8080/",
          "height": 614
        },
        "id": "7Jvy_rTKGe75",
        "outputId": "18e81f8b-6e45-4388-ca63-82fe51fd1c33"
      },
      "outputs": [
        {
          "output_type": "execute_result",
          "data": {
            "text/plain": [
              "<Axes: title={'center': 'Исторические данные количества заказов за неделю'}, xlabel='datetime'>"
            ]
          },
          "metadata": {},
          "execution_count": 72
        },
        {
          "output_type": "display_data",
          "data": {
            "text/plain": [
              "<Figure size 1200x600 with 1 Axes>"
            ],
            "image/png": "[encoded data removed]"
          },
          "metadata": {}
        }
      ],
      "source": [
        "df_hour['num_orders'][:168].plot(\n",
        "    title='Исторические данные количества заказов за неделю',\n",
        "    grid=True,\n",
        "    figsize=(12, 6),\n",
        "    )"
      ]
    },
    {
      "cell_type": "markdown",
      "metadata": {
        "id": "ZqG1eGZgGe75"
      },
      "source": [
        "Исходя из графиков видно, что есть тренд на увеличение и сезонность в течение дня."
      ]
    },
    {
      "cell_type": "code",
      "execution_count": 73,
      "metadata": {
        "id": "AuLh0NV2Ge76"
      },
      "outputs": [],
      "source": [
        "df_hour = df_hour.dropna()"
      ]
    },
    {
      "cell_type": "code",
      "execution_count": 74,
      "metadata": {
        "scrolled": true,
        "colab": {
          "base_uri": "https://localhost:8080/",
          "height": 499
        },
        "id": "spGWQydnGe76",
        "outputId": "0afce344-7f39-49c1-b96f-186c5eb81cbd"
      },
      "outputs": [
        {
          "output_type": "execute_result",
          "data": {
            "text/plain": [
              "<Axes: xlabel='datetime'>"
            ]
          },
          "metadata": {},
          "execution_count": 74
        },
        {
          "output_type": "display_data",
          "data": {
            "text/plain": [
              "<Figure size 640x480 with 1 Axes>"
            ],
            "image/png": "[encoded data removed]"
          },
          "metadata": {}
        }
      ],
      "source": [
        "decomposed = seasonal_decompose(df_hour['num_orders'])\n",
        "decomposed.seasonal['2018-03-02':'2018-03-09'].plot(ax=plt.gca())"
      ]
    },
    {
      "cell_type": "code",
      "execution_count": 75,
      "metadata": {
        "colab": {
          "base_uri": "https://localhost:8080/",
          "height": 483
        },
        "id": "HApMr-0mGe76",
        "outputId": "b529f25a-5513-49d9-ce41-0a4f41500222"
      },
      "outputs": [
        {
          "output_type": "execute_result",
          "data": {
            "text/plain": [
              "<Axes: xlabel='datetime'>"
            ]
          },
          "metadata": {},
          "execution_count": 75
        },
        {
          "output_type": "display_data",
          "data": {
            "text/plain": [
              "<Figure size 640x480 with 1 Axes>"
            ],
            "image/png": "[encoded data removed]"
          },
          "metadata": {}
        }
      ],
      "source": [
        "decomposed.trend.plot(ax=plt.gca())"
      ]
    },
    {
      "cell_type": "markdown",
      "metadata": {
        "id": "RFyBP369Ge76"
      },
      "source": [
        "Из вышеприведенных графиков, построенных методом декомпозиции видно, что в данном временном ряде есть только внутрисуточная сезонность и тренд на увеличение от месяца к месяцу."
      ]
    },
    {
      "cell_type": "markdown",
      "metadata": {
        "id": "zaXNoYQCGe76"
      },
      "source": [
        "## Обучение"
      ]
    },
    {
      "cell_type": "markdown",
      "metadata": {
        "id": "3iWHz-L8Ge76"
      },
      "source": [
        "### Разделение данных на обучающую и тестовую"
      ]
    },
    {
      "cell_type": "code",
      "execution_count": 76,
      "metadata": {
        "id": "CUjVERo4Ge8C"
      },
      "outputs": [],
      "source": [
        "X=df_hour.drop(['num_orders'], axis=1)\n",
        "y=df_hour['num_orders']"
      ]
    },
    {
      "cell_type": "code",
      "execution_count": 77,
      "metadata": {
        "id": "2IcwF-R-Ge8C"
      },
      "outputs": [],
      "source": [
        "X_train = X[:int(X.shape[0]*0.9)]\n",
        "X_test = X[int(X.shape[0]*0.9):]\n",
        "y_train = y[:int(X.shape[0]*0.9)]\n",
        "y_test = y[int(X.shape[0]*0.9):]"
      ]
    },
    {
      "cell_type": "markdown",
      "metadata": {
        "id": "7SVU4PlcGe8C"
      },
      "source": [
        "### Расчет RMSE разных моделей на тестовой выборке"
      ]
    },
    {
      "cell_type": "markdown",
      "metadata": {
        "id": "eQAk3ffuGe8C"
      },
      "source": [
        "Создаем функцию для расчета RMSE для выбранной модели."
      ]
    },
    {
      "cell_type": "code",
      "execution_count": 78,
      "metadata": {
        "id": "vxfL9eTvGe8C"
      },
      "outputs": [],
      "source": [
        "def RMSE(y_test,y_pred):\n",
        "    return (mean_squared_error(y_test,y_pred)**0.5).round(1)"
      ]
    },
    {
      "cell_type": "markdown",
      "metadata": {
        "id": "59XMm_KEGe8C"
      },
      "source": [
        "#### Модель Dummy Regression"
      ]
    },
    {
      "cell_type": "code",
      "execution_count": 79,
      "metadata": {
        "scrolled": true,
        "colab": {
          "base_uri": "https://localhost:8080/"
        },
        "id": "gSZGsoLTGe8C",
        "outputId": "ba656289-3f9e-4b69-c027-d0cd41de49fe"
      },
      "outputs": [
        {
          "output_type": "stream",
          "name": "stdout",
          "text": [
            "RMSE модели DummyRegression на тестовой выборке:\n",
            "84.7\n"
          ]
        }
      ],
      "source": [
        "dummy_regressor = DummyRegressor(strategy=\"mean\")\n",
        "dummy_regressor.fit(X_train,y_train)\n",
        "dummy_pred = dummy_regressor.predict(X_test)\n",
        "rmse_dummy = RMSE(y_test, dummy_pred)\n",
        "print(\"RMSE модели DummyRegression на тестовой выборке:\")\n",
        "print(rmse_dummy)"
      ]
    },
    {
      "cell_type": "markdown",
      "metadata": {
        "id": "r_C1staUGe8D"
      },
      "source": [
        "#### Модель  DecisionTree"
      ]
    },
    {
      "cell_type": "code",
      "execution_count": 80,
      "metadata": {
        "id": "NLL8xRUeGe8D"
      },
      "outputs": [],
      "source": [
        "rmse_scorer=make_scorer(RMSE,greater_is_better=False)"
      ]
    },
    {
      "cell_type": "code",
      "execution_count": 81,
      "metadata": {
        "colab": {
          "base_uri": "https://localhost:8080/"
        },
        "id": "09a7bMnAGe8D",
        "outputId": "c1cdf61c-5f1f-4dac-a0be-f2013fab3c5d"
      },
      "outputs": [
        {
          "output_type": "stream",
          "name": "stdout",
          "text": [
            "RMSE лучшей модели DecisionTreeRegressor на тестовой выборке:\n",
            "47.8\n",
            "Значения гиперпараметров:\n",
            "{'max_depth': 10, 'min_samples_leaf': 10, 'min_samples_split': 2}\n"
          ]
        }
      ],
      "source": [
        "model = DecisionTreeRegressor(random_state=12345)\n",
        "parametrs = { 'max_depth': [4, 6, 10],\n",
        "              'min_samples_leaf': [1, 6, 10],\n",
        "              'min_samples_split': [2, 6, 10]\n",
        "            }\n",
        "tscv = TimeSeriesSplit(n_splits=5)\n",
        "grid = GridSearchCV(model, parametrs, cv=tscv,scoring=rmse_scorer)\n",
        "grid.fit(X_train,y_train)\n",
        "у_pred=grid.best_estimator_.predict(X_test)\n",
        "rmse = RMSE(y_test, у_pred)\n",
        "print(\"RMSE лучшей модели DecisionTreeRegressor на тестовой выборке:\")\n",
        "print(rmse)\n",
        "print(\"Значения гиперпараметров:\")\n",
        "print(grid.best_params_)"
      ]
    },
    {
      "cell_type": "markdown",
      "metadata": {
        "id": "qFkrle6jGe8D"
      },
      "source": [
        "#### Модель Random Forest"
      ]
    },
    {
      "cell_type": "code",
      "execution_count": 82,
      "metadata": {
        "colab": {
          "base_uri": "https://localhost:8080/"
        },
        "id": "iDXg7L8wGe8D",
        "outputId": "2a0e791c-6c0b-4173-cf45-6f00741f6f88"
      },
      "outputs": [
        {
          "output_type": "stream",
          "name": "stdout",
          "text": [
            "RMSE лучшей модели RandomForestRegressor на тестовой выборке:\n",
            "45.7\n",
            "Значения гиперпараметров:\n",
            "{'max_depth': 10, 'min_samples_leaf': 1, 'min_samples_split': 10}\n"
          ]
        }
      ],
      "source": [
        "model = RandomForestRegressor(n_estimators=50,random_state=12345)\n",
        "parametrs = { 'max_depth': [4, 6, 10],\n",
        "              'min_samples_leaf': [1, 6, 10],\n",
        "              'min_samples_split': [2, 6, 10]\n",
        "            }\n",
        "tscv = TimeSeriesSplit(n_splits=5)\n",
        "grid = GridSearchCV(model, parametrs, cv=tscv,scoring=rmse_scorer)\n",
        "grid.fit(X_train,y_train)\n",
        "у_pred=grid.best_estimator_.predict(X_test)\n",
        "rmse = RMSE(y_test, у_pred)\n",
        "print(\"RMSE лучшей модели RandomForestRegressor на тестовой выборке:\")\n",
        "print(rmse)\n",
        "print(\"Значения гиперпараметров:\")\n",
        "print(grid.best_params_)"
      ]
    },
    {
      "cell_type": "markdown",
      "metadata": {
        "id": "cjUsbnlfGe8D"
      },
      "source": [
        "#### Модель Linear Regression"
      ]
    },
    {
      "cell_type": "code",
      "execution_count": 83,
      "metadata": {
        "scrolled": true,
        "colab": {
          "base_uri": "https://localhost:8080/"
        },
        "id": "JV7DQrwxGe8D",
        "outputId": "8703a945-5e9a-4bc4-fb02-ad4dba62dac6"
      },
      "outputs": [
        {
          "output_type": "stream",
          "name": "stdout",
          "text": [
            "RMSE лучшей модели Linear Regression на тестовой выборке:\n",
            "51.2\n"
          ]
        }
      ],
      "source": [
        "model = LinearRegression()\n",
        "model.fit(X_train,y_train)\n",
        "у_pred = model.predict(X_test)\n",
        "rmse = RMSE(y_test, у_pred)\n",
        "print(\"RMSE лучшей модели Linear Regression на тестовой выборке:\")\n",
        "print(rmse)"
      ]
    },
    {
      "cell_type": "markdown",
      "metadata": {
        "id": "geXxNUHKGe8E"
      },
      "source": [
        "#### Модель XGBoost"
      ]
    },
    {
      "cell_type": "code",
      "execution_count": 84,
      "metadata": {
        "scrolled": true,
        "colab": {
          "base_uri": "https://localhost:8080/"
        },
        "id": "v_WeKaCFGe8E",
        "outputId": "b6a34e65-3746-4d5c-dc1c-701c691c142d"
      },
      "outputs": [
        {
          "output_type": "stream",
          "name": "stdout",
          "text": [
            "RMSE лучшей модели XGBRegressor на тестовой выборке:\n",
            "49.5\n",
            "Значения гиперпараметров:\n",
            "{'depth': 4, 'learning_rate': 0.1}\n"
          ]
        }
      ],
      "source": [
        "model = xgb.XGBRegressor(n_estimators=50,verbosity = 0)\n",
        "parametrs = {'learning_rate': [0.03, 0.1],\n",
        "        'depth': [4, 6, 10]}\n",
        "tscv = TimeSeriesSplit(n_splits=5)\n",
        "grid = GridSearchCV(model, parametrs, cv=tscv,scoring=rmse_scorer)\n",
        "grid.fit(X_train,y_train)\n",
        "у_pred=grid.best_estimator_.predict(X_test)\n",
        "rmse = RMSE(y_test, у_pred)\n",
        "print(\"RMSE лучшей модели XGBRegressor на тестовой выборке:\")\n",
        "print(rmse)\n",
        "print(\"Значения гиперпараметров:\")\n",
        "print(grid.best_params_)"
      ]
    },
    {
      "cell_type": "markdown",
      "metadata": {
        "id": "LVaYcbRMGe8E"
      },
      "source": [
        "### Модель CatBoost"
      ]
    },
    {
      "cell_type": "code",
      "execution_count": 85,
      "metadata": {
        "colab": {
          "base_uri": "https://localhost:8080/"
        },
        "id": "ELbMyuzDGe8E",
        "outputId": "aba7ed5f-3c1b-4ff3-f859-ec710df31ca6"
      },
      "outputs": [
        {
          "output_type": "stream",
          "name": "stdout",
          "text": [
            "RMSE лучшей модели CatBoostRegressor на тестовой выборке:\n",
            "50.3\n",
            "Значения гиперпараметров:\n",
            "{'depth': 10, 'learning_rate': 0.1}\n"
          ]
        }
      ],
      "source": [
        "model = CatBoostRegressor(iterations=50,verbose=False)\n",
        "parametrs = {'learning_rate': [0.03, 0.1],\n",
        "        'depth': [4, 6, 10]}\n",
        "tscv = TimeSeriesSplit(n_splits=5)\n",
        "grid = GridSearchCV(model, parametrs, cv=tscv,scoring=rmse_scorer)\n",
        "grid.fit(X_train,y_train)\n",
        "у_pred=grid.best_estimator_.predict(X_test)\n",
        "rmse = RMSE(y_test, у_pred)\n",
        "print(\"RMSE лучшей модели CatBoostRegressor на тестовой выборке:\")\n",
        "print(rmse)\n",
        "print(\"Значения гиперпараметров:\")\n",
        "print(grid.best_params_)"
      ]
    },
    {
      "cell_type": "markdown",
      "metadata": {
        "id": "pzlBohJsGe8F"
      },
      "source": [
        "### Модель LightGBM"
      ]
    },
    {
      "cell_type": "code",
      "execution_count": 86,
      "metadata": {
        "colab": {
          "base_uri": "https://localhost:8080/"
        },
        "id": "1Ulio9CuGe8F",
        "outputId": "bbd9f7b8-8272-4abf-a64b-9876b918136e"
      },
      "outputs": [
        {
          "output_type": "stream",
          "name": "stdout",
          "text": [
            "RMSE лучшей модели LGBMRegressor на тестовой выборке:\n",
            "44.2\n",
            "Значения гиперпараметров:\n",
            "{'depth': 4, 'learning_rate': 0.1}\n"
          ]
        }
      ],
      "source": [
        "model = lgb.LGBMRegressor(n_estimators=50,verbosity =-1)\n",
        "parametrs = {'learning_rate': [0.03, 0.1],\n",
        "        'depth': [4, 6, 10]}\n",
        "tscv = TimeSeriesSplit(n_splits=5)\n",
        "grid = GridSearchCV(model, parametrs, cv=tscv,scoring=rmse_scorer)\n",
        "grid.fit(X_train,y_train)\n",
        "у_pred=grid.best_estimator_.predict(X_test)\n",
        "rmse = RMSE(y_test, у_pred)\n",
        "print(\"RMSE лучшей модели LGBMRegressor на тестовой выборке:\")\n",
        "print(rmse)\n",
        "print(\"Значения гиперпараметров:\")\n",
        "print(grid.best_params_)"
      ]
    },
    {
      "cell_type": "markdown",
      "metadata": {
        "id": "krVzwq-DGe8F"
      },
      "source": [
        "## Вывод"
      ]
    },
    {
      "cell_type": "markdown",
      "metadata": {
        "id": "Mt4eHCIkGe8F"
      },
      "source": [
        "В первой части проекта была выполнена подготовка данных: загрузка и вывод данных, ресемплирование и создание признаков.\n",
        "\n",
        "Во второй части были проанализированы данные.\n",
        "\n",
        "В третьей части были обучены разные модели и рассчитаны RMSE на тестовой выборке.Ниже приведены результаты:\n",
        "\n",
        "||Dummy Regression|Desicion Tree|Random Forest|Linear Regression|XGBoost|CatBoost|LGBoost|\n",
        "|:-----|:----:|----:|----:|-----:|----:|----:|:----|\n",
        "|Качество RMSE |84.7 |47.8 |45.7 |51.2|50.0 |48.5| 44.2|\n",
        "\n",
        "Таким образом, для прогнозирования количества заказов такси на следующий час рекомендуется модель  LGBoost с качеством RMSE=44.2."
      ]
    },
    {
      "cell_type": "code",
      "execution_count": 87,
      "metadata": {
        "id": "hzDs87XeGe8G"
      },
      "outputs": [],
      "source": [
        "у_pred=pd.Series(у_pred,index=y_test.index)"
      ]
    },
    {
      "cell_type": "code",
      "execution_count": 88,
      "metadata": {
        "scrolled": false,
        "colab": {
          "base_uri": "https://localhost:8080/",
          "height": 594
        },
        "id": "RTAoLACQGe8G",
        "outputId": "8f20b714-6d8b-47e4-d9fd-7aa280b99df4"
      },
      "outputs": [
        {
          "output_type": "display_data",
          "data": {
            "text/plain": [
              "<Figure size 1200x600 with 1 Axes>"
            ],
            "image/png": "[encoded data removed]"
          },
          "metadata": {}
        }
      ],
      "source": [
        "plt.figure(figsize=(12, 6))\n",
        "у_pred[:97].plot()\n",
        "y_test[:97].plot()\n",
        "plt.title('Результаты модели, 4 дня')\n",
        "plt.xlabel('Дата')\n",
        "plt.ylabel('Число заказов')\n",
        "plt.legend(['Предсказанные','Реальные'])\n",
        "plt.grid( which='both')"
      ]
    }
  ],
  "metadata": {
    "ExecuteTimeLog": [
      {
        "duration": 10447,
        "start_time": "2022-02-17T04:53:40.517Z"
      },
      {
        "duration": 45,
        "start_time": "2022-02-17T04:53:50.966Z"
      },
      {
        "duration": 31,
        "start_time": "2022-02-17T04:53:51.013Z"
      },
      {
        "duration": 26,
        "start_time": "2022-02-17T04:53:51.046Z"
      },
      {
        "duration": 4,
        "start_time": "2022-02-17T04:53:51.073Z"
      },
      {
        "duration": 15,
        "start_time": "2022-02-17T04:53:51.078Z"
      },
      {
        "duration": 20,
        "start_time": "2022-02-17T04:53:51.095Z"
      },
      {
        "duration": 884,
        "start_time": "2022-02-17T04:53:51.117Z"
      },
      {
        "duration": 278,
        "start_time": "2022-02-17T04:53:52.003Z"
      },
      {
        "duration": 8,
        "start_time": "2022-02-17T04:53:52.283Z"
      },
      {
        "duration": 3,
        "start_time": "2022-02-17T04:53:52.293Z"
      },
      {
        "duration": 2470,
        "start_time": "2022-02-17T04:53:52.297Z"
      },
      {
        "duration": 22829,
        "start_time": "2022-02-17T07:37:49.333Z"
      },
      {
        "duration": 33,
        "start_time": "2022-02-17T07:38:32.095Z"
      },
      {
        "duration": 34,
        "start_time": "2022-02-17T07:38:32.753Z"
      },
      {
        "duration": 32,
        "start_time": "2022-02-17T07:38:36.506Z"
      },
      {
        "duration": 4,
        "start_time": "2022-02-17T07:38:50.362Z"
      },
      {
        "duration": 15,
        "start_time": "2022-02-17T07:38:50.796Z"
      },
      {
        "duration": 24,
        "start_time": "2022-02-17T07:41:27.875Z"
      },
      {
        "duration": 1959,
        "start_time": "2022-02-17T07:41:34.253Z"
      },
      {
        "duration": 309,
        "start_time": "2022-02-17T07:41:36.214Z"
      },
      {
        "duration": 10,
        "start_time": "2022-02-17T07:42:43.656Z"
      },
      {
        "duration": 3,
        "start_time": "2022-02-17T07:42:45.019Z"
      },
      {
        "duration": 1920,
        "start_time": "2022-02-17T07:42:46.532Z"
      },
      {
        "duration": 125,
        "start_time": "2022-02-19T08:53:29.598Z"
      },
      {
        "duration": 16569,
        "start_time": "2022-02-19T08:54:32.270Z"
      },
      {
        "duration": 43,
        "start_time": "2022-02-19T08:54:48.841Z"
      },
      {
        "duration": 79,
        "start_time": "2022-02-19T08:54:48.887Z"
      },
      {
        "duration": 43,
        "start_time": "2022-02-19T08:54:58.704Z"
      },
      {
        "duration": 7,
        "start_time": "2022-02-19T08:56:35.387Z"
      },
      {
        "duration": 5,
        "start_time": "2022-02-19T09:07:42.782Z"
      },
      {
        "duration": 10,
        "start_time": "2022-02-19T09:22:38.193Z"
      },
      {
        "duration": 17,
        "start_time": "2022-02-19T09:22:41.030Z"
      },
      {
        "duration": 1483,
        "start_time": "2022-02-19T09:25:14.769Z"
      },
      {
        "duration": 485,
        "start_time": "2022-02-19T09:25:19.000Z"
      },
      {
        "duration": 480,
        "start_time": "2022-02-19T09:30:28.465Z"
      },
      {
        "duration": 38,
        "start_time": "2022-02-19T09:30:56.448Z"
      },
      {
        "duration": 468,
        "start_time": "2022-02-19T09:38:27.897Z"
      },
      {
        "duration": 4905,
        "start_time": "2022-02-19T09:40:11.341Z"
      },
      {
        "duration": 3,
        "start_time": "2022-02-19T09:40:23.303Z"
      },
      {
        "duration": 6719,
        "start_time": "2022-02-19T09:40:23.309Z"
      },
      {
        "duration": 44,
        "start_time": "2022-02-19T09:40:30.031Z"
      },
      {
        "duration": 41,
        "start_time": "2022-02-19T09:40:30.078Z"
      },
      {
        "duration": 66,
        "start_time": "2022-02-19T09:40:30.121Z"
      },
      {
        "duration": 6,
        "start_time": "2022-02-19T09:40:30.190Z"
      },
      {
        "duration": 15,
        "start_time": "2022-02-19T09:40:30.198Z"
      },
      {
        "duration": 4442,
        "start_time": "2022-02-19T09:40:38.697Z"
      },
      {
        "duration": 19,
        "start_time": "2022-02-19T09:41:03.618Z"
      },
      {
        "duration": 8,
        "start_time": "2022-02-19T09:41:43.921Z"
      },
      {
        "duration": 18,
        "start_time": "2022-02-19T09:41:50.656Z"
      },
      {
        "duration": 13,
        "start_time": "2022-02-19T09:42:01.921Z"
      },
      {
        "duration": 23,
        "start_time": "2022-02-19T09:42:05.225Z"
      },
      {
        "duration": 4,
        "start_time": "2022-02-19T09:42:12.462Z"
      },
      {
        "duration": 6499,
        "start_time": "2022-02-19T09:42:12.469Z"
      },
      {
        "duration": 62,
        "start_time": "2022-02-19T09:42:18.972Z"
      },
      {
        "duration": 62,
        "start_time": "2022-02-19T09:42:19.037Z"
      },
      {
        "duration": 89,
        "start_time": "2022-02-19T09:42:19.102Z"
      },
      {
        "duration": 6,
        "start_time": "2022-02-19T09:42:19.194Z"
      },
      {
        "duration": 43,
        "start_time": "2022-02-19T09:42:19.202Z"
      },
      {
        "duration": 20,
        "start_time": "2022-02-19T09:42:23.521Z"
      },
      {
        "duration": 539,
        "start_time": "2022-02-19T09:42:41.280Z"
      },
      {
        "duration": 389,
        "start_time": "2022-02-19T09:42:45.081Z"
      },
      {
        "duration": 9,
        "start_time": "2022-02-19T09:42:49.600Z"
      },
      {
        "duration": 17,
        "start_time": "2022-02-19T09:42:52.009Z"
      },
      {
        "duration": 418,
        "start_time": "2022-02-19T09:42:57.968Z"
      },
      {
        "duration": 4,
        "start_time": "2022-02-19T09:43:28.464Z"
      },
      {
        "duration": 677,
        "start_time": "2022-02-19T09:43:37.464Z"
      },
      {
        "duration": 458,
        "start_time": "2022-02-19T09:44:57.672Z"
      },
      {
        "duration": 17,
        "start_time": "2022-02-19T09:45:23.328Z"
      },
      {
        "duration": 457,
        "start_time": "2022-02-19T10:07:43.722Z"
      },
      {
        "duration": 282,
        "start_time": "2022-02-19T10:08:04.050Z"
      },
      {
        "duration": 422,
        "start_time": "2022-02-19T10:08:10.234Z"
      },
      {
        "duration": 273,
        "start_time": "2022-02-19T10:08:17.882Z"
      },
      {
        "duration": 362,
        "start_time": "2022-02-19T10:08:25.138Z"
      },
      {
        "duration": 264,
        "start_time": "2022-02-19T10:09:29.089Z"
      },
      {
        "duration": 517,
        "start_time": "2022-02-19T10:09:49.177Z"
      },
      {
        "duration": 304,
        "start_time": "2022-02-19T10:10:09.977Z"
      },
      {
        "duration": 234,
        "start_time": "2022-02-19T10:10:15.969Z"
      },
      {
        "duration": 311,
        "start_time": "2022-02-19T10:10:20.497Z"
      },
      {
        "duration": 411,
        "start_time": "2022-02-19T10:13:59.802Z"
      },
      {
        "duration": 427,
        "start_time": "2022-02-19T10:14:29.786Z"
      },
      {
        "duration": 340,
        "start_time": "2022-02-19T10:14:37.641Z"
      },
      {
        "duration": 282,
        "start_time": "2022-02-19T10:14:47.082Z"
      },
      {
        "duration": 410,
        "start_time": "2022-02-19T10:14:56.785Z"
      },
      {
        "duration": 288,
        "start_time": "2022-02-19T10:19:59.834Z"
      },
      {
        "duration": 115,
        "start_time": "2022-02-19T10:21:28.826Z"
      },
      {
        "duration": 413,
        "start_time": "2022-02-19T10:27:22.449Z"
      },
      {
        "duration": 381,
        "start_time": "2022-02-19T10:27:31.010Z"
      },
      {
        "duration": 281,
        "start_time": "2022-02-19T10:27:35.794Z"
      },
      {
        "duration": 10,
        "start_time": "2022-02-19T10:35:29.417Z"
      },
      {
        "duration": 4,
        "start_time": "2022-02-19T10:35:33.209Z"
      },
      {
        "duration": 2481,
        "start_time": "2022-02-19T10:35:35.362Z"
      },
      {
        "duration": 22,
        "start_time": "2022-02-19T10:36:01.682Z"
      },
      {
        "duration": 495,
        "start_time": "2022-02-19T10:38:30.986Z"
      },
      {
        "duration": 11,
        "start_time": "2022-02-19T10:46:28.466Z"
      },
      {
        "duration": 5,
        "start_time": "2022-02-19T10:46:30.841Z"
      },
      {
        "duration": 763,
        "start_time": "2022-02-19T10:46:32.823Z"
      },
      {
        "duration": 4,
        "start_time": "2022-02-19T10:47:12.880Z"
      },
      {
        "duration": 4,
        "start_time": "2022-02-19T10:47:21.712Z"
      },
      {
        "duration": 6764,
        "start_time": "2022-02-19T10:47:21.718Z"
      },
      {
        "duration": 45,
        "start_time": "2022-02-19T10:47:28.485Z"
      },
      {
        "duration": 44,
        "start_time": "2022-02-19T10:47:28.532Z"
      },
      {
        "duration": 40,
        "start_time": "2022-02-19T10:47:28.578Z"
      },
      {
        "duration": 5,
        "start_time": "2022-02-19T10:47:28.620Z"
      },
      {
        "duration": 39,
        "start_time": "2022-02-19T10:47:28.628Z"
      },
      {
        "duration": 17,
        "start_time": "2022-02-19T10:47:28.669Z"
      },
      {
        "duration": 536,
        "start_time": "2022-02-19T10:47:28.689Z"
      },
      {
        "duration": 390,
        "start_time": "2022-02-19T10:47:29.229Z"
      },
      {
        "duration": 8,
        "start_time": "2022-02-19T10:47:29.622Z"
      },
      {
        "duration": 293,
        "start_time": "2022-02-19T10:47:29.632Z"
      },
      {
        "duration": 283,
        "start_time": "2022-02-19T10:47:29.927Z"
      },
      {
        "duration": 9,
        "start_time": "2022-02-19T10:47:30.213Z"
      },
      {
        "duration": 9,
        "start_time": "2022-02-19T10:47:30.225Z"
      },
      {
        "duration": 2249,
        "start_time": "2022-02-19T10:47:30.237Z"
      },
      {
        "duration": 4,
        "start_time": "2022-02-19T10:57:51.089Z"
      },
      {
        "duration": 1316,
        "start_time": "2022-02-21T07:31:39.872Z"
      },
      {
        "duration": 51944,
        "start_time": "2022-02-21T07:31:41.189Z"
      },
      {
        "duration": 52,
        "start_time": "2022-02-21T07:32:33.135Z"
      },
      {
        "duration": 35,
        "start_time": "2022-02-21T07:32:33.189Z"
      },
      {
        "duration": 53,
        "start_time": "2022-02-21T07:32:33.226Z"
      },
      {
        "duration": 4,
        "start_time": "2022-02-21T07:32:33.281Z"
      },
      {
        "duration": 25,
        "start_time": "2022-02-21T07:32:33.287Z"
      },
      {
        "duration": 15,
        "start_time": "2022-02-21T07:32:33.315Z"
      },
      {
        "duration": 695,
        "start_time": "2022-02-21T07:32:33.332Z"
      },
      {
        "duration": -46,
        "start_time": "2022-02-21T07:32:34.075Z"
      },
      {
        "duration": -49,
        "start_time": "2022-02-21T07:32:34.080Z"
      },
      {
        "duration": -52,
        "start_time": "2022-02-21T07:32:34.084Z"
      },
      {
        "duration": -53,
        "start_time": "2022-02-21T07:32:34.086Z"
      },
      {
        "duration": -55,
        "start_time": "2022-02-21T07:32:34.089Z"
      },
      {
        "duration": -56,
        "start_time": "2022-02-21T07:32:34.092Z"
      },
      {
        "duration": -58,
        "start_time": "2022-02-21T07:32:34.095Z"
      },
      {
        "duration": 492,
        "start_time": "2022-02-21T07:34:22.891Z"
      },
      {
        "duration": 634,
        "start_time": "2022-02-21T07:34:50.566Z"
      },
      {
        "duration": 2249,
        "start_time": "2022-02-21T07:35:06.468Z"
      },
      {
        "duration": 3680,
        "start_time": "2022-02-21T07:35:26.567Z"
      },
      {
        "duration": 285,
        "start_time": "2022-02-21T07:35:37.278Z"
      },
      {
        "duration": 2272,
        "start_time": "2022-02-21T07:36:05.317Z"
      },
      {
        "duration": 1709,
        "start_time": "2022-02-21T07:36:14.060Z"
      },
      {
        "duration": 408,
        "start_time": "2022-02-21T07:36:22.037Z"
      },
      {
        "duration": 8,
        "start_time": "2022-02-21T07:36:34.933Z"
      },
      {
        "duration": 232,
        "start_time": "2022-02-21T07:36:34.943Z"
      },
      {
        "duration": 352,
        "start_time": "2022-02-21T07:36:35.177Z"
      },
      {
        "duration": 8,
        "start_time": "2022-02-21T07:36:35.531Z"
      },
      {
        "duration": 7,
        "start_time": "2022-02-21T07:36:35.541Z"
      },
      {
        "duration": 7256,
        "start_time": "2022-02-21T07:36:35.550Z"
      },
      {
        "duration": 312,
        "start_time": "2022-02-21T07:37:11.364Z"
      },
      {
        "duration": 229,
        "start_time": "2022-02-21T07:54:10.454Z"
      },
      {
        "duration": 4,
        "start_time": "2022-02-21T07:54:27.705Z"
      },
      {
        "duration": 2253,
        "start_time": "2022-02-21T07:54:31.996Z"
      },
      {
        "duration": 262,
        "start_time": "2022-02-21T07:54:38.236Z"
      },
      {
        "duration": 4,
        "start_time": "2022-02-21T07:57:53.155Z"
      },
      {
        "duration": 18913,
        "start_time": "2022-02-21T07:57:56.242Z"
      },
      {
        "duration": 299,
        "start_time": "2022-02-21T07:58:42.762Z"
      },
      {
        "duration": 307,
        "start_time": "2022-02-21T07:59:01.098Z"
      },
      {
        "duration": 1024,
        "start_time": "2022-02-22T09:12:55.061Z"
      },
      {
        "duration": 10156,
        "start_time": "2022-02-22T09:12:56.087Z"
      },
      {
        "duration": 256,
        "start_time": "2022-02-22T09:13:06.245Z"
      },
      {
        "duration": 30,
        "start_time": "2022-02-22T09:13:06.502Z"
      },
      {
        "duration": 58,
        "start_time": "2022-02-22T09:13:06.534Z"
      },
      {
        "duration": 3,
        "start_time": "2022-02-22T09:13:06.594Z"
      },
      {
        "duration": 9,
        "start_time": "2022-02-22T09:13:06.598Z"
      },
      {
        "duration": 11,
        "start_time": "2022-02-22T09:13:06.609Z"
      },
      {
        "duration": 343,
        "start_time": "2022-02-22T09:13:06.621Z"
      },
      {
        "duration": 227,
        "start_time": "2022-02-22T09:13:06.966Z"
      },
      {
        "duration": 6,
        "start_time": "2022-02-22T09:13:07.195Z"
      },
      {
        "duration": 180,
        "start_time": "2022-02-22T09:13:07.203Z"
      },
      {
        "duration": 313,
        "start_time": "2022-02-22T09:13:07.385Z"
      },
      {
        "duration": 6,
        "start_time": "2022-02-22T09:13:07.699Z"
      },
      {
        "duration": 18,
        "start_time": "2022-02-22T09:13:07.706Z"
      },
      {
        "duration": 2219,
        "start_time": "2022-02-22T09:13:07.726Z"
      },
      {
        "duration": 361,
        "start_time": "2022-02-22T09:13:09.947Z"
      },
      {
        "duration": 8,
        "start_time": "2022-02-22T09:13:10.302Z"
      },
      {
        "duration": 261,
        "start_time": "2022-02-22T09:28:10.139Z"
      },
      {
        "duration": 251,
        "start_time": "2022-02-22T09:28:13.210Z"
      },
      {
        "duration": 337,
        "start_time": "2022-02-22T09:28:15.921Z"
      },
      {
        "duration": 272,
        "start_time": "2022-02-22T09:28:37.723Z"
      },
      {
        "duration": 255,
        "start_time": "2022-02-22T09:28:47.498Z"
      },
      {
        "duration": 174,
        "start_time": "2022-02-22T09:29:02.810Z"
      },
      {
        "duration": 11,
        "start_time": "2022-02-22T09:29:55.234Z"
      },
      {
        "duration": 5,
        "start_time": "2022-02-22T09:30:17.048Z"
      },
      {
        "duration": 5,
        "start_time": "2022-02-22T09:30:25.396Z"
      },
      {
        "duration": 254,
        "start_time": "2022-02-22T09:31:23.714Z"
      },
      {
        "duration": 5,
        "start_time": "2022-02-22T09:31:42.771Z"
      },
      {
        "duration": 227,
        "start_time": "2022-02-22T09:31:54.763Z"
      },
      {
        "duration": 252,
        "start_time": "2022-02-22T09:32:08.444Z"
      },
      {
        "duration": 443,
        "start_time": "2022-02-22T09:33:03.795Z"
      },
      {
        "duration": 337,
        "start_time": "2022-02-22T09:33:23.683Z"
      },
      {
        "duration": 376,
        "start_time": "2022-02-22T09:33:43.147Z"
      },
      {
        "duration": 407,
        "start_time": "2022-02-22T09:33:49.538Z"
      },
      {
        "duration": 338,
        "start_time": "2022-02-22T09:33:57.219Z"
      },
      {
        "duration": 361,
        "start_time": "2022-02-22T09:34:19.066Z"
      },
      {
        "duration": 298,
        "start_time": "2022-02-22T09:34:33.947Z"
      },
      {
        "duration": 609,
        "start_time": "2022-02-22T09:34:49.787Z"
      },
      {
        "duration": 289,
        "start_time": "2022-02-22T09:37:38.844Z"
      },
      {
        "duration": 89,
        "start_time": "2022-02-22T09:41:37.187Z"
      },
      {
        "duration": 5,
        "start_time": "2022-02-22T10:09:44.148Z"
      },
      {
        "duration": 148,
        "start_time": "2022-02-22T10:10:07.227Z"
      },
      {
        "duration": 317,
        "start_time": "2022-02-22T10:10:42.421Z"
      },
      {
        "duration": 282,
        "start_time": "2022-02-22T10:10:50.867Z"
      },
      {
        "duration": 515,
        "start_time": "2022-02-22T10:31:36.708Z"
      },
      {
        "duration": 6,
        "start_time": "2022-02-22T10:32:18.924Z"
      },
      {
        "duration": 7,
        "start_time": "2022-02-22T10:32:34.268Z"
      },
      {
        "duration": 242,
        "start_time": "2022-02-22T10:32:41.036Z"
      },
      {
        "duration": 335,
        "start_time": "2022-02-22T10:32:45.172Z"
      },
      {
        "duration": 236,
        "start_time": "2022-02-22T10:33:12.661Z"
      },
      {
        "duration": 240,
        "start_time": "2022-02-22T10:33:30.260Z"
      },
      {
        "duration": 220,
        "start_time": "2022-02-22T10:34:05.636Z"
      },
      {
        "duration": 511,
        "start_time": "2022-02-22T10:35:01.605Z"
      },
      {
        "duration": 1194,
        "start_time": "2022-02-22T10:35:06.084Z"
      },
      {
        "duration": 398,
        "start_time": "2022-02-22T10:36:49.660Z"
      },
      {
        "duration": 204,
        "start_time": "2022-02-22T10:36:56.316Z"
      },
      {
        "duration": 217,
        "start_time": "2022-02-22T10:37:29.996Z"
      },
      {
        "duration": 218,
        "start_time": "2022-02-22T10:37:53.508Z"
      },
      {
        "duration": 204,
        "start_time": "2022-02-22T10:39:44.260Z"
      },
      {
        "duration": 216,
        "start_time": "2022-02-22T10:39:52.092Z"
      },
      {
        "duration": 1675,
        "start_time": "2022-02-22T10:40:36.292Z"
      },
      {
        "duration": 306,
        "start_time": "2022-02-22T10:40:46.349Z"
      },
      {
        "duration": 465,
        "start_time": "2022-02-22T10:41:47.300Z"
      },
      {
        "duration": 443,
        "start_time": "2022-02-22T10:41:55.316Z"
      },
      {
        "duration": 273,
        "start_time": "2022-02-22T10:43:56.141Z"
      },
      {
        "duration": 157,
        "start_time": "2022-02-22T10:44:06.148Z"
      },
      {
        "duration": 488,
        "start_time": "2022-02-22T10:44:27.044Z"
      },
      {
        "duration": 410,
        "start_time": "2022-02-22T10:44:30.636Z"
      },
      {
        "duration": 286,
        "start_time": "2022-02-22T10:45:02.932Z"
      },
      {
        "duration": 142,
        "start_time": "2022-02-22T10:45:18.356Z"
      },
      {
        "duration": 242,
        "start_time": "2022-02-22T10:45:28.837Z"
      },
      {
        "duration": 212,
        "start_time": "2022-02-22T10:45:32.860Z"
      },
      {
        "duration": 235,
        "start_time": "2022-02-22T10:45:47.628Z"
      },
      {
        "duration": 229,
        "start_time": "2022-02-22T10:46:14.029Z"
      },
      {
        "duration": 252,
        "start_time": "2022-02-22T10:47:00.782Z"
      },
      {
        "duration": 250,
        "start_time": "2022-02-22T10:47:15.221Z"
      },
      {
        "duration": 245,
        "start_time": "2022-02-22T10:48:09.525Z"
      },
      {
        "duration": 238,
        "start_time": "2022-02-22T10:48:17.293Z"
      },
      {
        "duration": 235,
        "start_time": "2022-02-22T10:49:47.301Z"
      },
      {
        "duration": 235,
        "start_time": "2022-02-22T10:50:51.860Z"
      },
      {
        "duration": 292,
        "start_time": "2022-02-22T10:51:05.589Z"
      },
      {
        "duration": 236,
        "start_time": "2022-02-22T10:52:27.245Z"
      },
      {
        "duration": 227,
        "start_time": "2022-02-22T10:52:33.877Z"
      },
      {
        "duration": 14834,
        "start_time": "2022-02-22T10:52:42.357Z"
      },
      {
        "duration": 235,
        "start_time": "2022-02-22T10:53:04.965Z"
      },
      {
        "duration": 86,
        "start_time": "2022-02-22T10:53:17.269Z"
      },
      {
        "duration": 355,
        "start_time": "2022-02-22T10:53:22.997Z"
      },
      {
        "duration": 356,
        "start_time": "2022-02-22T10:53:35.037Z"
      },
      {
        "duration": 261,
        "start_time": "2022-02-22T10:53:56.765Z"
      },
      {
        "duration": 228,
        "start_time": "2022-02-22T10:55:12.317Z"
      },
      {
        "duration": 226,
        "start_time": "2022-02-22T10:58:30.566Z"
      },
      {
        "duration": 238,
        "start_time": "2022-02-22T10:58:44.045Z"
      },
      {
        "duration": 235,
        "start_time": "2022-02-22T11:04:36.077Z"
      },
      {
        "duration": 262,
        "start_time": "2022-02-22T11:04:45.925Z"
      },
      {
        "duration": 244,
        "start_time": "2022-02-22T11:05:20.533Z"
      },
      {
        "duration": 244,
        "start_time": "2022-02-22T11:05:32.550Z"
      },
      {
        "duration": 251,
        "start_time": "2022-02-22T11:05:48.309Z"
      },
      {
        "duration": 239,
        "start_time": "2022-02-22T11:09:17.581Z"
      },
      {
        "duration": 11077,
        "start_time": "2022-02-24T07:36:25.543Z"
      },
      {
        "duration": 266,
        "start_time": "2022-02-24T07:36:36.622Z"
      },
      {
        "duration": 30,
        "start_time": "2022-02-24T07:36:36.890Z"
      },
      {
        "duration": 28,
        "start_time": "2022-02-24T07:36:36.922Z"
      },
      {
        "duration": 3,
        "start_time": "2022-02-24T07:36:36.952Z"
      },
      {
        "duration": 8,
        "start_time": "2022-02-24T07:36:36.957Z"
      },
      {
        "duration": 12,
        "start_time": "2022-02-24T07:36:36.967Z"
      },
      {
        "duration": 758,
        "start_time": "2022-02-24T07:36:36.982Z"
      },
      {
        "duration": 223,
        "start_time": "2022-02-24T07:36:37.742Z"
      },
      {
        "duration": 5,
        "start_time": "2022-02-24T07:36:37.966Z"
      },
      {
        "duration": 161,
        "start_time": "2022-02-24T07:36:37.973Z"
      },
      {
        "duration": 224,
        "start_time": "2022-02-24T07:36:38.136Z"
      },
      {
        "duration": 7,
        "start_time": "2022-02-24T07:36:38.363Z"
      },
      {
        "duration": 4,
        "start_time": "2022-02-24T07:36:38.372Z"
      },
      {
        "duration": 396,
        "start_time": "2022-02-24T07:36:38.378Z"
      },
      {
        "duration": -1206,
        "start_time": "2022-02-24T07:36:39.982Z"
      },
      {
        "duration": -1207,
        "start_time": "2022-02-24T07:36:39.984Z"
      },
      {
        "duration": -1246,
        "start_time": "2022-02-24T07:36:40.024Z"
      },
      {
        "duration": 4221,
        "start_time": "2022-02-24T07:36:52.830Z"
      },
      {
        "duration": 237,
        "start_time": "2022-02-24T07:37:03.816Z"
      },
      {
        "duration": 230,
        "start_time": "2022-02-24T07:37:05.673Z"
      },
      {
        "duration": 3,
        "start_time": "2022-02-24T07:38:57.022Z"
      },
      {
        "duration": 275,
        "start_time": "2022-02-24T07:38:58.735Z"
      },
      {
        "duration": 6,
        "start_time": "2022-02-24T07:39:27.984Z"
      },
      {
        "duration": 4,
        "start_time": "2022-02-24T07:39:41.445Z"
      },
      {
        "duration": 10,
        "start_time": "2022-02-24T07:45:56.146Z"
      },
      {
        "duration": 294,
        "start_time": "2022-02-24T07:47:00.019Z"
      },
      {
        "duration": 285,
        "start_time": "2022-02-24T07:48:17.191Z"
      },
      {
        "duration": 329,
        "start_time": "2022-02-24T07:51:00.690Z"
      },
      {
        "duration": 278,
        "start_time": "2022-02-24T07:51:29.945Z"
      },
      {
        "duration": 272,
        "start_time": "2022-02-24T07:51:55.056Z"
      },
      {
        "duration": 11,
        "start_time": "2022-02-24T07:52:17.108Z"
      },
      {
        "duration": 83532,
        "start_time": "2022-02-24T11:02:08.376Z"
      },
      {
        "duration": 50,
        "start_time": "2022-02-24T11:03:52.380Z"
      },
      {
        "duration": 30,
        "start_time": "2022-02-24T11:03:52.432Z"
      },
      {
        "duration": 34,
        "start_time": "2022-02-24T11:03:52.464Z"
      },
      {
        "duration": 19,
        "start_time": "2022-02-24T11:03:52.500Z"
      },
      {
        "duration": 11,
        "start_time": "2022-02-24T11:03:52.520Z"
      },
      {
        "duration": 13,
        "start_time": "2022-02-24T11:03:52.532Z"
      },
      {
        "duration": 387,
        "start_time": "2022-02-24T11:03:52.546Z"
      },
      {
        "duration": 257,
        "start_time": "2022-02-24T11:03:52.936Z"
      },
      {
        "duration": 5,
        "start_time": "2022-02-24T11:03:53.195Z"
      },
      {
        "duration": 214,
        "start_time": "2022-02-24T11:03:53.201Z"
      },
      {
        "duration": 353,
        "start_time": "2022-02-24T11:03:53.416Z"
      },
      {
        "duration": 8,
        "start_time": "2022-02-24T11:03:53.772Z"
      },
      {
        "duration": 30,
        "start_time": "2022-02-24T11:03:53.782Z"
      },
      {
        "duration": 9,
        "start_time": "2022-02-24T11:03:53.814Z"
      },
      {
        "duration": 27,
        "start_time": "2022-02-24T11:03:53.825Z"
      },
      {
        "duration": 316,
        "start_time": "2022-02-24T11:03:53.854Z"
      },
      {
        "duration": 18,
        "start_time": "2022-02-24T11:03:54.153Z"
      },
      {
        "duration": 17,
        "start_time": "2022-02-24T11:03:54.155Z"
      },
      {
        "duration": 15,
        "start_time": "2022-02-24T11:03:54.158Z"
      },
      {
        "duration": 7,
        "start_time": "2022-02-24T11:11:27.445Z"
      },
      {
        "duration": 4,
        "start_time": "2022-02-24T11:11:29.696Z"
      },
      {
        "duration": 1647,
        "start_time": "2022-02-24T11:11:36.976Z"
      },
      {
        "duration": 4,
        "start_time": "2022-02-24T11:21:37.382Z"
      },
      {
        "duration": 5,
        "start_time": "2022-02-24T11:21:40.233Z"
      },
      {
        "duration": 11,
        "start_time": "2022-02-24T11:21:45.849Z"
      },
      {
        "duration": 4,
        "start_time": "2022-02-24T11:22:59.201Z"
      },
      {
        "duration": 258,
        "start_time": "2022-02-24T11:23:19.633Z"
      },
      {
        "duration": 111899,
        "start_time": "2022-02-25T02:50:21.171Z"
      },
      {
        "duration": -165,
        "start_time": "2022-02-25T02:52:13.237Z"
      },
      {
        "duration": -176,
        "start_time": "2022-02-25T02:52:13.249Z"
      },
      {
        "duration": -206,
        "start_time": "2022-02-25T02:52:13.280Z"
      },
      {
        "duration": -256,
        "start_time": "2022-02-25T02:52:13.331Z"
      },
      {
        "duration": -257,
        "start_time": "2022-02-25T02:52:13.333Z"
      },
      {
        "duration": -261,
        "start_time": "2022-02-25T02:52:13.338Z"
      },
      {
        "duration": -267,
        "start_time": "2022-02-25T02:52:13.345Z"
      },
      {
        "duration": -272,
        "start_time": "2022-02-25T02:52:13.351Z"
      },
      {
        "duration": -273,
        "start_time": "2022-02-25T02:52:13.353Z"
      },
      {
        "duration": -316,
        "start_time": "2022-02-25T02:52:13.397Z"
      },
      {
        "duration": -318,
        "start_time": "2022-02-25T02:52:13.400Z"
      },
      {
        "duration": -319,
        "start_time": "2022-02-25T02:52:13.402Z"
      },
      {
        "duration": -320,
        "start_time": "2022-02-25T02:52:13.404Z"
      },
      {
        "duration": 3067,
        "start_time": "2022-02-25T02:53:10.018Z"
      },
      {
        "duration": 4,
        "start_time": "2022-02-25T02:53:37.936Z"
      },
      {
        "duration": 106,
        "start_time": "2022-02-25T02:53:40.964Z"
      },
      {
        "duration": 23,
        "start_time": "2022-02-25T02:53:46.698Z"
      },
      {
        "duration": 21,
        "start_time": "2022-02-25T02:54:01.609Z"
      },
      {
        "duration": 20,
        "start_time": "2022-02-25T02:54:48.657Z"
      },
      {
        "duration": 20,
        "start_time": "2022-02-25T02:55:05.601Z"
      },
      {
        "duration": 28,
        "start_time": "2022-02-25T02:55:16.576Z"
      },
      {
        "duration": 4,
        "start_time": "2022-02-25T02:55:23.851Z"
      },
      {
        "duration": 8,
        "start_time": "2022-02-25T02:55:28.710Z"
      },
      {
        "duration": 13,
        "start_time": "2022-02-25T02:55:31.488Z"
      },
      {
        "duration": 339,
        "start_time": "2022-02-25T02:55:48.232Z"
      },
      {
        "duration": 235,
        "start_time": "2022-02-25T02:55:51.096Z"
      },
      {
        "duration": 6,
        "start_time": "2022-02-25T02:55:54.785Z"
      },
      {
        "duration": 166,
        "start_time": "2022-02-25T02:55:56.264Z"
      },
      {
        "duration": 293,
        "start_time": "2022-02-25T02:55:58.839Z"
      },
      {
        "duration": 4,
        "start_time": "2022-02-25T02:56:02.023Z"
      },
      {
        "duration": 5,
        "start_time": "2022-02-25T02:56:03.375Z"
      },
      {
        "duration": 5,
        "start_time": "2022-02-25T02:56:49.715Z"
      },
      {
        "duration": 11,
        "start_time": "2022-02-25T02:59:29.015Z"
      },
      {
        "duration": 239,
        "start_time": "2022-02-25T03:19:12.582Z"
      },
      {
        "duration": 511,
        "start_time": "2022-02-25T03:39:05.368Z"
      },
      {
        "duration": 3,
        "start_time": "2022-02-25T03:40:00.349Z"
      },
      {
        "duration": 609,
        "start_time": "2022-02-25T03:40:48.368Z"
      },
      {
        "duration": 561,
        "start_time": "2022-02-25T03:41:31.832Z"
      },
      {
        "duration": 43,
        "start_time": "2022-02-25T03:43:54.744Z"
      },
      {
        "duration": 694,
        "start_time": "2022-02-25T03:43:59.463Z"
      },
      {
        "duration": 564,
        "start_time": "2022-02-25T03:44:19.767Z"
      },
      {
        "duration": 678,
        "start_time": "2022-02-25T03:45:56.496Z"
      },
      {
        "duration": 569,
        "start_time": "2022-02-25T03:46:17.518Z"
      },
      {
        "duration": 578,
        "start_time": "2022-02-25T03:46:27.018Z"
      },
      {
        "duration": 583,
        "start_time": "2022-02-25T03:46:38.373Z"
      },
      {
        "duration": 170,
        "start_time": "2022-02-25T04:00:38.553Z"
      },
      {
        "duration": 4,
        "start_time": "2022-02-25T04:05:39.145Z"
      },
      {
        "duration": 33,
        "start_time": "2022-02-25T04:05:39.151Z"
      },
      {
        "duration": 22,
        "start_time": "2022-02-25T04:05:39.186Z"
      },
      {
        "duration": 34,
        "start_time": "2022-02-25T04:05:39.210Z"
      },
      {
        "duration": 4,
        "start_time": "2022-02-25T04:05:39.245Z"
      },
      {
        "duration": 10,
        "start_time": "2022-02-25T04:05:39.251Z"
      },
      {
        "duration": 13,
        "start_time": "2022-02-25T04:05:39.263Z"
      },
      {
        "duration": 365,
        "start_time": "2022-02-25T04:05:39.278Z"
      },
      {
        "duration": 230,
        "start_time": "2022-02-25T04:05:39.646Z"
      },
      {
        "duration": 7,
        "start_time": "2022-02-25T04:05:39.877Z"
      },
      {
        "duration": 192,
        "start_time": "2022-02-25T04:05:39.886Z"
      },
      {
        "duration": 259,
        "start_time": "2022-02-25T04:05:40.080Z"
      },
      {
        "duration": 4,
        "start_time": "2022-02-25T04:05:40.341Z"
      },
      {
        "duration": 5,
        "start_time": "2022-02-25T04:05:44.894Z"
      },
      {
        "duration": 3,
        "start_time": "2022-02-25T04:09:09.481Z"
      },
      {
        "duration": 2,
        "start_time": "2022-02-25T04:09:56.172Z"
      },
      {
        "duration": 174,
        "start_time": "2022-02-25T04:10:16.861Z"
      },
      {
        "duration": 5,
        "start_time": "2022-02-25T04:10:25.797Z"
      },
      {
        "duration": 6,
        "start_time": "2022-02-25T04:10:39.173Z"
      },
      {
        "duration": 146,
        "start_time": "2022-02-25T04:48:51.190Z"
      },
      {
        "duration": 4,
        "start_time": "2022-02-25T04:49:11.942Z"
      },
      {
        "duration": 3,
        "start_time": "2022-02-25T04:53:25.854Z"
      },
      {
        "duration": 523,
        "start_time": "2022-02-25T04:56:05.336Z"
      },
      {
        "duration": 536,
        "start_time": "2022-02-25T04:57:19.647Z"
      },
      {
        "duration": 3,
        "start_time": "2022-02-25T04:57:45.142Z"
      },
      {
        "duration": 3,
        "start_time": "2022-02-25T04:57:48.564Z"
      },
      {
        "duration": 529,
        "start_time": "2022-02-25T04:57:50.348Z"
      },
      {
        "duration": 673,
        "start_time": "2022-02-25T04:58:05.894Z"
      },
      {
        "duration": 517,
        "start_time": "2022-02-25T04:58:15.342Z"
      },
      {
        "duration": 540,
        "start_time": "2022-02-25T04:58:19.931Z"
      },
      {
        "duration": 5,
        "start_time": "2022-02-25T04:59:51.479Z"
      },
      {
        "duration": 752,
        "start_time": "2022-02-25T05:00:59.171Z"
      },
      {
        "duration": 325,
        "start_time": "2022-02-25T05:01:21.396Z"
      },
      {
        "duration": 1142,
        "start_time": "2022-02-25T05:01:43.195Z"
      },
      {
        "duration": 729,
        "start_time": "2022-02-25T05:01:49.308Z"
      },
      {
        "duration": 1029,
        "start_time": "2022-02-25T05:01:59.621Z"
      },
      {
        "duration": 313,
        "start_time": "2022-02-25T05:02:05.015Z"
      },
      {
        "duration": 158,
        "start_time": "2022-02-25T05:02:08.019Z"
      },
      {
        "duration": 299,
        "start_time": "2022-02-25T05:02:10.835Z"
      },
      {
        "duration": 1140,
        "start_time": "2022-02-25T05:02:24.722Z"
      },
      {
        "duration": 948,
        "start_time": "2022-02-25T05:02:29.600Z"
      },
      {
        "duration": 730,
        "start_time": "2022-02-25T05:02:43.186Z"
      },
      {
        "duration": 2146,
        "start_time": "2022-02-25T05:08:42.873Z"
      },
      {
        "duration": 2897,
        "start_time": "2022-02-25T05:09:07.238Z"
      },
      {
        "duration": 7,
        "start_time": "2022-02-25T05:13:43.001Z"
      },
      {
        "duration": 16485,
        "start_time": "2022-02-25T05:14:26.224Z"
      },
      {
        "duration": 1316,
        "start_time": "2022-02-25T05:18:06.927Z"
      },
      {
        "duration": 137,
        "start_time": "2022-02-25T05:22:31.243Z"
      },
      {
        "duration": 35204,
        "start_time": "2022-02-25T05:22:43.541Z"
      },
      {
        "duration": 1311,
        "start_time": "2022-02-25T05:24:13.412Z"
      },
      {
        "duration": 162,
        "start_time": "2022-02-25T05:28:33.642Z"
      },
      {
        "duration": 8,
        "start_time": "2022-02-25T05:29:40.786Z"
      },
      {
        "duration": 3,
        "start_time": "2022-02-25T05:30:09.722Z"
      },
      {
        "duration": 196,
        "start_time": "2022-02-25T05:30:12.018Z"
      },
      {
        "duration": 5,
        "start_time": "2022-02-25T05:30:33.026Z"
      },
      {
        "duration": 6,
        "start_time": "2022-02-25T05:30:43.462Z"
      },
      {
        "duration": 154,
        "start_time": "2022-02-25T05:31:05.498Z"
      },
      {
        "duration": 128,
        "start_time": "2022-02-25T05:31:14.395Z"
      },
      {
        "duration": 5,
        "start_time": "2022-02-25T05:40:18.336Z"
      },
      {
        "duration": 5,
        "start_time": "2022-02-25T05:40:20.534Z"
      },
      {
        "duration": 1277,
        "start_time": "2022-02-25T05:46:56.374Z"
      },
      {
        "duration": 8,
        "start_time": "2022-02-25T05:47:02.135Z"
      },
      {
        "duration": 3,
        "start_time": "2022-02-25T05:47:11.413Z"
      },
      {
        "duration": 6,
        "start_time": "2022-02-25T05:47:12.975Z"
      },
      {
        "duration": 6,
        "start_time": "2022-02-25T05:47:17.988Z"
      },
      {
        "duration": 132,
        "start_time": "2022-02-25T05:47:23.781Z"
      },
      {
        "duration": 123,
        "start_time": "2022-02-25T05:47:34.228Z"
      },
      {
        "duration": 5,
        "start_time": "2022-02-25T05:47:57.150Z"
      },
      {
        "duration": 3,
        "start_time": "2022-02-25T05:48:14.976Z"
      },
      {
        "duration": 212,
        "start_time": "2022-02-25T05:48:21.478Z"
      },
      {
        "duration": 255,
        "start_time": "2022-02-25T05:48:27.957Z"
      },
      {
        "duration": 4,
        "start_time": "2022-02-25T05:50:53.026Z"
      },
      {
        "duration": 35,
        "start_time": "2022-02-25T05:50:53.032Z"
      },
      {
        "duration": 19,
        "start_time": "2022-02-25T05:50:53.069Z"
      },
      {
        "duration": 40,
        "start_time": "2022-02-25T05:50:53.090Z"
      },
      {
        "duration": 3,
        "start_time": "2022-02-25T05:50:53.132Z"
      },
      {
        "duration": 12,
        "start_time": "2022-02-25T05:50:53.137Z"
      },
      {
        "duration": 13,
        "start_time": "2022-02-25T05:50:53.153Z"
      },
      {
        "duration": 425,
        "start_time": "2022-02-25T05:50:53.168Z"
      },
      {
        "duration": 250,
        "start_time": "2022-02-25T05:50:53.595Z"
      },
      {
        "duration": 5,
        "start_time": "2022-02-25T05:50:53.847Z"
      },
      {
        "duration": 181,
        "start_time": "2022-02-25T05:50:53.854Z"
      },
      {
        "duration": 246,
        "start_time": "2022-02-25T05:50:54.036Z"
      },
      {
        "duration": 4,
        "start_time": "2022-02-25T05:50:54.283Z"
      },
      {
        "duration": 6,
        "start_time": "2022-02-25T05:50:54.288Z"
      },
      {
        "duration": 3,
        "start_time": "2022-02-25T05:50:54.296Z"
      },
      {
        "duration": 5,
        "start_time": "2022-02-25T05:50:54.300Z"
      },
      {
        "duration": 3,
        "start_time": "2022-02-25T05:50:54.330Z"
      },
      {
        "duration": 757,
        "start_time": "2022-02-25T05:50:54.334Z"
      },
      {
        "duration": 16730,
        "start_time": "2022-02-25T05:50:55.093Z"
      },
      {
        "duration": 9,
        "start_time": "2022-02-25T05:51:11.825Z"
      },
      {
        "duration": 1328,
        "start_time": "2022-02-25T05:51:11.836Z"
      },
      {
        "duration": 1722,
        "start_time": "2022-02-25T13:56:23.617Z"
      },
      {
        "duration": 377,
        "start_time": "2022-02-25T13:56:25.341Z"
      },
      {
        "duration": 31,
        "start_time": "2022-02-25T13:56:25.720Z"
      },
      {
        "duration": 30,
        "start_time": "2022-02-25T13:56:29.898Z"
      },
      {
        "duration": 4,
        "start_time": "2022-02-25T13:56:31.841Z"
      },
      {
        "duration": 10,
        "start_time": "2022-02-25T13:58:00.210Z"
      },
      {
        "duration": 14,
        "start_time": "2022-02-25T13:58:01.476Z"
      },
      {
        "duration": 438,
        "start_time": "2022-02-25T13:58:01.993Z"
      },
      {
        "duration": 317,
        "start_time": "2022-02-25T13:58:02.434Z"
      },
      {
        "duration": 6,
        "start_time": "2022-02-25T13:58:02.967Z"
      },
      {
        "duration": 220,
        "start_time": "2022-02-25T13:58:03.151Z"
      },
      {
        "duration": 378,
        "start_time": "2022-02-25T13:58:03.373Z"
      },
      {
        "duration": 4,
        "start_time": "2022-02-25T13:58:04.171Z"
      },
      {
        "duration": 6,
        "start_time": "2022-02-25T13:58:04.325Z"
      },
      {
        "duration": 3,
        "start_time": "2022-02-25T13:58:04.841Z"
      },
      {
        "duration": 6,
        "start_time": "2022-02-25T13:58:05.345Z"
      },
      {
        "duration": 2,
        "start_time": "2022-02-25T13:58:05.675Z"
      },
      {
        "duration": 938,
        "start_time": "2022-02-25T13:58:05.832Z"
      },
      {
        "duration": 18839,
        "start_time": "2022-02-25T13:58:06.773Z"
      },
      {
        "duration": 7,
        "start_time": "2022-02-25T13:58:25.614Z"
      },
      {
        "duration": 1528,
        "start_time": "2022-02-25T13:58:25.623Z"
      },
      {
        "duration": 56293,
        "start_time": "2022-02-25T13:58:27.153Z"
      },
      {
        "duration": 1506,
        "start_time": "2022-02-25T13:59:29.407Z"
      },
      {
        "duration": 3,
        "start_time": "2022-02-25T13:59:36.239Z"
      },
      {
        "duration": 313,
        "start_time": "2022-02-25T13:59:36.986Z"
      }
    ],
    "kernelspec": {
      "display_name": "Python 3 (ipykernel)",
      "language": "python",
      "name": "python3"
    },
    "language_info": {
      "codemirror_mode": {
        "name": "ipython",
        "version": 3
      },
      "file_extension": ".py",
      "mimetype": "text/x-python",
      "name": "python",
      "nbconvert_exporter": "python",
      "pygments_lexer": "ipython3",
      "version": "3.9.5"
    },
    "toc": {
      "base_numbering": 1,
      "nav_menu": {},
      "number_sections": true,
      "sideBar": true,
      "skip_h1_title": true,
      "title_cell": "Содержание",
      "title_sidebar": "Contents",
      "toc_cell": true,
      "toc_position": {
        "height": "calc(100% - 180px)",
        "left": "10px",
        "top": "150px",
        "width": "383.984px"
      },
      "toc_section_display": true,
      "toc_window_display": true
    },
    "colab": {
      "provenance": [],
      "include_colab_link": true
    }
  },
  "nbformat": 4,
  "nbformat_minor": 0
}