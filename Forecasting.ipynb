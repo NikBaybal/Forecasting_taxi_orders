{
  "cells": [
    {
      "cell_type": "markdown",
      "metadata": {
        "id": "t4zCoyZHGe7y"
      },
      "source": [
        "<div style=\"background: #cceeaa; padding: 5px; border: 1px solid green; border-radius: 5px;\">\n",
        "    <font color='green'> <b><u>КОММЕНТАРИЙ РЕВЬЮЕРА</u></b>\n",
        "\n",
        "Павел, доброго дня! рад приветствовать тебя вновь) <br />\n",
        "(А дальше - шаблонная часть, как ты заметил по другим спринтам)<br>\n",
        "<br />\n",
        "Меня зовут Николай Шавлюго. <br />И на этом этапе твоего движения к новой профессии от меня будут комментарии по написанному коду. <br />Чтобы меньше \"мусорить эфир\" и чтобы максимально наглядно отделяться от основного кода, есть предложение условиться в некоторых обозначениях:<br /> <br />\n",
        "<u><b>ТАКОЙ ШРИФТ</b></u> - всегда начало комментария <br />\n",
        "<font color='green'>такой шрифт</font> - комментарии о том, что всё ОК <br/>\n",
        "<font color='orange'>такой шрифт</font> - комментарии о том, что всё ОК по результату,<br> однако есть на что обратить внимание в плане применения техник, или есть способы сделать более короткий или быстрый код <br/>\n",
        "<font color='red'>такой шрифт</font> - комментарии о том, что есть критичный момент, влияющий на бизнес-результат проекта.<br/>\n",
        "</font><br /><br />\n",
        "<font color='green'>Моей целью является не \"уличить\" в не знании, а просто высказать сверху твоих знаний - свой опыт, что бы ты мог использовать его для своего дальнейшего успеха) И очень здорово будет, если тебе удастся задавать вопросы, да и вообще - всячески доставать меня, если я по каким-то причинам не приму проект:) При этом, из своего опыта скажу, хорошо и важно, когда переписка ревьюера и студента - сохраняется на следующие проекты и даже на будущую практическую деятельность.<br>\n",
        "<BR> В ПУТЬ!<br>"
      ]
    },
    {
      "cell_type": "markdown",
      "metadata": {
        "id": "NWznR0CJGe70"
      },
      "source": [
        "<div class=\"alert alert-block alert-warning\">\n",
        "<b>Комментарий студента:</b> Привет Николай:) Спасибо за оперативное и детальное ревью)\n",
        "\n",
        "</div>"
      ]
    },
    {
      "cell_type": "markdown",
      "metadata": {
        "id": "atwWMFLzGe70"
      },
      "source": [
        "<div style=\"background: #cceeaa; padding: 5px; border: 1px solid green; border-radius: 5px;\">\n",
        "<font color='green'>\n",
        "<b><u>КОММЕНТАРИЙ РЕВЬЮЕРА 2</u></b>\n",
        "</font>\n",
        "<font color='green'><br>Привет, Павел!<br>\n",
        "Спасибо) Пошёл вниз.."
      ]
    },
    {
      "cell_type": "markdown",
      "metadata": {
        "toc": true,
        "id": "PphhU1JLGe70"
      },
      "source": [
        "<h1>Содержание<span class=\"tocSkip\"></span></h1>\n",
        "<div class=\"toc\"><ul class=\"toc-item\"><li><span><a href=\"#Подготовка\" data-toc-modified-id=\"Подготовка-1\"><span class=\"toc-item-num\">1&nbsp;&nbsp;</span>Подготовка</a></span><ul class=\"toc-item\"><li><span><a href=\"#Загрузка-и-вывод-данных\" data-toc-modified-id=\"Загрузка-и-вывод-данных-1.1\"><span class=\"toc-item-num\">1.1&nbsp;&nbsp;</span>Загрузка и вывод данных</a></span></li><li><span><a href=\"#Ресемплирование-по-одному-часу\" data-toc-modified-id=\"Ресемплирование-по-одному-часу-1.2\"><span class=\"toc-item-num\">1.2&nbsp;&nbsp;</span>Ресемплирование по одному часу</a></span></li><li><span><a href=\"#Создание-признаков\" data-toc-modified-id=\"Создание-признаков-1.3\"><span class=\"toc-item-num\">1.3&nbsp;&nbsp;</span>Создание признаков</a></span></li></ul></li><li><span><a href=\"#Анализ\" data-toc-modified-id=\"Анализ-2\"><span class=\"toc-item-num\">2&nbsp;&nbsp;</span>Анализ</a></span></li><li><span><a href=\"#Обучение\" data-toc-modified-id=\"Обучение-3\"><span class=\"toc-item-num\">3&nbsp;&nbsp;</span>Обучение</a></span><ul class=\"toc-item\"><li><span><a href=\"#Разделение-данных-на-обучающую-и-тестовую\" data-toc-modified-id=\"Разделение-данных-на-обучающую-и-тестовую-3.1\"><span class=\"toc-item-num\">3.1&nbsp;&nbsp;</span>Разделение данных на обучающую и тестовую</a></span></li><li><span><a href=\"#Расчет-RMSE-разных-моделей-на-тестовой-выборке\" data-toc-modified-id=\"Расчет-RMSE-разных-моделей-на-тестовой-выборке-3.2\"><span class=\"toc-item-num\">3.2&nbsp;&nbsp;</span>Расчет RMSE разных моделей на тестовой выборке</a></span><ul class=\"toc-item\"><li><span><a href=\"#Модель-Dummy-Regression\" data-toc-modified-id=\"Модель-Dummy-Regression-3.2.1\"><span class=\"toc-item-num\">3.2.1&nbsp;&nbsp;</span>Модель Dummy Regression</a></span></li><li><span><a href=\"#Модель--DecisionTree\" data-toc-modified-id=\"Модель--DecisionTree-3.2.2\"><span class=\"toc-item-num\">3.2.2&nbsp;&nbsp;</span>Модель  DecisionTree</a></span></li><li><span><a href=\"#Модель-Random-Forest\" data-toc-modified-id=\"Модель-Random-Forest-3.2.3\"><span class=\"toc-item-num\">3.2.3&nbsp;&nbsp;</span>Модель Random Forest</a></span></li><li><span><a href=\"#Модель-Linear-Regression\" data-toc-modified-id=\"Модель-Linear-Regression-3.2.4\"><span class=\"toc-item-num\">3.2.4&nbsp;&nbsp;</span>Модель Linear Regression</a></span></li><li><span><a href=\"#Модель-XGBoost\" data-toc-modified-id=\"Модель-XGBoost-3.2.5\"><span class=\"toc-item-num\">3.2.5&nbsp;&nbsp;</span>Модель XGBoost</a></span></li></ul></li><li><span><a href=\"#Модель-CatBoost\" data-toc-modified-id=\"Модель-CatBoost-3.3\"><span class=\"toc-item-num\">3.3&nbsp;&nbsp;</span>Модель CatBoost</a></span></li><li><span><a href=\"#Модель-LightGBM\" data-toc-modified-id=\"Модель-LightGBM-3.4\"><span class=\"toc-item-num\">3.4&nbsp;&nbsp;</span>Модель LightGBM</a></span></li></ul></li><li><span><a href=\"#Вывод\" data-toc-modified-id=\"Вывод-4\"><span class=\"toc-item-num\">4&nbsp;&nbsp;</span>Вывод</a></span></li></ul></div>"
      ]
    },
    {
      "cell_type": "markdown",
      "metadata": {
        "id": "SU25q2LMGe71"
      },
      "source": [
        "#  Прогнозирование заказов такси"
      ]
    },
    {
      "cell_type": "markdown",
      "metadata": {
        "id": "5wi05ll_Ge71"
      },
      "source": [
        "Предоставлены исторические данные о заказах такси в аэропортах.\n",
        "\n",
        "Основная задача проекта — построить модель для задачи регрессии, прогнозирующую количество заказов такси на следующий час. Метрика *RMSE* модели на тестовой выборке должно быть не больше 48."
      ]
    },
    {
      "cell_type": "markdown",
      "metadata": {
        "id": "qm0aHFYLGe71"
      },
      "source": [
        "## Подготовка"
      ]
    },
    {
      "cell_type": "markdown",
      "metadata": {
        "id": "kl-tfvTbGe71"
      },
      "source": [
        "### Загрузка и вывод данных"
      ]
    },
    {
      "cell_type": "code",
      "execution_count": null,
      "metadata": {
        "id": "fWgMZiu-Ge71"
      },
      "outputs": [],
      "source": [
        "import pandas as pd\n",
        "import numpy as np\n",
        "import matplotlib.pyplot as plt\n",
        "from sklearn.model_selection import train_test_split\n",
        "from numpy.random import RandomState\n",
        "from statsmodels.tsa.seasonal import seasonal_decompose\n",
        "from sklearn.metrics import mean_squared_error\n",
        "from sklearn.model_selection import GridSearchCV\n",
        "from sklearn.tree import DecisionTreeRegressor\n",
        "from sklearn.ensemble import RandomForestRegressor\n",
        "from sklearn.linear_model import LinearRegression\n",
        "from sklearn.dummy import  DummyRegressor\n",
        "from catboost import CatBoostRegressor\n",
        "import xgboost as xgb\n",
        "import lightgbm as lgb\n",
        "from sklearn.model_selection import TimeSeriesSplit\n",
        "from sklearn.metrics import make_scorer"
      ]
    },
    {
      "cell_type": "code",
      "execution_count": null,
      "metadata": {
        "id": "inh5IPG3Ge72"
      },
      "outputs": [],
      "source": [
        "df=pd.read_csv('/datasets/taxi.csv', index_col=[0], parse_dates=[0])\n",
        "df.sort_index(inplace=True)"
      ]
    },
    {
      "cell_type": "code",
      "execution_count": null,
      "metadata": {
        "id": "bo_N78bEGe72",
        "outputId": "56a0be28-3f99-4ea3-a59f-a31466c3e96d"
      },
      "outputs": [
        {
          "name": "stdout",
          "output_type": "stream",
          "text": [
            "Исходная таблица:\n"
          ]
        },
        {
          "data": {
            "text/html": [
              "<div>\n",
              "<style scoped>\n",
              "    .dataframe tbody tr th:only-of-type {\n",
              "        vertical-align: middle;\n",
              "    }\n",
              "\n",
              "    .dataframe tbody tr th {\n",
              "        vertical-align: top;\n",
              "    }\n",
              "\n",
              "    .dataframe thead th {\n",
              "        text-align: right;\n",
              "    }\n",
              "</style>\n",
              "<table border=\"1\" class=\"dataframe\">\n",
              "  <thead>\n",
              "    <tr style=\"text-align: right;\">\n",
              "      <th></th>\n",
              "      <th>num_orders</th>\n",
              "    </tr>\n",
              "    <tr>\n",
              "      <th>datetime</th>\n",
              "      <th></th>\n",
              "    </tr>\n",
              "  </thead>\n",
              "  <tbody>\n",
              "    <tr>\n",
              "      <td>2018-03-01 00:00:00</td>\n",
              "      <td>9</td>\n",
              "    </tr>\n",
              "    <tr>\n",
              "      <td>2018-03-01 00:10:00</td>\n",
              "      <td>14</td>\n",
              "    </tr>\n",
              "    <tr>\n",
              "      <td>2018-03-01 00:20:00</td>\n",
              "      <td>28</td>\n",
              "    </tr>\n",
              "    <tr>\n",
              "      <td>2018-03-01 00:30:00</td>\n",
              "      <td>20</td>\n",
              "    </tr>\n",
              "    <tr>\n",
              "      <td>2018-03-01 00:40:00</td>\n",
              "      <td>32</td>\n",
              "    </tr>\n",
              "    <tr>\n",
              "      <td>...</td>\n",
              "      <td>...</td>\n",
              "    </tr>\n",
              "    <tr>\n",
              "      <td>2018-08-31 23:10:00</td>\n",
              "      <td>32</td>\n",
              "    </tr>\n",
              "    <tr>\n",
              "      <td>2018-08-31 23:20:00</td>\n",
              "      <td>24</td>\n",
              "    </tr>\n",
              "    <tr>\n",
              "      <td>2018-08-31 23:30:00</td>\n",
              "      <td>27</td>\n",
              "    </tr>\n",
              "    <tr>\n",
              "      <td>2018-08-31 23:40:00</td>\n",
              "      <td>39</td>\n",
              "    </tr>\n",
              "    <tr>\n",
              "      <td>2018-08-31 23:50:00</td>\n",
              "      <td>53</td>\n",
              "    </tr>\n",
              "  </tbody>\n",
              "</table>\n",
              "<p>26496 rows × 1 columns</p>\n",
              "</div>"
            ],
            "text/plain": [
              "                     num_orders\n",
              "datetime                       \n",
              "2018-03-01 00:00:00           9\n",
              "2018-03-01 00:10:00          14\n",
              "2018-03-01 00:20:00          28\n",
              "2018-03-01 00:30:00          20\n",
              "2018-03-01 00:40:00          32\n",
              "...                         ...\n",
              "2018-08-31 23:10:00          32\n",
              "2018-08-31 23:20:00          24\n",
              "2018-08-31 23:30:00          27\n",
              "2018-08-31 23:40:00          39\n",
              "2018-08-31 23:50:00          53\n",
              "\n",
              "[26496 rows x 1 columns]"
            ]
          },
          "metadata": {},
          "output_type": "display_data"
        },
        {
          "name": "stdout",
          "output_type": "stream",
          "text": [
            "\n",
            "Информация о таблице:\n",
            "<class 'pandas.core.frame.DataFrame'>\n",
            "DatetimeIndex: 26496 entries, 2018-03-01 00:00:00 to 2018-08-31 23:50:00\n",
            "Data columns (total 1 columns):\n",
            "num_orders    26496 non-null int64\n",
            "dtypes: int64(1)\n",
            "memory usage: 414.0 KB\n",
            "None\n",
            "\n",
            "Статистические данные количественных значений:\n",
            "         num_orders\n",
            "count  26496.000000\n",
            "mean      14.070463\n",
            "std        9.211330\n",
            "min        0.000000\n",
            "25%        8.000000\n",
            "50%       13.000000\n",
            "75%       19.000000\n",
            "max      119.000000\n",
            "\n",
            "Количество пропущенных значений:\n",
            "num_orders    0\n",
            "dtype: int64\n"
          ]
        }
      ],
      "source": [
        "def info_table(data):\n",
        "    print('Исходная таблица:')\n",
        "    display(data)\n",
        "    print()\n",
        "    print('Информация о таблице:')\n",
        "    print(data.info())\n",
        "    print()\n",
        "    print('Статистические данные количественных значений:')\n",
        "    print(data.describe())\n",
        "    print()\n",
        "    print('Количество пропущенных значений:')\n",
        "    print(data.isnull().sum())\n",
        "\n",
        "info_table(df)"
      ]
    },
    {
      "cell_type": "markdown",
      "metadata": {
        "id": "K9Hc5djRGe73"
      },
      "source": [
        "<div style=\"background: #cceeaa; padding: 5px; border: 1px solid green; border-radius: 5px;\">\n",
        "<font color='green'>\n",
        "<b><u>КОММЕНТАРИЙ РЕВЬЮЕРА</u></b>\n",
        "</font>\n",
        "<font color='green'><br>ок, данные на базе, есть контакт."
      ]
    },
    {
      "cell_type": "markdown",
      "metadata": {
        "id": "gmojAIZ0Ge73"
      },
      "source": [
        "### Ресемплирование по одному часу"
      ]
    },
    {
      "cell_type": "code",
      "execution_count": null,
      "metadata": {
        "scrolled": false,
        "id": "mWxJx1QSGe73",
        "outputId": "caefb09b-2207-4fba-8674-d4712e06ada2"
      },
      "outputs": [
        {
          "name": "stdout",
          "output_type": "stream",
          "text": [
            "Исходная таблица:\n"
          ]
        },
        {
          "data": {
            "text/html": [
              "<div>\n",
              "<style scoped>\n",
              "    .dataframe tbody tr th:only-of-type {\n",
              "        vertical-align: middle;\n",
              "    }\n",
              "\n",
              "    .dataframe tbody tr th {\n",
              "        vertical-align: top;\n",
              "    }\n",
              "\n",
              "    .dataframe thead th {\n",
              "        text-align: right;\n",
              "    }\n",
              "</style>\n",
              "<table border=\"1\" class=\"dataframe\">\n",
              "  <thead>\n",
              "    <tr style=\"text-align: right;\">\n",
              "      <th></th>\n",
              "      <th>num_orders</th>\n",
              "    </tr>\n",
              "    <tr>\n",
              "      <th>datetime</th>\n",
              "      <th></th>\n",
              "    </tr>\n",
              "  </thead>\n",
              "  <tbody>\n",
              "    <tr>\n",
              "      <td>2018-03-01 00:00:00</td>\n",
              "      <td>124</td>\n",
              "    </tr>\n",
              "    <tr>\n",
              "      <td>2018-03-01 01:00:00</td>\n",
              "      <td>85</td>\n",
              "    </tr>\n",
              "    <tr>\n",
              "      <td>2018-03-01 02:00:00</td>\n",
              "      <td>71</td>\n",
              "    </tr>\n",
              "    <tr>\n",
              "      <td>2018-03-01 03:00:00</td>\n",
              "      <td>66</td>\n",
              "    </tr>\n",
              "    <tr>\n",
              "      <td>2018-03-01 04:00:00</td>\n",
              "      <td>43</td>\n",
              "    </tr>\n",
              "    <tr>\n",
              "      <td>...</td>\n",
              "      <td>...</td>\n",
              "    </tr>\n",
              "    <tr>\n",
              "      <td>2018-08-31 19:00:00</td>\n",
              "      <td>136</td>\n",
              "    </tr>\n",
              "    <tr>\n",
              "      <td>2018-08-31 20:00:00</td>\n",
              "      <td>154</td>\n",
              "    </tr>\n",
              "    <tr>\n",
              "      <td>2018-08-31 21:00:00</td>\n",
              "      <td>159</td>\n",
              "    </tr>\n",
              "    <tr>\n",
              "      <td>2018-08-31 22:00:00</td>\n",
              "      <td>223</td>\n",
              "    </tr>\n",
              "    <tr>\n",
              "      <td>2018-08-31 23:00:00</td>\n",
              "      <td>205</td>\n",
              "    </tr>\n",
              "  </tbody>\n",
              "</table>\n",
              "<p>4416 rows × 1 columns</p>\n",
              "</div>"
            ],
            "text/plain": [
              "                     num_orders\n",
              "datetime                       \n",
              "2018-03-01 00:00:00         124\n",
              "2018-03-01 01:00:00          85\n",
              "2018-03-01 02:00:00          71\n",
              "2018-03-01 03:00:00          66\n",
              "2018-03-01 04:00:00          43\n",
              "...                         ...\n",
              "2018-08-31 19:00:00         136\n",
              "2018-08-31 20:00:00         154\n",
              "2018-08-31 21:00:00         159\n",
              "2018-08-31 22:00:00         223\n",
              "2018-08-31 23:00:00         205\n",
              "\n",
              "[4416 rows x 1 columns]"
            ]
          },
          "metadata": {},
          "output_type": "display_data"
        },
        {
          "name": "stdout",
          "output_type": "stream",
          "text": [
            "\n",
            "Информация о таблице:\n",
            "<class 'pandas.core.frame.DataFrame'>\n",
            "DatetimeIndex: 4416 entries, 2018-03-01 00:00:00 to 2018-08-31 23:00:00\n",
            "Freq: H\n",
            "Data columns (total 1 columns):\n",
            "num_orders    4416 non-null int64\n",
            "dtypes: int64(1)\n",
            "memory usage: 69.0 KB\n",
            "None\n",
            "\n",
            "Статистические данные количественных значений:\n",
            "        num_orders\n",
            "count  4416.000000\n",
            "mean     84.422781\n",
            "std      45.023853\n",
            "min       0.000000\n",
            "25%      54.000000\n",
            "50%      78.000000\n",
            "75%     107.000000\n",
            "max     462.000000\n",
            "\n",
            "Количество пропущенных значений:\n",
            "num_orders    0\n",
            "dtype: int64\n"
          ]
        }
      ],
      "source": [
        "df_hour = df.resample('1H').sum()\n",
        "info_table(df_hour)"
      ]
    },
    {
      "cell_type": "markdown",
      "metadata": {
        "id": "_q9Jl1fyGe73"
      },
      "source": [
        "<div style=\"background: #cceeaa; padding: 5px; border: 1px solid green; border-radius: 5px;\">\n",
        "<font color='green'>\n",
        "<b><u>КОММЕНТАРИЙ РЕВЬЮЕРА</u></b>\n",
        "</font>\n",
        "<font color='green'><br>принято)"
      ]
    },
    {
      "cell_type": "markdown",
      "metadata": {
        "id": "raLS-kmtGe74"
      },
      "source": [
        "### Создание признаков"
      ]
    },
    {
      "cell_type": "code",
      "execution_count": null,
      "metadata": {
        "id": "cEblm_pfGe74"
      },
      "outputs": [],
      "source": [
        "def make_features(data, max_lag, rolling_mean_size):\n",
        "    data['dayofweek'] = data.index.dayofweek\n",
        "    data['hour'] = data.index.hour\n",
        "    for lag in range(1, max_lag + 1):\n",
        "        data['lag_{}'.format(lag)] = data['num_orders'].shift(lag)\n",
        "\n",
        "    data['rolling_mean'] = data['num_orders'].shift().rolling(rolling_mean_size).mean()"
      ]
    },
    {
      "cell_type": "markdown",
      "metadata": {
        "id": "nubXMKugGe74"
      },
      "source": [
        "<div style=\"background: #cceeaa; padding: 5px; border: 1px solid green; border-radius: 5px;\">\n",
        "<font color='green'>\n",
        "    <b><u>КОММЕНТАРИЙ РЕВЬЮЕРА</u></b>\n",
        "\n",
        "</font></font>\n",
        "<font color='red'><br>\n",
        "На мой взгляд: не все факторы подходят, чисто логически. Выскажу свою позицию:<br><br>\n",
        "\n",
        "1) Фактор год: НЕТ, однозначно не подходит. У нас данных меньше года. Поэтому будет просто константа.<br>\n",
        "2) Фактор месяц: НЕТ, аналогично году, у нас в истории всего один март, май.... Да и горизоно прогноза - часы. Поэтому сезонность времени года будет просто в тренде уже заложена.<br>\n",
        "3) Фактор день: НЕТ, также не подходит, будет просто последовательность чисел<br>\n",
        "4) Фактор день недели: ДА, т.к. у нас есть недельная сезонность<br>\n",
        "5) Фактор час: ДА, т.к. есть часовая (суточная) сезонность.<br>\n",
        "6) Факто lag: ДА, это параметр авторегрессии - учёт влияния вчерашних событий на сегодняшние.<br>\n",
        "7) Фактор rolling: ДА, это аналог тренда. Чем больше окно сглаживания, тем ровнее линия тренда <br>\n",
        "\n",
        "Как ты думаешь?"
      ]
    },
    {
      "cell_type": "markdown",
      "metadata": {
        "id": "VC5b7oXwGe74"
      },
      "source": [
        "<div class=\"alert alert-block alert-warning\">\n",
        "<b>Комментарий студента:</b> Да, абсолютно согласен: убрал все лишние факторы и добавил фактор часа.\n",
        "\n",
        "</div>"
      ]
    },
    {
      "cell_type": "markdown",
      "metadata": {
        "id": "kbucRaiaGe74"
      },
      "source": [
        "<div style=\"background: #cceeaa; padding: 5px; border: 1px solid green; border-radius: 5px;\">\n",
        "<font color='green'>\n",
        "<b><u>КОММЕНТАРИЙ РЕВЬЮЕРА 2</u></b>\n",
        "</font>\n",
        "<font color='green'><br>ок, есть контакт)"
      ]
    },
    {
      "cell_type": "markdown",
      "metadata": {
        "id": "7Bq14egQGe74"
      },
      "source": [
        "<div style=\"background: #cceeaa; padding: 5px; border: 1px solid green; border-radius: 5px;\">\n",
        "<font color='green'>\n",
        "<u>КОММЕНТАРИЙ РЕВЬЮЕРА</u>\n",
        "</font>\n",
        "<font color='green'><br> Сразу пару строк о факторе месяц:<br>\n",
        "Если нам брать горизонт прогноза месяц или два , то фактор месяц - очень важне  это факт. А если брать горизонт прогноза несколько часов, то фактор времени года - на таком отрезке времени и не заметен. К тому же, он уже присутствует в тренде (скользящем среднем). Т.е. его участие локально как бы и есть.<br>\n",
        "\n",
        "То, что сейчас месяц может увеличивать точность - это случайно. Он ведь представлен как числа от 1 до 8 и ещё есть тренд, как раз. Т.е. произошло наложение тренда и номера месяца. А вот если продажи буду уходить вниз (или перестанут расти), а мы будем продолжать пользовться моделью, то модель будет предсказывать рост на сентябрь (цифра 9), на октябпрь (цифра 10)... т.е. чиссто числовая тенденция)<br>\n",
        "    \n",
        "Поэтому, рекомендация для будущих проетов на эту тему:<br>\n",
        "Учитывать горизонт прогноза: если задача стоит среднесрочного и долгосрочного прогноза, то месяц нам в помощь (при этом данных должно быть не меннее 2-х / 3-х лет). Если задача краткосрочного прогнозирования - месяц не надо использовать, он уже в тренде заложен."
      ]
    },
    {
      "cell_type": "code",
      "execution_count": null,
      "metadata": {
        "id": "ON9pQAPGGe74"
      },
      "outputs": [],
      "source": [
        "make_features(df_hour, 1, 24)"
      ]
    },
    {
      "cell_type": "markdown",
      "metadata": {
        "id": "U_BsabkfGe74"
      },
      "source": [
        "<div style=\"background: #cceeaa; padding: 5px; border: 1px solid green; border-radius: 5px;\">\n",
        "<font color='green'>\n",
        "    <b><u>КОММЕНТАРИЙ РЕВЬЮЕРА</u></b>\n",
        "<font color='green'>Пару строк по фактору лаг и скользящее среднее:<br>\n",
        "Lag: его называют ещё параметром авторегрессии. На бытовом уровне его можно понять так: допустим вчера мы собрались с друзьями и не много закусили.... повлияет ли это на сегодняшний настрой на жизнь? Скорее да)))) Так вот с авторегрессией также. Допустим lag=1 - учитывает (для удобства будем считать, что продажи собраны по дням) как вчерашние продажи - вчерашние события - воалияли на сегоняшние.Lag=2: учитывает как позавчерашние продажи влияютна сегодняшние.....<br>\n",
        "    \n",
        "По скользящему среднего:<br>\n",
        "Предположим rolling=10 - скользящее среднее. По сути, ищем среднее по 10 точкам, потом следующие 10 точек, и т.д. - это некое подобие тренда будет - средней линии. Т.е. - сглаживание колебаний/выбросов. Это легко увидеть на пределе: допустим длина ряда 100 дней. rolling(100) - это просто одно число - среднее всего ряда. <br>\n",
        "    \n",
        "Поэтому, если выставить сезонности - hour и деньНедели, то дополнительные факторы могут быть такие: лаг =1 (максимум 2), а скользящее среднее = 24 (среднее за сутки). Т.е. начинать с этого. В итоге модель будет приемлемая по точности и не много факторов.. а это значит и для бизнеса будет легче доносить решение)<br>\n",
        "    \n",
        "А скользящее среднее =1 это тоже самое, что лаг=1, можно вот ниже из твоей таблички и увидеть))"
      ]
    },
    {
      "cell_type": "markdown",
      "metadata": {
        "id": "AP5IezQvGe74"
      },
      "source": [
        "<div class=\"alert alert-block alert-warning\">\n",
        "<b>Комментарий студента:</b> Понял, спасибо за разъяснения:) Изменил лаг на 1, а скользящее среднее на 24.\n",
        "\n",
        "</div>"
      ]
    },
    {
      "cell_type": "markdown",
      "metadata": {
        "id": "v6mJ4-CCGe74"
      },
      "source": [
        "<div style=\"background: #cceeaa; padding: 5px; border: 1px solid green; border-radius: 5px;\">\n",
        "<font color='green'>\n",
        "<b><u>КОММЕНТАРИЙ РЕВЬЮЕРА 2</u></b>\n",
        "</font>\n",
        "<font color='green'><br>ок."
      ]
    },
    {
      "cell_type": "code",
      "execution_count": null,
      "metadata": {
        "id": "Y_E7EvLMGe75",
        "outputId": "730c563a-e7ed-44bd-d45d-e41a20ac296a"
      },
      "outputs": [
        {
          "data": {
            "text/html": [
              "<div>\n",
              "<style scoped>\n",
              "    .dataframe tbody tr th:only-of-type {\n",
              "        vertical-align: middle;\n",
              "    }\n",
              "\n",
              "    .dataframe tbody tr th {\n",
              "        vertical-align: top;\n",
              "    }\n",
              "\n",
              "    .dataframe thead th {\n",
              "        text-align: right;\n",
              "    }\n",
              "</style>\n",
              "<table border=\"1\" class=\"dataframe\">\n",
              "  <thead>\n",
              "    <tr style=\"text-align: right;\">\n",
              "      <th></th>\n",
              "      <th>num_orders</th>\n",
              "      <th>dayofweek</th>\n",
              "      <th>hour</th>\n",
              "      <th>lag_1</th>\n",
              "      <th>rolling_mean</th>\n",
              "    </tr>\n",
              "    <tr>\n",
              "      <th>datetime</th>\n",
              "      <th></th>\n",
              "      <th></th>\n",
              "      <th></th>\n",
              "      <th></th>\n",
              "      <th></th>\n",
              "    </tr>\n",
              "  </thead>\n",
              "  <tbody>\n",
              "    <tr>\n",
              "      <td>2018-03-01 00:00:00</td>\n",
              "      <td>124</td>\n",
              "      <td>3</td>\n",
              "      <td>0</td>\n",
              "      <td>NaN</td>\n",
              "      <td>NaN</td>\n",
              "    </tr>\n",
              "    <tr>\n",
              "      <td>2018-03-01 01:00:00</td>\n",
              "      <td>85</td>\n",
              "      <td>3</td>\n",
              "      <td>1</td>\n",
              "      <td>124.0</td>\n",
              "      <td>NaN</td>\n",
              "    </tr>\n",
              "    <tr>\n",
              "      <td>2018-03-01 02:00:00</td>\n",
              "      <td>71</td>\n",
              "      <td>3</td>\n",
              "      <td>2</td>\n",
              "      <td>85.0</td>\n",
              "      <td>NaN</td>\n",
              "    </tr>\n",
              "    <tr>\n",
              "      <td>2018-03-01 03:00:00</td>\n",
              "      <td>66</td>\n",
              "      <td>3</td>\n",
              "      <td>3</td>\n",
              "      <td>71.0</td>\n",
              "      <td>NaN</td>\n",
              "    </tr>\n",
              "    <tr>\n",
              "      <td>2018-03-01 04:00:00</td>\n",
              "      <td>43</td>\n",
              "      <td>3</td>\n",
              "      <td>4</td>\n",
              "      <td>66.0</td>\n",
              "      <td>NaN</td>\n",
              "    </tr>\n",
              "    <tr>\n",
              "      <td>...</td>\n",
              "      <td>...</td>\n",
              "      <td>...</td>\n",
              "      <td>...</td>\n",
              "      <td>...</td>\n",
              "      <td>...</td>\n",
              "    </tr>\n",
              "    <tr>\n",
              "      <td>2018-08-31 19:00:00</td>\n",
              "      <td>136</td>\n",
              "      <td>4</td>\n",
              "      <td>19</td>\n",
              "      <td>207.0</td>\n",
              "      <td>164.875000</td>\n",
              "    </tr>\n",
              "    <tr>\n",
              "      <td>2018-08-31 20:00:00</td>\n",
              "      <td>154</td>\n",
              "      <td>4</td>\n",
              "      <td>20</td>\n",
              "      <td>136.0</td>\n",
              "      <td>167.541667</td>\n",
              "    </tr>\n",
              "    <tr>\n",
              "      <td>2018-08-31 21:00:00</td>\n",
              "      <td>159</td>\n",
              "      <td>4</td>\n",
              "      <td>21</td>\n",
              "      <td>154.0</td>\n",
              "      <td>168.041667</td>\n",
              "    </tr>\n",
              "    <tr>\n",
              "      <td>2018-08-31 22:00:00</td>\n",
              "      <td>223</td>\n",
              "      <td>4</td>\n",
              "      <td>22</td>\n",
              "      <td>159.0</td>\n",
              "      <td>166.416667</td>\n",
              "    </tr>\n",
              "    <tr>\n",
              "      <td>2018-08-31 23:00:00</td>\n",
              "      <td>205</td>\n",
              "      <td>4</td>\n",
              "      <td>23</td>\n",
              "      <td>223.0</td>\n",
              "      <td>169.125000</td>\n",
              "    </tr>\n",
              "  </tbody>\n",
              "</table>\n",
              "<p>4416 rows × 5 columns</p>\n",
              "</div>"
            ],
            "text/plain": [
              "                     num_orders  dayofweek  hour  lag_1  rolling_mean\n",
              "datetime                                                             \n",
              "2018-03-01 00:00:00         124          3     0    NaN           NaN\n",
              "2018-03-01 01:00:00          85          3     1  124.0           NaN\n",
              "2018-03-01 02:00:00          71          3     2   85.0           NaN\n",
              "2018-03-01 03:00:00          66          3     3   71.0           NaN\n",
              "2018-03-01 04:00:00          43          3     4   66.0           NaN\n",
              "...                         ...        ...   ...    ...           ...\n",
              "2018-08-31 19:00:00         136          4    19  207.0    164.875000\n",
              "2018-08-31 20:00:00         154          4    20  136.0    167.541667\n",
              "2018-08-31 21:00:00         159          4    21  154.0    168.041667\n",
              "2018-08-31 22:00:00         223          4    22  159.0    166.416667\n",
              "2018-08-31 23:00:00         205          4    23  223.0    169.125000\n",
              "\n",
              "[4416 rows x 5 columns]"
            ]
          },
          "execution_count": 7,
          "metadata": {},
          "output_type": "execute_result"
        }
      ],
      "source": [
        "df_hour"
      ]
    },
    {
      "cell_type": "markdown",
      "metadata": {
        "id": "Iq3ZMKueGe75"
      },
      "source": [
        "## Анализ"
      ]
    },
    {
      "cell_type": "code",
      "execution_count": null,
      "metadata": {
        "scrolled": false,
        "id": "PZd-YjJNGe75",
        "outputId": "2199a213-d207-4f23-af25-8bf1322e5bab"
      },
      "outputs": [
        {
          "data": {
            "text/plain": [
              "<matplotlib.axes._subplots.AxesSubplot at 0x7f108699ed50>"
            ]
          },
          "execution_count": 8,
          "metadata": {},
          "output_type": "execute_result"
        },
        {
          "data": {
            "image/png": "[encoded data removed]",
            "text/plain": [
              "<Figure size 864x432 with 1 Axes>"
            ]
          },
          "metadata": {
            "needs_background": "light"
          },
          "output_type": "display_data"
        }
      ],
      "source": [
        "df_hour['num_orders'].plot(\n",
        "    title='Исторические данные количества заказов за несколько месяцев',\n",
        "    grid=True,\n",
        "    figsize=(12, 6)\n",
        "    )"
      ]
    },
    {
      "cell_type": "code",
      "execution_count": null,
      "metadata": {
        "id": "7Jvy_rTKGe75",
        "outputId": "9865a71f-c4f8-437a-c02a-dc7d1620e360"
      },
      "outputs": [
        {
          "data": {
            "text/plain": [
              "<matplotlib.axes._subplots.AxesSubplot at 0x7f1085e7db50>"
            ]
          },
          "execution_count": 9,
          "metadata": {},
          "output_type": "execute_result"
        },
        {
          "data": {
            "image/png": "[encoded data removed]",
            "text/plain": [
              "<Figure size 864x432 with 1 Axes>"
            ]
          },
          "metadata": {
            "needs_background": "light"
          },
          "output_type": "display_data"
        }
      ],
      "source": [
        "df_hour['num_orders'][:168].plot(\n",
        "    title='Исторические данные количества заказов за неделю',\n",
        "    grid=True,\n",
        "    figsize=(12, 6),\n",
        "    )"
      ]
    },
    {
      "cell_type": "markdown",
      "metadata": {
        "id": "ZqG1eGZgGe75"
      },
      "source": [
        "Исходя из графиков видно, что есть тренд на увеличение и сезонность в течение дня."
      ]
    },
    {
      "cell_type": "markdown",
      "metadata": {
        "id": "cBetfrzeGe75"
      },
      "source": [
        "<div style=\"background: #cceeaa; padding: 5px; border: 1px solid green; border-radius: 5px;\">\n",
        "<font color='green'>\n",
        "    <b><u>КОММЕНТАРИЙ РЕВЬЮЕРА</u></b>\n",
        "</font>\n",
        "<font color='green'><br>\n",
        "Исследование - понятно.<font color='red'><br> Есть ещё метод декомпозиции временного ряда seasonal_decompose(df). Сделай, пожалуйста<br><font color='green'><br>\n",
        "Инструмент декомпозиции в частности, а графический анализ временных рядов как в принципе - важный этап моделирования рядов.<br> Позволяет увидеть продажи визуально, а это помогает сделать предвариетльные выводы<br>\n",
        "    \n",
        "Хочу озвучить ещё такой момент<br>\n",
        "В реальности бизнеса есть все три вида сезонности:<br>\n",
        "1) дневная сезонность -  данные собраны по дням, т.е. будни и выходные имеют разные продажи<br>\n",
        "2) внутрисуточная сезонность: когда продажи утром отличаются от продаж вечером <br>\n",
        "3) месячная сезонность: когда продажи лета и осени - разные.<br><br>\n",
        "И если строить прогноз на длительный период времени, то без учёта всех видов сезонности  - не обойтись<br>\n",
        "Например: есть в данных восходящий тренд. Но вопрос такой возникает: <br>\n",
        "этот подъём действительно за счёт роста компании (чаще всего тренд - это отражение роста компании) или есть ещё влияние месячной сезнности? (летом - продаж в рост, например, и именно этот момент мы наблюдаем в данных)<br>\n",
        "Ответ на вопрос - не протой на имеющихся данных - у нас данных меньше года. А это означает, что месячную сезонность нам не просто вычислить адекватно - т.е. не внести в модель корректтировки месяцев(<br>\n",
        "Поэтому, я бы дал такой совет:<br>\n",
        "на горизонте прогнозирования - несколько часов или дней - можно предположить что у нас тренд.<br>\n",
        "А если строить прогноз на несколько недель - вот тут утверждать наличие тренда надо с большой осторожностью))))<br><br>\n",
        "Ну, а если вернуться к постановке задаче - построить прогноз на час (очень маленький горизонт), то двух сезонности может и хватить."
      ]
    },
    {
      "cell_type": "markdown",
      "metadata": {
        "id": "aGveify4Ge75"
      },
      "source": [
        "<div class=\"alert alert-block alert-warning\">\n",
        "<b>Комментарий студента:</b> Ниже я использовал метод декомпозиции временного ряда seasonal_decompose(df) и написал вывод.\n",
        "\n",
        "</div>"
      ]
    },
    {
      "cell_type": "code",
      "execution_count": null,
      "metadata": {
        "id": "AuLh0NV2Ge76"
      },
      "outputs": [],
      "source": [
        "df_hour = df_hour.dropna()"
      ]
    },
    {
      "cell_type": "code",
      "execution_count": null,
      "metadata": {
        "scrolled": true,
        "id": "spGWQydnGe76",
        "outputId": "a30450a0-e225-4501-ecbb-b8365410b988"
      },
      "outputs": [
        {
          "data": {
            "text/plain": [
              "<matplotlib.axes._subplots.AxesSubplot at 0x7f10861b2250>"
            ]
          },
          "execution_count": 11,
          "metadata": {},
          "output_type": "execute_result"
        },
        {
          "data": {
            "image/png": "[encoded data removed]",
            "text/plain": [
              "<Figure size 432x288 with 1 Axes>"
            ]
          },
          "metadata": {
            "needs_background": "light"
          },
          "output_type": "display_data"
        }
      ],
      "source": [
        "decomposed = seasonal_decompose(df_hour['num_orders'])\n",
        "decomposed.seasonal['2018-03-02':'2018-03-09'].plot(ax=plt.gca())"
      ]
    },
    {
      "cell_type": "code",
      "execution_count": null,
      "metadata": {
        "id": "HApMr-0mGe76",
        "outputId": "b6b6844f-6ccb-4c52-a058-8ddc9a94666f"
      },
      "outputs": [
        {
          "data": {
            "text/plain": [
              "<matplotlib.axes._subplots.AxesSubplot at 0x7f10860c5c90>"
            ]
          },
          "execution_count": 12,
          "metadata": {},
          "output_type": "execute_result"
        },
        {
          "data": {
            "image/png": "[encoded data removed]",
            "text/plain": [
              "<Figure size 432x288 with 1 Axes>"
            ]
          },
          "metadata": {
            "needs_background": "light"
          },
          "output_type": "display_data"
        }
      ],
      "source": [
        "decomposed.trend.plot(ax=plt.gca())"
      ]
    },
    {
      "cell_type": "markdown",
      "metadata": {
        "id": "RFyBP369Ge76"
      },
      "source": [
        "Из вышеприведенных графиков, построенных методом декомпозиции видно, что в данном временном ряде есть только внутрисуточная сезонность и тренд на увеличение от месяца к месяцу."
      ]
    },
    {
      "cell_type": "markdown",
      "metadata": {
        "id": "WKxOcReDGe76"
      },
      "source": [
        "<div style=\"background: #cceeaa; padding: 5px; border: 1px solid green; border-radius: 5px;\">\n",
        "<font color='green'>\n",
        "<b><u>КОММЕНТАРИЙ РЕВЬЮЕРА 2</u></b>\n",
        "</font>\n",
        "<font color='green'><br>принято)"
      ]
    },
    {
      "cell_type": "markdown",
      "metadata": {
        "id": "zaXNoYQCGe76"
      },
      "source": [
        "## Обучение"
      ]
    },
    {
      "cell_type": "markdown",
      "metadata": {
        "id": "3iWHz-L8Ge76"
      },
      "source": [
        "### Разделение данных на обучающую и тестовую"
      ]
    },
    {
      "cell_type": "code",
      "execution_count": null,
      "metadata": {
        "id": "CUjVERo4Ge8C"
      },
      "outputs": [],
      "source": [
        "X=df_hour.drop(['num_orders'], axis=1)\n",
        "y=df_hour['num_orders']"
      ]
    },
    {
      "cell_type": "code",
      "execution_count": null,
      "metadata": {
        "id": "2IcwF-R-Ge8C"
      },
      "outputs": [],
      "source": [
        "X_train = X[:int(X.shape[0]*0.9)]\n",
        "X_test = X[int(X.shape[0]*0.9):]\n",
        "y_train = y[:int(X.shape[0]*0.9)]\n",
        "y_test = y[int(X.shape[0]*0.9):]"
      ]
    },
    {
      "cell_type": "markdown",
      "metadata": {
        "id": "7SVU4PlcGe8C"
      },
      "source": [
        "### Расчет RMSE разных моделей на тестовой выборке"
      ]
    },
    {
      "cell_type": "markdown",
      "metadata": {
        "id": "eQAk3ffuGe8C"
      },
      "source": [
        "Создаем функцию для расчета RMSE для выбранной модели."
      ]
    },
    {
      "cell_type": "code",
      "execution_count": null,
      "metadata": {
        "id": "vxfL9eTvGe8C"
      },
      "outputs": [],
      "source": [
        "def RMSE(y_test,y_pred):\n",
        "    return (mean_squared_error(y_test,y_pred)**0.5).round(1)"
      ]
    },
    {
      "cell_type": "markdown",
      "metadata": {
        "id": "59XMm_KEGe8C"
      },
      "source": [
        "#### Модель Dummy Regression"
      ]
    },
    {
      "cell_type": "code",
      "execution_count": null,
      "metadata": {
        "scrolled": true,
        "id": "gSZGsoLTGe8C",
        "outputId": "2424fcb3-d4fe-4f65-ec60-f1b4ad19fddd"
      },
      "outputs": [
        {
          "name": "stdout",
          "output_type": "stream",
          "text": [
            "RMSE модели DummyRegression на тестовой выборке:\n",
            "84.7\n"
          ]
        }
      ],
      "source": [
        "dummy_regressor = DummyRegressor(strategy=\"mean\")\n",
        "dummy_regressor.fit(X_train,y_train)\n",
        "dummy_pred = dummy_regressor.predict(X_test)\n",
        "rmse_dummy = RMSE(y_test, dummy_pred)\n",
        "print(\"RMSE модели DummyRegression на тестовой выборке:\")\n",
        "print(rmse_dummy)"
      ]
    },
    {
      "cell_type": "markdown",
      "metadata": {
        "id": "r_C1staUGe8D"
      },
      "source": [
        "#### Модель  DecisionTree"
      ]
    },
    {
      "cell_type": "code",
      "execution_count": null,
      "metadata": {
        "id": "NLL8xRUeGe8D"
      },
      "outputs": [],
      "source": [
        "rmse_scorer=make_scorer(RMSE,greater_is_better=False)"
      ]
    },
    {
      "cell_type": "code",
      "execution_count": null,
      "metadata": {
        "id": "09a7bMnAGe8D",
        "outputId": "8a2b1a7a-310e-47b6-b0ce-880c5eff4f8b"
      },
      "outputs": [
        {
          "name": "stdout",
          "output_type": "stream",
          "text": [
            "RMSE лучшей модели DecisionTreeRegressor на тестовой выборке:\n",
            "47.8\n",
            "Значения гиперпараметров:\n",
            "{'max_depth': 10, 'min_samples_leaf': 10, 'min_samples_split': 2}\n"
          ]
        }
      ],
      "source": [
        "model = DecisionTreeRegressor(random_state=12345)\n",
        "parametrs = { 'max_depth': [4, 6, 10],\n",
        "              'min_samples_leaf': [1, 6, 10],\n",
        "              'min_samples_split': [2, 6, 10]\n",
        "            }\n",
        "tscv = TimeSeriesSplit(n_splits=5)\n",
        "grid = GridSearchCV(model, parametrs, cv=tscv,scoring=rmse_scorer)\n",
        "grid.fit(X_train,y_train)\n",
        "у_pred=grid.best_estimator_.predict(X_test)\n",
        "rmse = RMSE(y_test, у_pred)\n",
        "print(\"RMSE лучшей модели DecisionTreeRegressor на тестовой выборке:\")\n",
        "print(rmse)\n",
        "print(\"Значения гиперпараметров:\")\n",
        "print(grid.best_params_)"
      ]
    },
    {
      "cell_type": "markdown",
      "metadata": {
        "id": "qFkrle6jGe8D"
      },
      "source": [
        "#### Модель Random Forest"
      ]
    },
    {
      "cell_type": "code",
      "execution_count": null,
      "metadata": {
        "id": "iDXg7L8wGe8D",
        "outputId": "ce0eafe2-d9bc-48e9-ab55-82529e2e25bd"
      },
      "outputs": [
        {
          "name": "stdout",
          "output_type": "stream",
          "text": [
            "RMSE лучшей модели RandomForestRegressor на тестовой выборке:\n",
            "45.7\n",
            "Значения гиперпараметров:\n",
            "{'max_depth': 10, 'min_samples_leaf': 1, 'min_samples_split': 10}\n"
          ]
        }
      ],
      "source": [
        "model = RandomForestRegressor(n_estimators=50,random_state=12345)\n",
        "parametrs = { 'max_depth': [4, 6, 10],\n",
        "              'min_samples_leaf': [1, 6, 10],\n",
        "              'min_samples_split': [2, 6, 10]\n",
        "            }\n",
        "tscv = TimeSeriesSplit(n_splits=5)\n",
        "grid = GridSearchCV(model, parametrs, cv=tscv,scoring=rmse_scorer)\n",
        "grid.fit(X_train,y_train)\n",
        "у_pred=grid.best_estimator_.predict(X_test)\n",
        "rmse = RMSE(y_test, у_pred)\n",
        "print(\"RMSE лучшей модели RandomForestRegressor на тестовой выборке:\")\n",
        "print(rmse)\n",
        "print(\"Значения гиперпараметров:\")\n",
        "print(grid.best_params_)"
      ]
    },
    {
      "cell_type": "markdown",
      "metadata": {
        "id": "cjUsbnlfGe8D"
      },
      "source": [
        "#### Модель Linear Regression"
      ]
    },
    {
      "cell_type": "code",
      "execution_count": null,
      "metadata": {
        "scrolled": true,
        "id": "JV7DQrwxGe8D",
        "outputId": "06106988-5b73-4b88-e2ee-07f987ad1a73"
      },
      "outputs": [
        {
          "name": "stdout",
          "output_type": "stream",
          "text": [
            "RMSE лучшей модели Linear Regression на тестовой выборке:\n",
            "51.2\n"
          ]
        }
      ],
      "source": [
        "model = LinearRegression()\n",
        "model.fit(X_train,y_train)\n",
        "у_pred = model.predict(X_test)\n",
        "rmse = RMSE(y_test, у_pred)\n",
        "print(\"RMSE лучшей модели Linear Regression на тестовой выборке:\")\n",
        "print(rmse)"
      ]
    },
    {
      "cell_type": "markdown",
      "metadata": {
        "id": "geXxNUHKGe8E"
      },
      "source": [
        "#### Модель XGBoost"
      ]
    },
    {
      "cell_type": "code",
      "execution_count": null,
      "metadata": {
        "scrolled": true,
        "id": "v_WeKaCFGe8E",
        "outputId": "677116fa-79ef-477b-cbe2-f7b659cdb5cf"
      },
      "outputs": [
        {
          "name": "stderr",
          "output_type": "stream",
          "text": [
            "/opt/conda/lib/python3.7/site-packages/xgboost/core.py:587: FutureWarning: Series.base is deprecated and will be removed in a future version\n",
            "  if getattr(data, 'base', None) is not None and \\\n",
            "/opt/conda/lib/python3.7/site-packages/xgboost/core.py:587: FutureWarning: Series.base is deprecated and will be removed in a future version\n",
            "  if getattr(data, 'base', None) is not None and \\\n",
            "/opt/conda/lib/python3.7/site-packages/xgboost/core.py:587: FutureWarning: Series.base is deprecated and will be removed in a future version\n",
            "  if getattr(data, 'base', None) is not None and \\\n",
            "/opt/conda/lib/python3.7/site-packages/xgboost/core.py:587: FutureWarning: Series.base is deprecated and will be removed in a future version\n",
            "  if getattr(data, 'base', None) is not None and \\\n",
            "/opt/conda/lib/python3.7/site-packages/xgboost/core.py:587: FutureWarning: Series.base is deprecated and will be removed in a future version\n",
            "  if getattr(data, 'base', None) is not None and \\\n",
            "/opt/conda/lib/python3.7/site-packages/xgboost/core.py:587: FutureWarning: Series.base is deprecated and will be removed in a future version\n",
            "  if getattr(data, 'base', None) is not None and \\\n",
            "/opt/conda/lib/python3.7/site-packages/xgboost/core.py:587: FutureWarning: Series.base is deprecated and will be removed in a future version\n",
            "  if getattr(data, 'base', None) is not None and \\\n",
            "/opt/conda/lib/python3.7/site-packages/xgboost/core.py:587: FutureWarning: Series.base is deprecated and will be removed in a future version\n",
            "  if getattr(data, 'base', None) is not None and \\\n",
            "/opt/conda/lib/python3.7/site-packages/xgboost/core.py:587: FutureWarning: Series.base is deprecated and will be removed in a future version\n",
            "  if getattr(data, 'base', None) is not None and \\\n",
            "/opt/conda/lib/python3.7/site-packages/xgboost/core.py:587: FutureWarning: Series.base is deprecated and will be removed in a future version\n",
            "  if getattr(data, 'base', None) is not None and \\\n",
            "/opt/conda/lib/python3.7/site-packages/xgboost/core.py:587: FutureWarning: Series.base is deprecated and will be removed in a future version\n",
            "  if getattr(data, 'base', None) is not None and \\\n",
            "/opt/conda/lib/python3.7/site-packages/xgboost/core.py:587: FutureWarning: Series.base is deprecated and will be removed in a future version\n",
            "  if getattr(data, 'base', None) is not None and \\\n",
            "/opt/conda/lib/python3.7/site-packages/xgboost/core.py:587: FutureWarning: Series.base is deprecated and will be removed in a future version\n",
            "  if getattr(data, 'base', None) is not None and \\\n",
            "/opt/conda/lib/python3.7/site-packages/xgboost/core.py:587: FutureWarning: Series.base is deprecated and will be removed in a future version\n",
            "  if getattr(data, 'base', None) is not None and \\\n",
            "/opt/conda/lib/python3.7/site-packages/xgboost/core.py:587: FutureWarning: Series.base is deprecated and will be removed in a future version\n",
            "  if getattr(data, 'base', None) is not None and \\\n",
            "/opt/conda/lib/python3.7/site-packages/xgboost/core.py:587: FutureWarning: Series.base is deprecated and will be removed in a future version\n",
            "  if getattr(data, 'base', None) is not None and \\\n",
            "/opt/conda/lib/python3.7/site-packages/xgboost/core.py:587: FutureWarning: Series.base is deprecated and will be removed in a future version\n",
            "  if getattr(data, 'base', None) is not None and \\\n",
            "/opt/conda/lib/python3.7/site-packages/xgboost/core.py:587: FutureWarning: Series.base is deprecated and will be removed in a future version\n",
            "  if getattr(data, 'base', None) is not None and \\\n",
            "/opt/conda/lib/python3.7/site-packages/xgboost/core.py:587: FutureWarning: Series.base is deprecated and will be removed in a future version\n",
            "  if getattr(data, 'base', None) is not None and \\\n",
            "/opt/conda/lib/python3.7/site-packages/xgboost/core.py:587: FutureWarning: Series.base is deprecated and will be removed in a future version\n",
            "  if getattr(data, 'base', None) is not None and \\\n",
            "/opt/conda/lib/python3.7/site-packages/xgboost/core.py:587: FutureWarning: Series.base is deprecated and will be removed in a future version\n",
            "  if getattr(data, 'base', None) is not None and \\\n",
            "/opt/conda/lib/python3.7/site-packages/xgboost/core.py:587: FutureWarning: Series.base is deprecated and will be removed in a future version\n",
            "  if getattr(data, 'base', None) is not None and \\\n",
            "/opt/conda/lib/python3.7/site-packages/xgboost/core.py:587: FutureWarning: Series.base is deprecated and will be removed in a future version\n",
            "  if getattr(data, 'base', None) is not None and \\\n",
            "/opt/conda/lib/python3.7/site-packages/xgboost/core.py:587: FutureWarning: Series.base is deprecated and will be removed in a future version\n",
            "  if getattr(data, 'base', None) is not None and \\\n",
            "/opt/conda/lib/python3.7/site-packages/xgboost/core.py:587: FutureWarning: Series.base is deprecated and will be removed in a future version\n",
            "  if getattr(data, 'base', None) is not None and \\\n",
            "/opt/conda/lib/python3.7/site-packages/xgboost/core.py:587: FutureWarning: Series.base is deprecated and will be removed in a future version\n",
            "  if getattr(data, 'base', None) is not None and \\\n",
            "/opt/conda/lib/python3.7/site-packages/xgboost/core.py:587: FutureWarning: Series.base is deprecated and will be removed in a future version\n",
            "  if getattr(data, 'base', None) is not None and \\\n",
            "/opt/conda/lib/python3.7/site-packages/xgboost/core.py:587: FutureWarning: Series.base is deprecated and will be removed in a future version\n",
            "  if getattr(data, 'base', None) is not None and \\\n",
            "/opt/conda/lib/python3.7/site-packages/xgboost/core.py:587: FutureWarning: Series.base is deprecated and will be removed in a future version\n",
            "  if getattr(data, 'base', None) is not None and \\\n",
            "/opt/conda/lib/python3.7/site-packages/xgboost/core.py:587: FutureWarning: Series.base is deprecated and will be removed in a future version\n",
            "  if getattr(data, 'base', None) is not None and \\\n"
          ]
        },
        {
          "name": "stdout",
          "output_type": "stream",
          "text": [
            "RMSE лучшей модели XGBRegressor на тестовой выборке:\n",
            "50.0\n",
            "Значения гиперпараметров:\n",
            "{'depth': 4, 'learning_rate': 0.1}\n"
          ]
        },
        {
          "name": "stderr",
          "output_type": "stream",
          "text": [
            "/opt/conda/lib/python3.7/site-packages/xgboost/core.py:587: FutureWarning: Series.base is deprecated and will be removed in a future version\n",
            "  if getattr(data, 'base', None) is not None and \\\n",
            "/opt/conda/lib/python3.7/site-packages/xgboost/core.py:588: FutureWarning: Series.base is deprecated and will be removed in a future version\n",
            "  data.base is not None and isinstance(data, np.ndarray) \\\n"
          ]
        }
      ],
      "source": [
        "model = xgb.XGBRegressor(n_estimators=50,verbosity = 0)\n",
        "parametrs = {'learning_rate': [0.03, 0.1],\n",
        "        'depth': [4, 6, 10]}\n",
        "tscv = TimeSeriesSplit(n_splits=5)\n",
        "grid = GridSearchCV(model, parametrs, cv=tscv,scoring=rmse_scorer)\n",
        "grid.fit(X_train,y_train)\n",
        "у_pred=grid.best_estimator_.predict(X_test)\n",
        "rmse = RMSE(y_test, у_pred)\n",
        "print(\"RMSE лучшей модели XGBRegressor на тестовой выборке:\")\n",
        "print(rmse)\n",
        "print(\"Значения гиперпараметров:\")\n",
        "print(grid.best_params_)"
      ]
    },
    {
      "cell_type": "markdown",
      "metadata": {
        "id": "zc0Dh1EgGe8E"
      },
      "source": [
        "<div class=\"alert alert-block alert-warning\">\n",
        "<b>Комментарий студента:</b> Николай, а как можно избавиться от этого предупреждения?\n",
        "\n",
        "</div>"
      ]
    },
    {
      "cell_type": "markdown",
      "metadata": {
        "id": "lbEM-assGe8E"
      },
      "source": [
        "<div style=\"background: #cceeaa; padding: 5px; border: 1px solid green; border-radius: 5px;\">\n",
        "<font color='green'>\n",
        "    <b><u>КОММЕНТАРИЙ РЕВЬЮЕРА 2</u></b>\n",
        "<font color='green'><br>\n",
        "ЭТУ КОМАНДУ МОЖНО ИСПОЛЬЗОВАТЬ ДЛЯ ФИЛЬТРА ПРЕДУПРЕЖДЕНИЙ.<br>\n",
        "import warnings<br>\n",
        "warnings.filterwarnings('ignore') <br>"
      ]
    },
    {
      "cell_type": "code",
      "execution_count": null,
      "metadata": {
        "id": "21zHxTnRGe8E"
      },
      "outputs": [],
      "source": []
    },
    {
      "cell_type": "markdown",
      "metadata": {
        "id": "LVaYcbRMGe8E"
      },
      "source": [
        "### Модель CatBoost"
      ]
    },
    {
      "cell_type": "code",
      "execution_count": null,
      "metadata": {
        "id": "ELbMyuzDGe8E",
        "outputId": "384c56ff-c88b-443e-9508-6a1fde2d5a1f"
      },
      "outputs": [
        {
          "name": "stdout",
          "output_type": "stream",
          "text": [
            "RMSE лучшей модели CatBoostRegressor на тестовой выборке:\n",
            "48.5\n",
            "Значения гиперпараметров:\n",
            "{'depth': 10, 'learning_rate': 0.1}\n"
          ]
        }
      ],
      "source": [
        "model = CatBoostRegressor(iterations=50,verbose=False)\n",
        "parametrs = {'learning_rate': [0.03, 0.1],\n",
        "        'depth': [4, 6, 10]}\n",
        "tscv = TimeSeriesSplit(n_splits=5)\n",
        "grid = GridSearchCV(model, parametrs, cv=tscv,scoring=rmse_scorer)\n",
        "grid.fit(X_train,y_train)\n",
        "у_pred=grid.best_estimator_.predict(X_test)\n",
        "rmse = RMSE(y_test, у_pred)\n",
        "print(\"RMSE лучшей модели CatBoostRegressor на тестовой выборке:\")\n",
        "print(rmse)\n",
        "print(\"Значения гиперпараметров:\")\n",
        "print(grid.best_params_)"
      ]
    },
    {
      "cell_type": "markdown",
      "metadata": {
        "id": "pzlBohJsGe8F"
      },
      "source": [
        "### Модель LightGBM"
      ]
    },
    {
      "cell_type": "code",
      "execution_count": null,
      "metadata": {
        "id": "1Ulio9CuGe8F",
        "outputId": "91a7a66c-c936-46a8-8cd7-b3b51a1788f3"
      },
      "outputs": [
        {
          "name": "stdout",
          "output_type": "stream",
          "text": [
            "RMSE лучшей модели LGBMRegressor на тестовой выборке:\n",
            "44.2\n",
            "Значения гиперпараметров:\n",
            "{'depth': 4, 'learning_rate': 0.1}\n"
          ]
        }
      ],
      "source": [
        "model = lgb.LGBMRegressor(n_estimators=50,verbosity = 0)\n",
        "parametrs = {'learning_rate': [0.03, 0.1],\n",
        "        'depth': [4, 6, 10]}\n",
        "tscv = TimeSeriesSplit(n_splits=5)\n",
        "grid = GridSearchCV(model, parametrs, cv=tscv,scoring=rmse_scorer)\n",
        "grid.fit(X_train,y_train)\n",
        "у_pred=grid.best_estimator_.predict(X_test)\n",
        "rmse = RMSE(y_test, у_pred)\n",
        "print(\"RMSE лучшей модели LGBMRegressor на тестовой выборке:\")\n",
        "print(rmse)\n",
        "print(\"Значения гиперпараметров:\")\n",
        "print(grid.best_params_)"
      ]
    },
    {
      "cell_type": "markdown",
      "metadata": {
        "id": "krVzwq-DGe8F"
      },
      "source": [
        "## Вывод"
      ]
    },
    {
      "cell_type": "markdown",
      "metadata": {
        "id": "Mt4eHCIkGe8F"
      },
      "source": [
        "В первой части проекта была выполнена подготовка данных: загрузка и вывод данных, ресемплирование и создание признаков.\n",
        "\n",
        "Во второй части были проанализированы данные.\n",
        "\n",
        "В третьей части были обучены разные модели и рассчитаны RMSE на тестовой выборке.Ниже приведены результаты:\n",
        "\n",
        "||Dummy Regression|Desicion Tree|Random Forest|Linear Regression|XGBoost|CatBoost|LGBoost|\n",
        "|:-----|:----:|----:|----:|-----:|----:|----:|:----|\n",
        "|Качество RMSE |84.7 |47.8 |45.7 |51.2|50.0 |48.5| 44.2|\n",
        "\n",
        "Таким образом, для прогнозирования количества заказов такси на следующий час рекомендуется модель  LGBoost с качеством RMSE=44.2."
      ]
    },
    {
      "cell_type": "markdown",
      "metadata": {
        "id": "B0UkKmzwGe8F"
      },
      "source": [
        "<div style=\"background: #cceeaa; padding: 5px; border: 1px solid green; border-radius: 5px;\">\n",
        "<font color='green'>\n",
        "<u>КОММЕНТАРИЙ РЕВЬЮЕРА</u>\n",
        "</font>\n",
        "<font color='green'><br>\n",
        "ОК, Павел, с модельной частью справился хорошо!<br>\n",
        "Видно, что этот скил уже достаточно сильный у тебя. (есть вопрос, как были подобраны параметры?))<br>\n",
        "Метрика - ОК. Но не понятно, если честно, а хороша ли эта модель в плане предсказания? Для этого лучше построить дополнительно график (чуть ниженаписал об этом).<br>\n",
        "    \n",
        "И если сутейно рассуждать, то временные ряды стоят особняком во всём курсе, я бы сказал. Тут чуть иная модельная философия, на мой взгляд. Имменно поэтому позволял себе оставлять большие комментарии, чтобы как-то раскрыть её особенности.<br>\n",
        "Оставил несколько комментариев в тексте - готов буду ответить на твои вопросы!<br>\n",
        "<font color='red'>          \n",
        "  \n",
        "Также попрошу вот что:<br>\n",
        "Выведи, пожалуйста графики факт/предсказанное на одном рисунке (обычный линейный график). Чтобы увидеть где основные не \"попадалки\" модели. Это один из важнейших инструментов анализа результатов моделирования временных рядов.<br>\n",
        "Лучше выбрать масштаб, скажем, несколько дней, чтобы увиеть можо было и сравнить каждый час.<br>    \n",
        "<font color='green'>\n",
        "Спасибо)<BR>\n",
        "БУДУ ЖДАТЬ КОММЕНТАРИЕВ"
      ]
    },
    {
      "cell_type": "markdown",
      "metadata": {
        "id": "puduT7XZGe8F"
      },
      "source": [
        "![image.png](attachment:image.png)"
      ]
    },
    {
      "cell_type": "markdown",
      "metadata": {
        "id": "SzIxcECqGe8F"
      },
      "source": [
        "<div class=\"alert alert-block alert-warning\">\n",
        "<b>Комментарий студента:</b> Построил график для сравнения предсказаний и реальных данных. Модель довольно хорошо предсказвает за исключением пиковых значений.\n",
        "\n",
        "</div>"
      ]
    },
    {
      "cell_type": "markdown",
      "metadata": {
        "id": "E_hivw5aGe8F"
      },
      "source": [
        "<div style=\"background: #cceeaa; padding: 5px; border: 1px solid green; border-radius: 5px;\">\n",
        "<font color='green'>\n",
        "    <b><u>КОММЕНТАРИЙ РЕВЬЮЕРА 2</u></b>\n",
        "</font>\n",
        "<font color='green'><br>\n",
        "А резкие изменения продаж не просто спрогнозировать(... т.к. в эти дни были факторы продаж, о которых в истории не было сказано. Или по другому: в эти дни клиенты вели себя по другому, чем раньше. В факторах, которые мы заложили, этой информации нет. поэтому и не угадываем( тут надо смириться. И провести анализ план-факт: выяснить причины расхождения прогноза и фактически продаж и, если надо, скорректировать модель на найденную причину. Т.е. включить причину, как фактор."
      ]
    },
    {
      "cell_type": "markdown",
      "metadata": {
        "id": "DTx1LXtpGe8G"
      },
      "source": []
    },
    {
      "cell_type": "code",
      "execution_count": null,
      "metadata": {
        "id": "hzDs87XeGe8G"
      },
      "outputs": [],
      "source": [
        "у_pred=pd.Series(у_pred,index=y_test.index)"
      ]
    },
    {
      "cell_type": "code",
      "execution_count": null,
      "metadata": {
        "scrolled": false,
        "id": "RTAoLACQGe8G",
        "outputId": "a1af6baa-c480-4348-ca57-3020619a3832"
      },
      "outputs": [
        {
          "data": {
            "image/png": "[encoded data removed]",
            "text/plain": [
              "<Figure size 864x432 with 1 Axes>"
            ]
          },
          "metadata": {
            "needs_background": "light"
          },
          "output_type": "display_data"
        }
      ],
      "source": [
        "plt.figure(figsize=(12, 6))\n",
        "у_pred[:97].plot()\n",
        "y_test[:97].plot()\n",
        "plt.title('Результаты модели, 4 дня')\n",
        "plt.xlabel('Дата')\n",
        "plt.ylabel('Число заказов')\n",
        "plt.legend(['Предсказанные','Реальные'])\n",
        "plt.grid( which='both')"
      ]
    },
    {
      "cell_type": "markdown",
      "metadata": {
        "id": "rxxKqoPuGe8G"
      },
      "source": [
        "<div style=\"background: #cceeaa; padding: 5px; border: 1px solid green; border-radius: 5px;\">\n",
        "<font color='green'>\n",
        "<u>КОММЕНТАРИЙ РЕВЬЮЕРА</u>\n",
        "</font>\n",
        "<font color='green'><br>\n",
        "Хотел бы оставить несколько идей для твоих будущих проектов в этой обоасти<br>\n",
        "\n",
        "На мой взгляд, в этой теме (временные ряды) главное - необходимо чувствовать исходный ряд продаж, с точки зрения бизнеса, и уже только потом подбирать к нему модели. Каждое колебание временного ряда - это деньги для бизнеса (если говорим что заказчик бизнесовый) и за \"трепетами\" данных прячутся разные семейства причин. И именно знание их помогут строить хорошие прогнозы..<br>.\n",
        "Леса, бустинги, регрессии.... могут подобрать хорошие модели на старых данных. Но иногда, как прогноз эти, модели могут оказаться пустышками - не интересными бизнесу. <br>  <br>\n",
        "Поэтому, от себя позволю добавить несколько идей:<br>\n",
        "Очень часто ищут \"волшебную таблетку\" или \"кнопку\". Нажал и само всё построилось с высокой точностью<br>\n",
        "Но такого никогода не будет)))<br>\n",
        "И причиной тому: модели нужно подсказать причины, по которым происходит колебания продаж (временного ряда): понимать причины колебаний треда, понимать аномалии, учитывать акционные продажи, видеть действия конкурентов , закладывать их в модель и т.д. <br><br>\n",
        "В общем, всё как обычно - три группы факторов: <br>\n",
        "1)внешние факторы (например выручка такси-компании зависит от количества машин на линии),<br>\n",
        "2)есть факторы внутри самих данных (Вы использовали как раз поняти лаг, сезонности), <br>\n",
        "3)есть параметры самих моделей (то, что обычно используется при моделировании леса или деревьев).<br><br>\n",
        "\n",
        "Ещё важно иметь ввиду горизонт прогноза: на кокой период строить прогноз нужно  - на час вперёд, на неделю, на месяц.<br>\n",
        "Это также накладывает ограничения на подбор моделей<br>\n",
        "Я бы рекомендовал Вам составить для себя матрицу  в разрезе: <br>\n",
        "а)есть тренд/нет тренда; <br>\n",
        "б)еть сезоннотсь/нет сезонности; <br>\n",
        "в)какой горизонт прогноза требуется; <br>\n",
        "г) есть ли у нас дополнительные факторы для модей<br>\n",
        "На пересечении знаний о моделях легко будет подобрать адкватную модель.\n",
        "Не все задачи прогнозирования временных рядов можно хорошо решить лесом и еже с ним на основе знаний только факторов ряда... Они хорошо подойдут для коротких горизонтов прогнозирования.... А если горизонт чуть больше: недели, месяцы... то тут надо подключать понимания фаткоров продаж самого бизнеса."
      ]
    },
    {
      "cell_type": "markdown",
      "metadata": {
        "id": "XOC6YJM9Ge8G"
      },
      "source": [
        "<div class=\"alert alert-block alert-warning\">\n",
        "<b>Комментарий студента:</b> Спасибо за советы:)\n",
        "\n",
        "</div>"
      ]
    },
    {
      "cell_type": "markdown",
      "metadata": {
        "id": "K9z0NOpcGe8G"
      },
      "source": [
        "<div style=\"background: #cceeaa; padding: 5px; border: 1px solid green; border-radius: 5px;\">\n",
        "<font color='green'>\n",
        "    <b><u>КОММЕНТАРИЙ РЕВЬЮЕРА 2</u></b>\n",
        "</font>\n",
        "<font color='green'><br>Отлично, Павел, с графиком!<br>\n",
        "Глядя на него, а также добавляя отдельный анализ остатков, можно будет хорошо порабоать над улучшением модели.<br>\n",
        "<br>\n",
        "Если будет возможность тебе однозначно интересно посмотреть разные практические истории вот здесь:<br>\n",
        "https://ibf.org/knowledge - заморский институт бизнес-прогнозирования.<br>\n",
        "Там и статьи можно накопать, и методы посмомтерть...<br>\n",
        "\n",
        "Есть классический труд (он НЕ ML, а исключительно на эксель). Но для понимания сути временных рядов - то, что надо:<br>\n",
        "УИЧЕРН \"Бизнес-прогнозирование\"<br>\n",
        "\n",
        "Идеологически по системе прогнозирования, интересно почитать<br>\n",
        "ТОМАС УОЛЛАС, Р. СТАЛЬ \"планирование продаж и операций\" SO&P<br><br>\n",
        "Спасибо за проект) УСПЕШНОГО ДАЛЬНЕЙШЕГО ОБЧЕНИЯ!"
      ]
    },
    {
      "cell_type": "markdown",
      "metadata": {
        "id": "txViUutiGe8G"
      },
      "source": []
    }
  ],
  "metadata": {
    "ExecuteTimeLog": [
      {
        "duration": 10447,
        "start_time": "2022-02-17T04:53:40.517Z"
      },
      {
        "duration": 45,
        "start_time": "2022-02-17T04:53:50.966Z"
      },
      {
        "duration": 31,
        "start_time": "2022-02-17T04:53:51.013Z"
      },
      {
        "duration": 26,
        "start_time": "2022-02-17T04:53:51.046Z"
      },
      {
        "duration": 4,
        "start_time": "2022-02-17T04:53:51.073Z"
      },
      {
        "duration": 15,
        "start_time": "2022-02-17T04:53:51.078Z"
      },
      {
        "duration": 20,
        "start_time": "2022-02-17T04:53:51.095Z"
      },
      {
        "duration": 884,
        "start_time": "2022-02-17T04:53:51.117Z"
      },
      {
        "duration": 278,
        "start_time": "2022-02-17T04:53:52.003Z"
      },
      {
        "duration": 8,
        "start_time": "2022-02-17T04:53:52.283Z"
      },
      {
        "duration": 3,
        "start_time": "2022-02-17T04:53:52.293Z"
      },
      {
        "duration": 2470,
        "start_time": "2022-02-17T04:53:52.297Z"
      },
      {
        "duration": 22829,
        "start_time": "2022-02-17T07:37:49.333Z"
      },
      {
        "duration": 33,
        "start_time": "2022-02-17T07:38:32.095Z"
      },
      {
        "duration": 34,
        "start_time": "2022-02-17T07:38:32.753Z"
      },
      {
        "duration": 32,
        "start_time": "2022-02-17T07:38:36.506Z"
      },
      {
        "duration": 4,
        "start_time": "2022-02-17T07:38:50.362Z"
      },
      {
        "duration": 15,
        "start_time": "2022-02-17T07:38:50.796Z"
      },
      {
        "duration": 24,
        "start_time": "2022-02-17T07:41:27.875Z"
      },
      {
        "duration": 1959,
        "start_time": "2022-02-17T07:41:34.253Z"
      },
      {
        "duration": 309,
        "start_time": "2022-02-17T07:41:36.214Z"
      },
      {
        "duration": 10,
        "start_time": "2022-02-17T07:42:43.656Z"
      },
      {
        "duration": 3,
        "start_time": "2022-02-17T07:42:45.019Z"
      },
      {
        "duration": 1920,
        "start_time": "2022-02-17T07:42:46.532Z"
      },
      {
        "duration": 125,
        "start_time": "2022-02-19T08:53:29.598Z"
      },
      {
        "duration": 16569,
        "start_time": "2022-02-19T08:54:32.270Z"
      },
      {
        "duration": 43,
        "start_time": "2022-02-19T08:54:48.841Z"
      },
      {
        "duration": 79,
        "start_time": "2022-02-19T08:54:48.887Z"
      },
      {
        "duration": 43,
        "start_time": "2022-02-19T08:54:58.704Z"
      },
      {
        "duration": 7,
        "start_time": "2022-02-19T08:56:35.387Z"
      },
      {
        "duration": 5,
        "start_time": "2022-02-19T09:07:42.782Z"
      },
      {
        "duration": 10,
        "start_time": "2022-02-19T09:22:38.193Z"
      },
      {
        "duration": 17,
        "start_time": "2022-02-19T09:22:41.030Z"
      },
      {
        "duration": 1483,
        "start_time": "2022-02-19T09:25:14.769Z"
      },
      {
        "duration": 485,
        "start_time": "2022-02-19T09:25:19.000Z"
      },
      {
        "duration": 480,
        "start_time": "2022-02-19T09:30:28.465Z"
      },
      {
        "duration": 38,
        "start_time": "2022-02-19T09:30:56.448Z"
      },
      {
        "duration": 468,
        "start_time": "2022-02-19T09:38:27.897Z"
      },
      {
        "duration": 4905,
        "start_time": "2022-02-19T09:40:11.341Z"
      },
      {
        "duration": 3,
        "start_time": "2022-02-19T09:40:23.303Z"
      },
      {
        "duration": 6719,
        "start_time": "2022-02-19T09:40:23.309Z"
      },
      {
        "duration": 44,
        "start_time": "2022-02-19T09:40:30.031Z"
      },
      {
        "duration": 41,
        "start_time": "2022-02-19T09:40:30.078Z"
      },
      {
        "duration": 66,
        "start_time": "2022-02-19T09:40:30.121Z"
      },
      {
        "duration": 6,
        "start_time": "2022-02-19T09:40:30.190Z"
      },
      {
        "duration": 15,
        "start_time": "2022-02-19T09:40:30.198Z"
      },
      {
        "duration": 4442,
        "start_time": "2022-02-19T09:40:38.697Z"
      },
      {
        "duration": 19,
        "start_time": "2022-02-19T09:41:03.618Z"
      },
      {
        "duration": 8,
        "start_time": "2022-02-19T09:41:43.921Z"
      },
      {
        "duration": 18,
        "start_time": "2022-02-19T09:41:50.656Z"
      },
      {
        "duration": 13,
        "start_time": "2022-02-19T09:42:01.921Z"
      },
      {
        "duration": 23,
        "start_time": "2022-02-19T09:42:05.225Z"
      },
      {
        "duration": 4,
        "start_time": "2022-02-19T09:42:12.462Z"
      },
      {
        "duration": 6499,
        "start_time": "2022-02-19T09:42:12.469Z"
      },
      {
        "duration": 62,
        "start_time": "2022-02-19T09:42:18.972Z"
      },
      {
        "duration": 62,
        "start_time": "2022-02-19T09:42:19.037Z"
      },
      {
        "duration": 89,
        "start_time": "2022-02-19T09:42:19.102Z"
      },
      {
        "duration": 6,
        "start_time": "2022-02-19T09:42:19.194Z"
      },
      {
        "duration": 43,
        "start_time": "2022-02-19T09:42:19.202Z"
      },
      {
        "duration": 20,
        "start_time": "2022-02-19T09:42:23.521Z"
      },
      {
        "duration": 539,
        "start_time": "2022-02-19T09:42:41.280Z"
      },
      {
        "duration": 389,
        "start_time": "2022-02-19T09:42:45.081Z"
      },
      {
        "duration": 9,
        "start_time": "2022-02-19T09:42:49.600Z"
      },
      {
        "duration": 17,
        "start_time": "2022-02-19T09:42:52.009Z"
      },
      {
        "duration": 418,
        "start_time": "2022-02-19T09:42:57.968Z"
      },
      {
        "duration": 4,
        "start_time": "2022-02-19T09:43:28.464Z"
      },
      {
        "duration": 677,
        "start_time": "2022-02-19T09:43:37.464Z"
      },
      {
        "duration": 458,
        "start_time": "2022-02-19T09:44:57.672Z"
      },
      {
        "duration": 17,
        "start_time": "2022-02-19T09:45:23.328Z"
      },
      {
        "duration": 457,
        "start_time": "2022-02-19T10:07:43.722Z"
      },
      {
        "duration": 282,
        "start_time": "2022-02-19T10:08:04.050Z"
      },
      {
        "duration": 422,
        "start_time": "2022-02-19T10:08:10.234Z"
      },
      {
        "duration": 273,
        "start_time": "2022-02-19T10:08:17.882Z"
      },
      {
        "duration": 362,
        "start_time": "2022-02-19T10:08:25.138Z"
      },
      {
        "duration": 264,
        "start_time": "2022-02-19T10:09:29.089Z"
      },
      {
        "duration": 517,
        "start_time": "2022-02-19T10:09:49.177Z"
      },
      {
        "duration": 304,
        "start_time": "2022-02-19T10:10:09.977Z"
      },
      {
        "duration": 234,
        "start_time": "2022-02-19T10:10:15.969Z"
      },
      {
        "duration": 311,
        "start_time": "2022-02-19T10:10:20.497Z"
      },
      {
        "duration": 411,
        "start_time": "2022-02-19T10:13:59.802Z"
      },
      {
        "duration": 427,
        "start_time": "2022-02-19T10:14:29.786Z"
      },
      {
        "duration": 340,
        "start_time": "2022-02-19T10:14:37.641Z"
      },
      {
        "duration": 282,
        "start_time": "2022-02-19T10:14:47.082Z"
      },
      {
        "duration": 410,
        "start_time": "2022-02-19T10:14:56.785Z"
      },
      {
        "duration": 288,
        "start_time": "2022-02-19T10:19:59.834Z"
      },
      {
        "duration": 115,
        "start_time": "2022-02-19T10:21:28.826Z"
      },
      {
        "duration": 413,
        "start_time": "2022-02-19T10:27:22.449Z"
      },
      {
        "duration": 381,
        "start_time": "2022-02-19T10:27:31.010Z"
      },
      {
        "duration": 281,
        "start_time": "2022-02-19T10:27:35.794Z"
      },
      {
        "duration": 10,
        "start_time": "2022-02-19T10:35:29.417Z"
      },
      {
        "duration": 4,
        "start_time": "2022-02-19T10:35:33.209Z"
      },
      {
        "duration": 2481,
        "start_time": "2022-02-19T10:35:35.362Z"
      },
      {
        "duration": 22,
        "start_time": "2022-02-19T10:36:01.682Z"
      },
      {
        "duration": 495,
        "start_time": "2022-02-19T10:38:30.986Z"
      },
      {
        "duration": 11,
        "start_time": "2022-02-19T10:46:28.466Z"
      },
      {
        "duration": 5,
        "start_time": "2022-02-19T10:46:30.841Z"
      },
      {
        "duration": 763,
        "start_time": "2022-02-19T10:46:32.823Z"
      },
      {
        "duration": 4,
        "start_time": "2022-02-19T10:47:12.880Z"
      },
      {
        "duration": 4,
        "start_time": "2022-02-19T10:47:21.712Z"
      },
      {
        "duration": 6764,
        "start_time": "2022-02-19T10:47:21.718Z"
      },
      {
        "duration": 45,
        "start_time": "2022-02-19T10:47:28.485Z"
      },
      {
        "duration": 44,
        "start_time": "2022-02-19T10:47:28.532Z"
      },
      {
        "duration": 40,
        "start_time": "2022-02-19T10:47:28.578Z"
      },
      {
        "duration": 5,
        "start_time": "2022-02-19T10:47:28.620Z"
      },
      {
        "duration": 39,
        "start_time": "2022-02-19T10:47:28.628Z"
      },
      {
        "duration": 17,
        "start_time": "2022-02-19T10:47:28.669Z"
      },
      {
        "duration": 536,
        "start_time": "2022-02-19T10:47:28.689Z"
      },
      {
        "duration": 390,
        "start_time": "2022-02-19T10:47:29.229Z"
      },
      {
        "duration": 8,
        "start_time": "2022-02-19T10:47:29.622Z"
      },
      {
        "duration": 293,
        "start_time": "2022-02-19T10:47:29.632Z"
      },
      {
        "duration": 283,
        "start_time": "2022-02-19T10:47:29.927Z"
      },
      {
        "duration": 9,
        "start_time": "2022-02-19T10:47:30.213Z"
      },
      {
        "duration": 9,
        "start_time": "2022-02-19T10:47:30.225Z"
      },
      {
        "duration": 2249,
        "start_time": "2022-02-19T10:47:30.237Z"
      },
      {
        "duration": 4,
        "start_time": "2022-02-19T10:57:51.089Z"
      },
      {
        "duration": 1316,
        "start_time": "2022-02-21T07:31:39.872Z"
      },
      {
        "duration": 51944,
        "start_time": "2022-02-21T07:31:41.189Z"
      },
      {
        "duration": 52,
        "start_time": "2022-02-21T07:32:33.135Z"
      },
      {
        "duration": 35,
        "start_time": "2022-02-21T07:32:33.189Z"
      },
      {
        "duration": 53,
        "start_time": "2022-02-21T07:32:33.226Z"
      },
      {
        "duration": 4,
        "start_time": "2022-02-21T07:32:33.281Z"
      },
      {
        "duration": 25,
        "start_time": "2022-02-21T07:32:33.287Z"
      },
      {
        "duration": 15,
        "start_time": "2022-02-21T07:32:33.315Z"
      },
      {
        "duration": 695,
        "start_time": "2022-02-21T07:32:33.332Z"
      },
      {
        "duration": -46,
        "start_time": "2022-02-21T07:32:34.075Z"
      },
      {
        "duration": -49,
        "start_time": "2022-02-21T07:32:34.080Z"
      },
      {
        "duration": -52,
        "start_time": "2022-02-21T07:32:34.084Z"
      },
      {
        "duration": -53,
        "start_time": "2022-02-21T07:32:34.086Z"
      },
      {
        "duration": -55,
        "start_time": "2022-02-21T07:32:34.089Z"
      },
      {
        "duration": -56,
        "start_time": "2022-02-21T07:32:34.092Z"
      },
      {
        "duration": -58,
        "start_time": "2022-02-21T07:32:34.095Z"
      },
      {
        "duration": 492,
        "start_time": "2022-02-21T07:34:22.891Z"
      },
      {
        "duration": 634,
        "start_time": "2022-02-21T07:34:50.566Z"
      },
      {
        "duration": 2249,
        "start_time": "2022-02-21T07:35:06.468Z"
      },
      {
        "duration": 3680,
        "start_time": "2022-02-21T07:35:26.567Z"
      },
      {
        "duration": 285,
        "start_time": "2022-02-21T07:35:37.278Z"
      },
      {
        "duration": 2272,
        "start_time": "2022-02-21T07:36:05.317Z"
      },
      {
        "duration": 1709,
        "start_time": "2022-02-21T07:36:14.060Z"
      },
      {
        "duration": 408,
        "start_time": "2022-02-21T07:36:22.037Z"
      },
      {
        "duration": 8,
        "start_time": "2022-02-21T07:36:34.933Z"
      },
      {
        "duration": 232,
        "start_time": "2022-02-21T07:36:34.943Z"
      },
      {
        "duration": 352,
        "start_time": "2022-02-21T07:36:35.177Z"
      },
      {
        "duration": 8,
        "start_time": "2022-02-21T07:36:35.531Z"
      },
      {
        "duration": 7,
        "start_time": "2022-02-21T07:36:35.541Z"
      },
      {
        "duration": 7256,
        "start_time": "2022-02-21T07:36:35.550Z"
      },
      {
        "duration": 312,
        "start_time": "2022-02-21T07:37:11.364Z"
      },
      {
        "duration": 229,
        "start_time": "2022-02-21T07:54:10.454Z"
      },
      {
        "duration": 4,
        "start_time": "2022-02-21T07:54:27.705Z"
      },
      {
        "duration": 2253,
        "start_time": "2022-02-21T07:54:31.996Z"
      },
      {
        "duration": 262,
        "start_time": "2022-02-21T07:54:38.236Z"
      },
      {
        "duration": 4,
        "start_time": "2022-02-21T07:57:53.155Z"
      },
      {
        "duration": 18913,
        "start_time": "2022-02-21T07:57:56.242Z"
      },
      {
        "duration": 299,
        "start_time": "2022-02-21T07:58:42.762Z"
      },
      {
        "duration": 307,
        "start_time": "2022-02-21T07:59:01.098Z"
      },
      {
        "duration": 1024,
        "start_time": "2022-02-22T09:12:55.061Z"
      },
      {
        "duration": 10156,
        "start_time": "2022-02-22T09:12:56.087Z"
      },
      {
        "duration": 256,
        "start_time": "2022-02-22T09:13:06.245Z"
      },
      {
        "duration": 30,
        "start_time": "2022-02-22T09:13:06.502Z"
      },
      {
        "duration": 58,
        "start_time": "2022-02-22T09:13:06.534Z"
      },
      {
        "duration": 3,
        "start_time": "2022-02-22T09:13:06.594Z"
      },
      {
        "duration": 9,
        "start_time": "2022-02-22T09:13:06.598Z"
      },
      {
        "duration": 11,
        "start_time": "2022-02-22T09:13:06.609Z"
      },
      {
        "duration": 343,
        "start_time": "2022-02-22T09:13:06.621Z"
      },
      {
        "duration": 227,
        "start_time": "2022-02-22T09:13:06.966Z"
      },
      {
        "duration": 6,
        "start_time": "2022-02-22T09:13:07.195Z"
      },
      {
        "duration": 180,
        "start_time": "2022-02-22T09:13:07.203Z"
      },
      {
        "duration": 313,
        "start_time": "2022-02-22T09:13:07.385Z"
      },
      {
        "duration": 6,
        "start_time": "2022-02-22T09:13:07.699Z"
      },
      {
        "duration": 18,
        "start_time": "2022-02-22T09:13:07.706Z"
      },
      {
        "duration": 2219,
        "start_time": "2022-02-22T09:13:07.726Z"
      },
      {
        "duration": 361,
        "start_time": "2022-02-22T09:13:09.947Z"
      },
      {
        "duration": 8,
        "start_time": "2022-02-22T09:13:10.302Z"
      },
      {
        "duration": 261,
        "start_time": "2022-02-22T09:28:10.139Z"
      },
      {
        "duration": 251,
        "start_time": "2022-02-22T09:28:13.210Z"
      },
      {
        "duration": 337,
        "start_time": "2022-02-22T09:28:15.921Z"
      },
      {
        "duration": 272,
        "start_time": "2022-02-22T09:28:37.723Z"
      },
      {
        "duration": 255,
        "start_time": "2022-02-22T09:28:47.498Z"
      },
      {
        "duration": 174,
        "start_time": "2022-02-22T09:29:02.810Z"
      },
      {
        "duration": 11,
        "start_time": "2022-02-22T09:29:55.234Z"
      },
      {
        "duration": 5,
        "start_time": "2022-02-22T09:30:17.048Z"
      },
      {
        "duration": 5,
        "start_time": "2022-02-22T09:30:25.396Z"
      },
      {
        "duration": 254,
        "start_time": "2022-02-22T09:31:23.714Z"
      },
      {
        "duration": 5,
        "start_time": "2022-02-22T09:31:42.771Z"
      },
      {
        "duration": 227,
        "start_time": "2022-02-22T09:31:54.763Z"
      },
      {
        "duration": 252,
        "start_time": "2022-02-22T09:32:08.444Z"
      },
      {
        "duration": 443,
        "start_time": "2022-02-22T09:33:03.795Z"
      },
      {
        "duration": 337,
        "start_time": "2022-02-22T09:33:23.683Z"
      },
      {
        "duration": 376,
        "start_time": "2022-02-22T09:33:43.147Z"
      },
      {
        "duration": 407,
        "start_time": "2022-02-22T09:33:49.538Z"
      },
      {
        "duration": 338,
        "start_time": "2022-02-22T09:33:57.219Z"
      },
      {
        "duration": 361,
        "start_time": "2022-02-22T09:34:19.066Z"
      },
      {
        "duration": 298,
        "start_time": "2022-02-22T09:34:33.947Z"
      },
      {
        "duration": 609,
        "start_time": "2022-02-22T09:34:49.787Z"
      },
      {
        "duration": 289,
        "start_time": "2022-02-22T09:37:38.844Z"
      },
      {
        "duration": 89,
        "start_time": "2022-02-22T09:41:37.187Z"
      },
      {
        "duration": 5,
        "start_time": "2022-02-22T10:09:44.148Z"
      },
      {
        "duration": 148,
        "start_time": "2022-02-22T10:10:07.227Z"
      },
      {
        "duration": 317,
        "start_time": "2022-02-22T10:10:42.421Z"
      },
      {
        "duration": 282,
        "start_time": "2022-02-22T10:10:50.867Z"
      },
      {
        "duration": 515,
        "start_time": "2022-02-22T10:31:36.708Z"
      },
      {
        "duration": 6,
        "start_time": "2022-02-22T10:32:18.924Z"
      },
      {
        "duration": 7,
        "start_time": "2022-02-22T10:32:34.268Z"
      },
      {
        "duration": 242,
        "start_time": "2022-02-22T10:32:41.036Z"
      },
      {
        "duration": 335,
        "start_time": "2022-02-22T10:32:45.172Z"
      },
      {
        "duration": 236,
        "start_time": "2022-02-22T10:33:12.661Z"
      },
      {
        "duration": 240,
        "start_time": "2022-02-22T10:33:30.260Z"
      },
      {
        "duration": 220,
        "start_time": "2022-02-22T10:34:05.636Z"
      },
      {
        "duration": 511,
        "start_time": "2022-02-22T10:35:01.605Z"
      },
      {
        "duration": 1194,
        "start_time": "2022-02-22T10:35:06.084Z"
      },
      {
        "duration": 398,
        "start_time": "2022-02-22T10:36:49.660Z"
      },
      {
        "duration": 204,
        "start_time": "2022-02-22T10:36:56.316Z"
      },
      {
        "duration": 217,
        "start_time": "2022-02-22T10:37:29.996Z"
      },
      {
        "duration": 218,
        "start_time": "2022-02-22T10:37:53.508Z"
      },
      {
        "duration": 204,
        "start_time": "2022-02-22T10:39:44.260Z"
      },
      {
        "duration": 216,
        "start_time": "2022-02-22T10:39:52.092Z"
      },
      {
        "duration": 1675,
        "start_time": "2022-02-22T10:40:36.292Z"
      },
      {
        "duration": 306,
        "start_time": "2022-02-22T10:40:46.349Z"
      },
      {
        "duration": 465,
        "start_time": "2022-02-22T10:41:47.300Z"
      },
      {
        "duration": 443,
        "start_time": "2022-02-22T10:41:55.316Z"
      },
      {
        "duration": 273,
        "start_time": "2022-02-22T10:43:56.141Z"
      },
      {
        "duration": 157,
        "start_time": "2022-02-22T10:44:06.148Z"
      },
      {
        "duration": 488,
        "start_time": "2022-02-22T10:44:27.044Z"
      },
      {
        "duration": 410,
        "start_time": "2022-02-22T10:44:30.636Z"
      },
      {
        "duration": 286,
        "start_time": "2022-02-22T10:45:02.932Z"
      },
      {
        "duration": 142,
        "start_time": "2022-02-22T10:45:18.356Z"
      },
      {
        "duration": 242,
        "start_time": "2022-02-22T10:45:28.837Z"
      },
      {
        "duration": 212,
        "start_time": "2022-02-22T10:45:32.860Z"
      },
      {
        "duration": 235,
        "start_time": "2022-02-22T10:45:47.628Z"
      },
      {
        "duration": 229,
        "start_time": "2022-02-22T10:46:14.029Z"
      },
      {
        "duration": 252,
        "start_time": "2022-02-22T10:47:00.782Z"
      },
      {
        "duration": 250,
        "start_time": "2022-02-22T10:47:15.221Z"
      },
      {
        "duration": 245,
        "start_time": "2022-02-22T10:48:09.525Z"
      },
      {
        "duration": 238,
        "start_time": "2022-02-22T10:48:17.293Z"
      },
      {
        "duration": 235,
        "start_time": "2022-02-22T10:49:47.301Z"
      },
      {
        "duration": 235,
        "start_time": "2022-02-22T10:50:51.860Z"
      },
      {
        "duration": 292,
        "start_time": "2022-02-22T10:51:05.589Z"
      },
      {
        "duration": 236,
        "start_time": "2022-02-22T10:52:27.245Z"
      },
      {
        "duration": 227,
        "start_time": "2022-02-22T10:52:33.877Z"
      },
      {
        "duration": 14834,
        "start_time": "2022-02-22T10:52:42.357Z"
      },
      {
        "duration": 235,
        "start_time": "2022-02-22T10:53:04.965Z"
      },
      {
        "duration": 86,
        "start_time": "2022-02-22T10:53:17.269Z"
      },
      {
        "duration": 355,
        "start_time": "2022-02-22T10:53:22.997Z"
      },
      {
        "duration": 356,
        "start_time": "2022-02-22T10:53:35.037Z"
      },
      {
        "duration": 261,
        "start_time": "2022-02-22T10:53:56.765Z"
      },
      {
        "duration": 228,
        "start_time": "2022-02-22T10:55:12.317Z"
      },
      {
        "duration": 226,
        "start_time": "2022-02-22T10:58:30.566Z"
      },
      {
        "duration": 238,
        "start_time": "2022-02-22T10:58:44.045Z"
      },
      {
        "duration": 235,
        "start_time": "2022-02-22T11:04:36.077Z"
      },
      {
        "duration": 262,
        "start_time": "2022-02-22T11:04:45.925Z"
      },
      {
        "duration": 244,
        "start_time": "2022-02-22T11:05:20.533Z"
      },
      {
        "duration": 244,
        "start_time": "2022-02-22T11:05:32.550Z"
      },
      {
        "duration": 251,
        "start_time": "2022-02-22T11:05:48.309Z"
      },
      {
        "duration": 239,
        "start_time": "2022-02-22T11:09:17.581Z"
      },
      {
        "duration": 11077,
        "start_time": "2022-02-24T07:36:25.543Z"
      },
      {
        "duration": 266,
        "start_time": "2022-02-24T07:36:36.622Z"
      },
      {
        "duration": 30,
        "start_time": "2022-02-24T07:36:36.890Z"
      },
      {
        "duration": 28,
        "start_time": "2022-02-24T07:36:36.922Z"
      },
      {
        "duration": 3,
        "start_time": "2022-02-24T07:36:36.952Z"
      },
      {
        "duration": 8,
        "start_time": "2022-02-24T07:36:36.957Z"
      },
      {
        "duration": 12,
        "start_time": "2022-02-24T07:36:36.967Z"
      },
      {
        "duration": 758,
        "start_time": "2022-02-24T07:36:36.982Z"
      },
      {
        "duration": 223,
        "start_time": "2022-02-24T07:36:37.742Z"
      },
      {
        "duration": 5,
        "start_time": "2022-02-24T07:36:37.966Z"
      },
      {
        "duration": 161,
        "start_time": "2022-02-24T07:36:37.973Z"
      },
      {
        "duration": 224,
        "start_time": "2022-02-24T07:36:38.136Z"
      },
      {
        "duration": 7,
        "start_time": "2022-02-24T07:36:38.363Z"
      },
      {
        "duration": 4,
        "start_time": "2022-02-24T07:36:38.372Z"
      },
      {
        "duration": 396,
        "start_time": "2022-02-24T07:36:38.378Z"
      },
      {
        "duration": -1206,
        "start_time": "2022-02-24T07:36:39.982Z"
      },
      {
        "duration": -1207,
        "start_time": "2022-02-24T07:36:39.984Z"
      },
      {
        "duration": -1246,
        "start_time": "2022-02-24T07:36:40.024Z"
      },
      {
        "duration": 4221,
        "start_time": "2022-02-24T07:36:52.830Z"
      },
      {
        "duration": 237,
        "start_time": "2022-02-24T07:37:03.816Z"
      },
      {
        "duration": 230,
        "start_time": "2022-02-24T07:37:05.673Z"
      },
      {
        "duration": 3,
        "start_time": "2022-02-24T07:38:57.022Z"
      },
      {
        "duration": 275,
        "start_time": "2022-02-24T07:38:58.735Z"
      },
      {
        "duration": 6,
        "start_time": "2022-02-24T07:39:27.984Z"
      },
      {
        "duration": 4,
        "start_time": "2022-02-24T07:39:41.445Z"
      },
      {
        "duration": 10,
        "start_time": "2022-02-24T07:45:56.146Z"
      },
      {
        "duration": 294,
        "start_time": "2022-02-24T07:47:00.019Z"
      },
      {
        "duration": 285,
        "start_time": "2022-02-24T07:48:17.191Z"
      },
      {
        "duration": 329,
        "start_time": "2022-02-24T07:51:00.690Z"
      },
      {
        "duration": 278,
        "start_time": "2022-02-24T07:51:29.945Z"
      },
      {
        "duration": 272,
        "start_time": "2022-02-24T07:51:55.056Z"
      },
      {
        "duration": 11,
        "start_time": "2022-02-24T07:52:17.108Z"
      },
      {
        "duration": 83532,
        "start_time": "2022-02-24T11:02:08.376Z"
      },
      {
        "duration": 50,
        "start_time": "2022-02-24T11:03:52.380Z"
      },
      {
        "duration": 30,
        "start_time": "2022-02-24T11:03:52.432Z"
      },
      {
        "duration": 34,
        "start_time": "2022-02-24T11:03:52.464Z"
      },
      {
        "duration": 19,
        "start_time": "2022-02-24T11:03:52.500Z"
      },
      {
        "duration": 11,
        "start_time": "2022-02-24T11:03:52.520Z"
      },
      {
        "duration": 13,
        "start_time": "2022-02-24T11:03:52.532Z"
      },
      {
        "duration": 387,
        "start_time": "2022-02-24T11:03:52.546Z"
      },
      {
        "duration": 257,
        "start_time": "2022-02-24T11:03:52.936Z"
      },
      {
        "duration": 5,
        "start_time": "2022-02-24T11:03:53.195Z"
      },
      {
        "duration": 214,
        "start_time": "2022-02-24T11:03:53.201Z"
      },
      {
        "duration": 353,
        "start_time": "2022-02-24T11:03:53.416Z"
      },
      {
        "duration": 8,
        "start_time": "2022-02-24T11:03:53.772Z"
      },
      {
        "duration": 30,
        "start_time": "2022-02-24T11:03:53.782Z"
      },
      {
        "duration": 9,
        "start_time": "2022-02-24T11:03:53.814Z"
      },
      {
        "duration": 27,
        "start_time": "2022-02-24T11:03:53.825Z"
      },
      {
        "duration": 316,
        "start_time": "2022-02-24T11:03:53.854Z"
      },
      {
        "duration": 18,
        "start_time": "2022-02-24T11:03:54.153Z"
      },
      {
        "duration": 17,
        "start_time": "2022-02-24T11:03:54.155Z"
      },
      {
        "duration": 15,
        "start_time": "2022-02-24T11:03:54.158Z"
      },
      {
        "duration": 7,
        "start_time": "2022-02-24T11:11:27.445Z"
      },
      {
        "duration": 4,
        "start_time": "2022-02-24T11:11:29.696Z"
      },
      {
        "duration": 1647,
        "start_time": "2022-02-24T11:11:36.976Z"
      },
      {
        "duration": 4,
        "start_time": "2022-02-24T11:21:37.382Z"
      },
      {
        "duration": 5,
        "start_time": "2022-02-24T11:21:40.233Z"
      },
      {
        "duration": 11,
        "start_time": "2022-02-24T11:21:45.849Z"
      },
      {
        "duration": 4,
        "start_time": "2022-02-24T11:22:59.201Z"
      },
      {
        "duration": 258,
        "start_time": "2022-02-24T11:23:19.633Z"
      },
      {
        "duration": 111899,
        "start_time": "2022-02-25T02:50:21.171Z"
      },
      {
        "duration": -165,
        "start_time": "2022-02-25T02:52:13.237Z"
      },
      {
        "duration": -176,
        "start_time": "2022-02-25T02:52:13.249Z"
      },
      {
        "duration": -206,
        "start_time": "2022-02-25T02:52:13.280Z"
      },
      {
        "duration": -256,
        "start_time": "2022-02-25T02:52:13.331Z"
      },
      {
        "duration": -257,
        "start_time": "2022-02-25T02:52:13.333Z"
      },
      {
        "duration": -261,
        "start_time": "2022-02-25T02:52:13.338Z"
      },
      {
        "duration": -267,
        "start_time": "2022-02-25T02:52:13.345Z"
      },
      {
        "duration": -272,
        "start_time": "2022-02-25T02:52:13.351Z"
      },
      {
        "duration": -273,
        "start_time": "2022-02-25T02:52:13.353Z"
      },
      {
        "duration": -316,
        "start_time": "2022-02-25T02:52:13.397Z"
      },
      {
        "duration": -318,
        "start_time": "2022-02-25T02:52:13.400Z"
      },
      {
        "duration": -319,
        "start_time": "2022-02-25T02:52:13.402Z"
      },
      {
        "duration": -320,
        "start_time": "2022-02-25T02:52:13.404Z"
      },
      {
        "duration": 3067,
        "start_time": "2022-02-25T02:53:10.018Z"
      },
      {
        "duration": 4,
        "start_time": "2022-02-25T02:53:37.936Z"
      },
      {
        "duration": 106,
        "start_time": "2022-02-25T02:53:40.964Z"
      },
      {
        "duration": 23,
        "start_time": "2022-02-25T02:53:46.698Z"
      },
      {
        "duration": 21,
        "start_time": "2022-02-25T02:54:01.609Z"
      },
      {
        "duration": 20,
        "start_time": "2022-02-25T02:54:48.657Z"
      },
      {
        "duration": 20,
        "start_time": "2022-02-25T02:55:05.601Z"
      },
      {
        "duration": 28,
        "start_time": "2022-02-25T02:55:16.576Z"
      },
      {
        "duration": 4,
        "start_time": "2022-02-25T02:55:23.851Z"
      },
      {
        "duration": 8,
        "start_time": "2022-02-25T02:55:28.710Z"
      },
      {
        "duration": 13,
        "start_time": "2022-02-25T02:55:31.488Z"
      },
      {
        "duration": 339,
        "start_time": "2022-02-25T02:55:48.232Z"
      },
      {
        "duration": 235,
        "start_time": "2022-02-25T02:55:51.096Z"
      },
      {
        "duration": 6,
        "start_time": "2022-02-25T02:55:54.785Z"
      },
      {
        "duration": 166,
        "start_time": "2022-02-25T02:55:56.264Z"
      },
      {
        "duration": 293,
        "start_time": "2022-02-25T02:55:58.839Z"
      },
      {
        "duration": 4,
        "start_time": "2022-02-25T02:56:02.023Z"
      },
      {
        "duration": 5,
        "start_time": "2022-02-25T02:56:03.375Z"
      },
      {
        "duration": 5,
        "start_time": "2022-02-25T02:56:49.715Z"
      },
      {
        "duration": 11,
        "start_time": "2022-02-25T02:59:29.015Z"
      },
      {
        "duration": 239,
        "start_time": "2022-02-25T03:19:12.582Z"
      },
      {
        "duration": 511,
        "start_time": "2022-02-25T03:39:05.368Z"
      },
      {
        "duration": 3,
        "start_time": "2022-02-25T03:40:00.349Z"
      },
      {
        "duration": 609,
        "start_time": "2022-02-25T03:40:48.368Z"
      },
      {
        "duration": 561,
        "start_time": "2022-02-25T03:41:31.832Z"
      },
      {
        "duration": 43,
        "start_time": "2022-02-25T03:43:54.744Z"
      },
      {
        "duration": 694,
        "start_time": "2022-02-25T03:43:59.463Z"
      },
      {
        "duration": 564,
        "start_time": "2022-02-25T03:44:19.767Z"
      },
      {
        "duration": 678,
        "start_time": "2022-02-25T03:45:56.496Z"
      },
      {
        "duration": 569,
        "start_time": "2022-02-25T03:46:17.518Z"
      },
      {
        "duration": 578,
        "start_time": "2022-02-25T03:46:27.018Z"
      },
      {
        "duration": 583,
        "start_time": "2022-02-25T03:46:38.373Z"
      },
      {
        "duration": 170,
        "start_time": "2022-02-25T04:00:38.553Z"
      },
      {
        "duration": 4,
        "start_time": "2022-02-25T04:05:39.145Z"
      },
      {
        "duration": 33,
        "start_time": "2022-02-25T04:05:39.151Z"
      },
      {
        "duration": 22,
        "start_time": "2022-02-25T04:05:39.186Z"
      },
      {
        "duration": 34,
        "start_time": "2022-02-25T04:05:39.210Z"
      },
      {
        "duration": 4,
        "start_time": "2022-02-25T04:05:39.245Z"
      },
      {
        "duration": 10,
        "start_time": "2022-02-25T04:05:39.251Z"
      },
      {
        "duration": 13,
        "start_time": "2022-02-25T04:05:39.263Z"
      },
      {
        "duration": 365,
        "start_time": "2022-02-25T04:05:39.278Z"
      },
      {
        "duration": 230,
        "start_time": "2022-02-25T04:05:39.646Z"
      },
      {
        "duration": 7,
        "start_time": "2022-02-25T04:05:39.877Z"
      },
      {
        "duration": 192,
        "start_time": "2022-02-25T04:05:39.886Z"
      },
      {
        "duration": 259,
        "start_time": "2022-02-25T04:05:40.080Z"
      },
      {
        "duration": 4,
        "start_time": "2022-02-25T04:05:40.341Z"
      },
      {
        "duration": 5,
        "start_time": "2022-02-25T04:05:44.894Z"
      },
      {
        "duration": 3,
        "start_time": "2022-02-25T04:09:09.481Z"
      },
      {
        "duration": 2,
        "start_time": "2022-02-25T04:09:56.172Z"
      },
      {
        "duration": 174,
        "start_time": "2022-02-25T04:10:16.861Z"
      },
      {
        "duration": 5,
        "start_time": "2022-02-25T04:10:25.797Z"
      },
      {
        "duration": 6,
        "start_time": "2022-02-25T04:10:39.173Z"
      },
      {
        "duration": 146,
        "start_time": "2022-02-25T04:48:51.190Z"
      },
      {
        "duration": 4,
        "start_time": "2022-02-25T04:49:11.942Z"
      },
      {
        "duration": 3,
        "start_time": "2022-02-25T04:53:25.854Z"
      },
      {
        "duration": 523,
        "start_time": "2022-02-25T04:56:05.336Z"
      },
      {
        "duration": 536,
        "start_time": "2022-02-25T04:57:19.647Z"
      },
      {
        "duration": 3,
        "start_time": "2022-02-25T04:57:45.142Z"
      },
      {
        "duration": 3,
        "start_time": "2022-02-25T04:57:48.564Z"
      },
      {
        "duration": 529,
        "start_time": "2022-02-25T04:57:50.348Z"
      },
      {
        "duration": 673,
        "start_time": "2022-02-25T04:58:05.894Z"
      },
      {
        "duration": 517,
        "start_time": "2022-02-25T04:58:15.342Z"
      },
      {
        "duration": 540,
        "start_time": "2022-02-25T04:58:19.931Z"
      },
      {
        "duration": 5,
        "start_time": "2022-02-25T04:59:51.479Z"
      },
      {
        "duration": 752,
        "start_time": "2022-02-25T05:00:59.171Z"
      },
      {
        "duration": 325,
        "start_time": "2022-02-25T05:01:21.396Z"
      },
      {
        "duration": 1142,
        "start_time": "2022-02-25T05:01:43.195Z"
      },
      {
        "duration": 729,
        "start_time": "2022-02-25T05:01:49.308Z"
      },
      {
        "duration": 1029,
        "start_time": "2022-02-25T05:01:59.621Z"
      },
      {
        "duration": 313,
        "start_time": "2022-02-25T05:02:05.015Z"
      },
      {
        "duration": 158,
        "start_time": "2022-02-25T05:02:08.019Z"
      },
      {
        "duration": 299,
        "start_time": "2022-02-25T05:02:10.835Z"
      },
      {
        "duration": 1140,
        "start_time": "2022-02-25T05:02:24.722Z"
      },
      {
        "duration": 948,
        "start_time": "2022-02-25T05:02:29.600Z"
      },
      {
        "duration": 730,
        "start_time": "2022-02-25T05:02:43.186Z"
      },
      {
        "duration": 2146,
        "start_time": "2022-02-25T05:08:42.873Z"
      },
      {
        "duration": 2897,
        "start_time": "2022-02-25T05:09:07.238Z"
      },
      {
        "duration": 7,
        "start_time": "2022-02-25T05:13:43.001Z"
      },
      {
        "duration": 16485,
        "start_time": "2022-02-25T05:14:26.224Z"
      },
      {
        "duration": 1316,
        "start_time": "2022-02-25T05:18:06.927Z"
      },
      {
        "duration": 137,
        "start_time": "2022-02-25T05:22:31.243Z"
      },
      {
        "duration": 35204,
        "start_time": "2022-02-25T05:22:43.541Z"
      },
      {
        "duration": 1311,
        "start_time": "2022-02-25T05:24:13.412Z"
      },
      {
        "duration": 162,
        "start_time": "2022-02-25T05:28:33.642Z"
      },
      {
        "duration": 8,
        "start_time": "2022-02-25T05:29:40.786Z"
      },
      {
        "duration": 3,
        "start_time": "2022-02-25T05:30:09.722Z"
      },
      {
        "duration": 196,
        "start_time": "2022-02-25T05:30:12.018Z"
      },
      {
        "duration": 5,
        "start_time": "2022-02-25T05:30:33.026Z"
      },
      {
        "duration": 6,
        "start_time": "2022-02-25T05:30:43.462Z"
      },
      {
        "duration": 154,
        "start_time": "2022-02-25T05:31:05.498Z"
      },
      {
        "duration": 128,
        "start_time": "2022-02-25T05:31:14.395Z"
      },
      {
        "duration": 5,
        "start_time": "2022-02-25T05:40:18.336Z"
      },
      {
        "duration": 5,
        "start_time": "2022-02-25T05:40:20.534Z"
      },
      {
        "duration": 1277,
        "start_time": "2022-02-25T05:46:56.374Z"
      },
      {
        "duration": 8,
        "start_time": "2022-02-25T05:47:02.135Z"
      },
      {
        "duration": 3,
        "start_time": "2022-02-25T05:47:11.413Z"
      },
      {
        "duration": 6,
        "start_time": "2022-02-25T05:47:12.975Z"
      },
      {
        "duration": 6,
        "start_time": "2022-02-25T05:47:17.988Z"
      },
      {
        "duration": 132,
        "start_time": "2022-02-25T05:47:23.781Z"
      },
      {
        "duration": 123,
        "start_time": "2022-02-25T05:47:34.228Z"
      },
      {
        "duration": 5,
        "start_time": "2022-02-25T05:47:57.150Z"
      },
      {
        "duration": 3,
        "start_time": "2022-02-25T05:48:14.976Z"
      },
      {
        "duration": 212,
        "start_time": "2022-02-25T05:48:21.478Z"
      },
      {
        "duration": 255,
        "start_time": "2022-02-25T05:48:27.957Z"
      },
      {
        "duration": 4,
        "start_time": "2022-02-25T05:50:53.026Z"
      },
      {
        "duration": 35,
        "start_time": "2022-02-25T05:50:53.032Z"
      },
      {
        "duration": 19,
        "start_time": "2022-02-25T05:50:53.069Z"
      },
      {
        "duration": 40,
        "start_time": "2022-02-25T05:50:53.090Z"
      },
      {
        "duration": 3,
        "start_time": "2022-02-25T05:50:53.132Z"
      },
      {
        "duration": 12,
        "start_time": "2022-02-25T05:50:53.137Z"
      },
      {
        "duration": 13,
        "start_time": "2022-02-25T05:50:53.153Z"
      },
      {
        "duration": 425,
        "start_time": "2022-02-25T05:50:53.168Z"
      },
      {
        "duration": 250,
        "start_time": "2022-02-25T05:50:53.595Z"
      },
      {
        "duration": 5,
        "start_time": "2022-02-25T05:50:53.847Z"
      },
      {
        "duration": 181,
        "start_time": "2022-02-25T05:50:53.854Z"
      },
      {
        "duration": 246,
        "start_time": "2022-02-25T05:50:54.036Z"
      },
      {
        "duration": 4,
        "start_time": "2022-02-25T05:50:54.283Z"
      },
      {
        "duration": 6,
        "start_time": "2022-02-25T05:50:54.288Z"
      },
      {
        "duration": 3,
        "start_time": "2022-02-25T05:50:54.296Z"
      },
      {
        "duration": 5,
        "start_time": "2022-02-25T05:50:54.300Z"
      },
      {
        "duration": 3,
        "start_time": "2022-02-25T05:50:54.330Z"
      },
      {
        "duration": 757,
        "start_time": "2022-02-25T05:50:54.334Z"
      },
      {
        "duration": 16730,
        "start_time": "2022-02-25T05:50:55.093Z"
      },
      {
        "duration": 9,
        "start_time": "2022-02-25T05:51:11.825Z"
      },
      {
        "duration": 1328,
        "start_time": "2022-02-25T05:51:11.836Z"
      },
      {
        "duration": 1722,
        "start_time": "2022-02-25T13:56:23.617Z"
      },
      {
        "duration": 377,
        "start_time": "2022-02-25T13:56:25.341Z"
      },
      {
        "duration": 31,
        "start_time": "2022-02-25T13:56:25.720Z"
      },
      {
        "duration": 30,
        "start_time": "2022-02-25T13:56:29.898Z"
      },
      {
        "duration": 4,
        "start_time": "2022-02-25T13:56:31.841Z"
      },
      {
        "duration": 10,
        "start_time": "2022-02-25T13:58:00.210Z"
      },
      {
        "duration": 14,
        "start_time": "2022-02-25T13:58:01.476Z"
      },
      {
        "duration": 438,
        "start_time": "2022-02-25T13:58:01.993Z"
      },
      {
        "duration": 317,
        "start_time": "2022-02-25T13:58:02.434Z"
      },
      {
        "duration": 6,
        "start_time": "2022-02-25T13:58:02.967Z"
      },
      {
        "duration": 220,
        "start_time": "2022-02-25T13:58:03.151Z"
      },
      {
        "duration": 378,
        "start_time": "2022-02-25T13:58:03.373Z"
      },
      {
        "duration": 4,
        "start_time": "2022-02-25T13:58:04.171Z"
      },
      {
        "duration": 6,
        "start_time": "2022-02-25T13:58:04.325Z"
      },
      {
        "duration": 3,
        "start_time": "2022-02-25T13:58:04.841Z"
      },
      {
        "duration": 6,
        "start_time": "2022-02-25T13:58:05.345Z"
      },
      {
        "duration": 2,
        "start_time": "2022-02-25T13:58:05.675Z"
      },
      {
        "duration": 938,
        "start_time": "2022-02-25T13:58:05.832Z"
      },
      {
        "duration": 18839,
        "start_time": "2022-02-25T13:58:06.773Z"
      },
      {
        "duration": 7,
        "start_time": "2022-02-25T13:58:25.614Z"
      },
      {
        "duration": 1528,
        "start_time": "2022-02-25T13:58:25.623Z"
      },
      {
        "duration": 56293,
        "start_time": "2022-02-25T13:58:27.153Z"
      },
      {
        "duration": 1506,
        "start_time": "2022-02-25T13:59:29.407Z"
      },
      {
        "duration": 3,
        "start_time": "2022-02-25T13:59:36.239Z"
      },
      {
        "duration": 313,
        "start_time": "2022-02-25T13:59:36.986Z"
      }
    ],
    "kernelspec": {
      "display_name": "Python 3 (ipykernel)",
      "language": "python",
      "name": "python3"
    },
    "language_info": {
      "codemirror_mode": {
        "name": "ipython",
        "version": 3
      },
      "file_extension": ".py",
      "mimetype": "text/x-python",
      "name": "python",
      "nbconvert_exporter": "python",
      "pygments_lexer": "ipython3",
      "version": "3.9.5"
    },
    "toc": {
      "base_numbering": 1,
      "nav_menu": {},
      "number_sections": true,
      "sideBar": true,
      "skip_h1_title": true,
      "title_cell": "Содержание",
      "title_sidebar": "Contents",
      "toc_cell": true,
      "toc_position": {
        "height": "calc(100% - 180px)",
        "left": "10px",
        "top": "150px",
        "width": "383.984px"
      },
      "toc_section_display": true,
      "toc_window_display": true
    },
    "colab": {
      "provenance": []
    }
  },
  "nbformat": 4,
  "nbformat_minor": 0
}